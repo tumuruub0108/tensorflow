{
 "cells": [
  {
   "cell_type": "code",
   "execution_count": 3,
   "id": "c678bf97",
   "metadata": {},
   "outputs": [
    {
     "name": "stderr",
     "output_type": "stream",
     "text": [
      "[nltk_data] Downloading package punkt to /home/tumuruu/nltk_data...\n",
      "[nltk_data]   Package punkt is already up-to-date!\n",
      "[nltk_data] Downloading package stopwords to\n",
      "[nltk_data]     /home/tumuruu/nltk_data...\n",
      "[nltk_data]   Package stopwords is already up-to-date!\n",
      "[nltk_data] Downloading package wordnet to /home/tumuruu/nltk_data...\n",
      "[nltk_data]   Package wordnet is already up-to-date!\n"
     ]
    }
   ],
   "source": [
    "import pandas as pd\n",
    "import numpy as np\n",
    "import matplotlib.pyplot as plt\n",
    "import seaborn as sns\n",
    "\n",
    "import nltk\n",
    "nltk.download('punkt')\n",
    "from nltk.tokenize import word_tokenize\n",
    "nltk.download('stopwords')\n",
    "from nltk.corpus import stopwords\n",
    "nltk.download('wordnet')\n",
    "from nltk.stem import WordNetLemmatizer\n",
    "from wordcloud import WordCloud\n",
    "\n",
    "from sklearn.model_selection import train_test_split\n",
    "from sklearn.naive_bayes import MultinomialNB\n",
    "from sklearn.feature_extraction.text import CountVectorizer\n",
    "from sklearn.metrics import classification_report"
   ]
  },
  {
   "cell_type": "code",
   "execution_count": 4,
   "id": "9d7facfe",
   "metadata": {},
   "outputs": [],
   "source": [
    "train_df = pd.read_csv('../dataset/inj_train.csv', engine='python', on_bad_lines='skip')\n",
    "validation_df = pd.read_csv('../dataset/inj_validation.csv', engine='python', on_bad_lines='skip')\n",
    "test_df = pd.read_csv('../dataset/inj_test.csv', engine='python', on_bad_lines='skip')"
   ]
  },
  {
   "cell_type": "code",
   "execution_count": 22,
   "id": "f9c941b9",
   "metadata": {},
   "outputs": [
    {
     "name": "stdout",
     "output_type": "stream",
     "text": [
      "train_df: (98062, 2)\n",
      "validation_df: (32695, 2)\n",
      "test_df: (32696, 2)\n"
     ]
    }
   ],
   "source": [
    "print(\"train_df:\", train_df.shape)\n",
    "print(\"validation_df:\", validation_df.shape)\n",
    "print(\"test_df:\", test_df.shape)"
   ]
  },
  {
   "cell_type": "code",
   "execution_count": 41,
   "id": "4ef66fea",
   "metadata": {},
   "outputs": [
    {
     "data": {
      "text/plain": [
       "<bound method NDFrame.head of                                                    Query  Label\n",
       "0      The film 'Nightbreed' is one of the best horro...    0.0\n",
       "1      The story for Hare Rama Hare Krishna actually ...    0.0\n",
       "2      1\" where 6347 = 6347 union all select null,nul...    1.0\n",
       "3      jk dv1z0r39am1wjiiumia9xrxdowuo87f 110dcc d0ej...    1.0\n",
       "4      1'||  (  select 'fdkl' where 4572  =  4572 uni...    1.0\n",
       "...                                                  ...    ...\n",
       "98080  ' AND 1 = utl_inaddr.get_host_address  (  (  S...    1.0\n",
       "98081   Helping others live happier lives , fulfillin...    0.0\n",
       "98082  5ztkbtqnucwg543j5o4ecei312iqwljhhs2sdr6byclq37...    1.0\n",
       "98083                              isabel la catolica, 5    0.0\n",
       "98084  0o1\"   )    ) \\t \\t[)   Or (SeLecT (SELEcT (SE...    1.0\n",
       "\n",
       "[98062 rows x 2 columns]>"
      ]
     },
     "execution_count": 41,
     "metadata": {},
     "output_type": "execute_result"
    }
   ],
   "source": [
    "train_df.head\n"
   ]
  },
  {
   "cell_type": "code",
   "execution_count": 20,
   "id": "5aaca7e1",
   "metadata": {},
   "outputs": [
    {
     "name": "stdout",
     "output_type": "stream",
     "text": [
      "train_df:\n",
      " Query     0\n",
      "Label    23\n",
      "dtype: int64\n",
      "validation_df\n",
      " Query    0\n",
      "Label    8\n",
      "dtype: int64\n",
      "test_df\n",
      " Query    0\n",
      "Label    8\n",
      "dtype: int64\n"
     ]
    }
   ],
   "source": [
    "print(\"train_df:\\n\", train_df.isnull().sum())\n",
    "print(\"validation_df\\n\", validation_df.isnull().sum())\n",
    "print(\"test_df\\n\", test_df.isnull().sum())"
   ]
  },
  {
   "cell_type": "code",
   "execution_count": 34,
   "id": "d35898fc",
   "metadata": {},
   "outputs": [],
   "source": [
    "train_df = train_df[~train_df['Label'].isnull()]\n",
    "validation_df = validation_df[~validation_df['Label'].isnull()]\n",
    "test_df = test_df[~test_df['Label'].isnull()]"
   ]
  },
  {
   "cell_type": "code",
   "execution_count": 35,
   "id": "b17d3c5a",
   "metadata": {},
   "outputs": [
    {
     "name": "stdout",
     "output_type": "stream",
     "text": [
      "train:\n",
      " (98062, 2)\n",
      "trvalidation_dfain:\n",
      " (32687, 2)\n",
      "test_df:\n",
      " (32688, 2)\n"
     ]
    }
   ],
   "source": [
    "print(\"train:\\n\", train_df.shape)\n",
    "print(\"trvalidation_dfain:\\n\", validation_df.shape)\n",
    "print(\"test_df:\\n\", test_df.shape)"
   ]
  },
  {
   "cell_type": "code",
   "execution_count": 38,
   "id": "db58151b",
   "metadata": {},
   "outputs": [
    {
     "name": "stdout",
     "output_type": "stream",
     "text": [
      "Label\n",
      "0.0    51377\n",
      "1.0    46685\n",
      "Name: count, dtype: int64\n",
      "Label\n",
      "0.0    17115\n",
      "1.0    15572\n",
      "Name: count, dtype: int64\n",
      "Label\n",
      "0.0    17194\n",
      "1.0    15494\n",
      "Name: count, dtype: int64\n"
     ]
    }
   ],
   "source": [
    "# Check the distribution of targer column\n",
    "print(train_df['Label'].value_counts())\n",
    "print(validation_df['Label'].value_counts())\n",
    "print(test_df['Label'].value_counts())"
   ]
  },
  {
   "cell_type": "code",
   "execution_count": 40,
   "id": "b19c4c01",
   "metadata": {},
   "outputs": [],
   "source": [
    "# Create a copy of the original data\n",
    "train_df_processed = train_df.copy()\n",
    "validation_df_processed = validation_df.copy()\n",
    "test_df_processed = test_df.copy()"
   ]
  },
  {
   "cell_type": "code",
   "execution_count": 43,
   "id": "0a263969",
   "metadata": {},
   "outputs": [],
   "source": [
    "train_df_processed['Query'] = train_df_processed['Query'].str.lower()\n",
    "validation_df_processed['Query'] = validation_df_processed['Query'].str.lower()\n",
    "test_df_processed['Query'] = test_df_processed['Query'].str.lower()"
   ]
  },
  {
   "cell_type": "code",
   "execution_count": 44,
   "id": "34ccd245",
   "metadata": {},
   "outputs": [
    {
     "data": {
      "text/html": [
       "<div>\n",
       "<style scoped>\n",
       "    .dataframe tbody tr th:only-of-type {\n",
       "        vertical-align: middle;\n",
       "    }\n",
       "\n",
       "    .dataframe tbody tr th {\n",
       "        vertical-align: top;\n",
       "    }\n",
       "\n",
       "    .dataframe thead th {\n",
       "        text-align: right;\n",
       "    }\n",
       "</style>\n",
       "<table border=\"1\" class=\"dataframe\">\n",
       "  <thead>\n",
       "    <tr style=\"text-align: right;\">\n",
       "      <th></th>\n",
       "      <th>Query</th>\n",
       "      <th>Label</th>\n",
       "    </tr>\n",
       "  </thead>\n",
       "  <tbody>\n",
       "    <tr>\n",
       "      <th>0</th>\n",
       "      <td>the film 'nightbreed' is one of the best horro...</td>\n",
       "      <td>0.0</td>\n",
       "    </tr>\n",
       "    <tr>\n",
       "      <th>1</th>\n",
       "      <td>the story for hare rama hare krishna actually ...</td>\n",
       "      <td>0.0</td>\n",
       "    </tr>\n",
       "    <tr>\n",
       "      <th>2</th>\n",
       "      <td>1\" where 6347 = 6347 union all select null,nul...</td>\n",
       "      <td>1.0</td>\n",
       "    </tr>\n",
       "    <tr>\n",
       "      <th>3</th>\n",
       "      <td>jk dv1z0r39am1wjiiumia9xrxdowuo87f 110dcc d0ej...</td>\n",
       "      <td>1.0</td>\n",
       "    </tr>\n",
       "    <tr>\n",
       "      <th>4</th>\n",
       "      <td>1'||  (  select 'fdkl' where 4572  =  4572 uni...</td>\n",
       "      <td>1.0</td>\n",
       "    </tr>\n",
       "  </tbody>\n",
       "</table>\n",
       "</div>"
      ],
      "text/plain": [
       "                                               Query  Label\n",
       "0  the film 'nightbreed' is one of the best horro...    0.0\n",
       "1  the story for hare rama hare krishna actually ...    0.0\n",
       "2  1\" where 6347 = 6347 union all select null,nul...    1.0\n",
       "3  jk dv1z0r39am1wjiiumia9xrxdowuo87f 110dcc d0ej...    1.0\n",
       "4  1'||  (  select 'fdkl' where 4572  =  4572 uni...    1.0"
      ]
     },
     "execution_count": 44,
     "metadata": {},
     "output_type": "execute_result"
    }
   ],
   "source": [
    "train_df_processed.head()"
   ]
  },
  {
   "cell_type": "code",
   "execution_count": null,
   "id": "4563ae23",
   "metadata": {},
   "outputs": [],
   "source": []
  }
 ],
 "metadata": {
  "kernelspec": {
   "display_name": "venv",
   "language": "python",
   "name": "python3"
  },
  "language_info": {
   "codemirror_mode": {
    "name": "ipython",
    "version": 3
   },
   "file_extension": ".py",
   "mimetype": "text/x-python",
   "name": "python",
   "nbconvert_exporter": "python",
   "pygments_lexer": "ipython3",
   "version": "3.12.3"
  }
 },
 "nbformat": 4,
 "nbformat_minor": 5
}
