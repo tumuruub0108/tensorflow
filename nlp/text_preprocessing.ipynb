{
 "cells": [
  {
   "cell_type": "markdown",
   "id": "09ea5449",
   "metadata": {},
   "source": [
    "# 1. Case Conversion"
   ]
  },
  {
   "cell_type": "code",
   "execution_count": 1,
   "id": "b015423b",
   "metadata": {},
   "outputs": [],
   "source": [
    "# Input text\n",
    "input_text = \"HeLLo, WoRld\""
   ]
  },
  {
   "cell_type": "code",
   "execution_count": 2,
   "id": "5b592842",
   "metadata": {},
   "outputs": [],
   "source": [
    "# Convert to lower case\n",
    "lower_case = input_text.lower()\n"
   ]
  },
  {
   "cell_type": "code",
   "execution_count": 3,
   "id": "8ddaaa31",
   "metadata": {},
   "outputs": [],
   "source": [
    "# convert to upper case\n",
    "upper_case = input_text.upper()\n"
   ]
  },
  {
   "cell_type": "code",
   "execution_count": 4,
   "id": "5d9ac93a",
   "metadata": {},
   "outputs": [],
   "source": [
    "# convert to title case\n",
    "title_case = input_text.title()\n"
   ]
  },
  {
   "cell_type": "code",
   "execution_count": 5,
   "id": "bd7a3a69",
   "metadata": {},
   "outputs": [
    {
     "name": "stdout",
     "output_type": "stream",
     "text": [
      "Original Text: HeLLo, WoRld\n",
      "lower_case: hello, world\n",
      "upper_case: HELLO, WORLD\n",
      "title_case: Hello, World\n"
     ]
    }
   ],
   "source": [
    "# print the original and converted texts\n",
    "print(\"Original Text:\", input_text)\n",
    "print(\"lower_case:\", lower_case)\n",
    "print(\"upper_case:\", upper_case)\n",
    "print(\"title_case:\", title_case)"
   ]
  },
  {
   "cell_type": "markdown",
   "id": "7cd23743",
   "metadata": {},
   "source": [
    "# 2. Removing Unwanted Patters"
   ]
  },
  {
   "cell_type": "code",
   "execution_count": 6,
   "id": "1cba1c15",
   "metadata": {},
   "outputs": [],
   "source": [
    "import re"
   ]
  },
  {
   "cell_type": "code",
   "execution_count": 7,
   "id": "6d03b080",
   "metadata": {},
   "outputs": [],
   "source": [
    "text1 = \"Check out this website: https://helloworld.com. #NLP@123\""
   ]
  },
  {
   "cell_type": "code",
   "execution_count": 8,
   "id": "e022c89b",
   "metadata": {},
   "outputs": [
    {
     "name": "stdout",
     "output_type": "stream",
     "text": [
      "Check out this website:  #NLP@123\n"
     ]
    }
   ],
   "source": [
    "# Remove URLs from the text using regular expression\n",
    "cleaned_text = re.sub(r'https\\S+', '', text1)\n",
    "print(cleaned_text)"
   ]
  },
  {
   "cell_type": "code",
   "execution_count": 9,
   "id": "55498f6e",
   "metadata": {},
   "outputs": [
    {
     "name": "stdout",
     "output_type": "stream",
     "text": [
      "Check out this website  NLP\n"
     ]
    }
   ],
   "source": [
    "# Remove non-alphabetical characters and keep spaces using regular expression\n",
    "cleaned_text = re.sub(r'[^a-zA-Z\\s]','', cleaned_text)\n",
    "print(cleaned_text)\n"
   ]
  },
  {
   "cell_type": "code",
   "execution_count": 10,
   "id": "b96a7736",
   "metadata": {},
   "outputs": [
    {
     "name": "stdout",
     "output_type": "stream",
     "text": [
      "Check out this website NLP\n"
     ]
    }
   ],
   "source": [
    "# Replace multiple spaces with a single space\n",
    "cleaned_text = re.sub(r'\\s+', ' ', cleaned_text)\n",
    "print(cleaned_text)"
   ]
  },
  {
   "cell_type": "markdown",
   "id": "9a147608",
   "metadata": {},
   "source": [
    "# 3. Eliminating Specific Patterns\n"
   ]
  },
  {
   "cell_type": "code",
   "execution_count": 11,
   "id": "0cda9fd7",
   "metadata": {},
   "outputs": [],
   "source": [
    "import re"
   ]
  },
  {
   "cell_type": "code",
   "execution_count": 12,
   "id": "4a526760",
   "metadata": {},
   "outputs": [],
   "source": [
    "# Input text containing various patterns\n",
    "text2 = \"RT @john: Click on this link: https://example.com. #NLP #coding\""
   ]
  },
  {
   "cell_type": "code",
   "execution_count": 13,
   "id": "d6103d82",
   "metadata": {},
   "outputs": [],
   "source": [
    "# Define patterns to eliminate\n",
    "patterns_to_eliminate = [r'RT', r'@[^\\s]+', r'#\\w+']"
   ]
  },
  {
   "cell_type": "code",
   "execution_count": 14,
   "id": "4ce64c36",
   "metadata": {},
   "outputs": [],
   "source": [
    "# Loop through patterns and eliminate them from the text\n",
    "cleaned_text = text2\n",
    "\n",
    "for pattern in patterns_to_eliminate:\n",
    "    cleaned_text = re.sub(pattern, '', cleaned_text)\n"
   ]
  },
  {
   "cell_type": "code",
   "execution_count": 15,
   "id": "dd3c19f0",
   "metadata": {},
   "outputs": [],
   "source": [
    "# Remove extra spaces caused by pattern removal\n",
    "cleaned_text = re.sub(r'\\s+', ' ', cleaned_text).strip()"
   ]
  },
  {
   "cell_type": "code",
   "execution_count": 16,
   "id": "feb5602a",
   "metadata": {},
   "outputs": [
    {
     "name": "stdout",
     "output_type": "stream",
     "text": [
      "Click on this link: https://example.com.\n"
     ]
    }
   ],
   "source": [
    "# Print the cleaned text\n",
    "print(cleaned_text)"
   ]
  },
  {
   "cell_type": "markdown",
   "id": "f6459792",
   "metadata": {},
   "source": [
    "# 4. Tokenization\n"
   ]
  },
  {
   "cell_type": "code",
   "execution_count": 40,
   "id": "f835cc35",
   "metadata": {},
   "outputs": [
    {
     "name": "stderr",
     "output_type": "stream",
     "text": [
      "[nltk_data] Downloading package punkt_tab to\n",
      "[nltk_data]     /home/tumuruu/nltk_data...\n",
      "[nltk_data]   Unzipping tokenizers/punkt_tab.zip.\n"
     ]
    },
    {
     "data": {
      "text/plain": [
       "True"
      ]
     },
     "execution_count": 40,
     "metadata": {},
     "output_type": "execute_result"
    }
   ],
   "source": [
    "from nltk.tokenize import word_tokenize\n",
    "import nltk\n",
    "nltk.download('punkt_tab')"
   ]
  },
  {
   "cell_type": "code",
   "execution_count": 41,
   "id": "e08fddf0",
   "metadata": {},
   "outputs": [],
   "source": [
    "def tokenize(text):\n",
    "    tokens = word_tokenize(text)\n",
    "    return tokens"
   ]
  },
  {
   "cell_type": "code",
   "execution_count": 42,
   "id": "21121da3",
   "metadata": {},
   "outputs": [],
   "source": [
    "text3 = \"Can you check if tokenization is different from .split()\""
   ]
  },
  {
   "cell_type": "code",
   "execution_count": 43,
   "id": "94420861",
   "metadata": {},
   "outputs": [
    {
     "name": "stdout",
     "output_type": "stream",
     "text": [
      ".split() output: ['Can', 'you', 'check', 'if', 'tokenization', 'is', 'different', 'from', '.split()']\n",
      "Tokenization output: ['Can', 'you', 'check', 'if', 'tokenization', 'is', 'different', 'from', '.split', '(', ')']\n"
     ]
    }
   ],
   "source": [
    "tokens = tokenize(text3)\n",
    "print(\".split() output:\", text3.split())\n",
    "print(\"Tokenization output:\", tokens)\n"
   ]
  },
  {
   "cell_type": "markdown",
   "id": "7cc40155",
   "metadata": {},
   "source": [
    "# 5. Stopwords"
   ]
  },
  {
   "cell_type": "code",
   "execution_count": 45,
   "id": "d0adccae",
   "metadata": {},
   "outputs": [],
   "source": [
    "from nltk.corpus import stopwords"
   ]
  },
  {
   "cell_type": "markdown",
   "id": "36a4cfd4",
   "metadata": {},
   "source": [
    "stopwords\n",
    "\n",
    "articles: the, a, an\n",
    "\n",
    "pronouns\n",
    "prepositions"
   ]
  },
  {
   "cell_type": "code",
   "execution_count": 46,
   "id": "042f39ae",
   "metadata": {},
   "outputs": [
    {
     "name": "stderr",
     "output_type": "stream",
     "text": [
      "[nltk_data] Downloading package stopwords to\n",
      "[nltk_data]     /home/tumuruu/nltk_data...\n",
      "[nltk_data]   Package stopwords is already up-to-date!\n"
     ]
    },
    {
     "data": {
      "text/plain": [
       "True"
      ]
     },
     "execution_count": 46,
     "metadata": {},
     "output_type": "execute_result"
    }
   ],
   "source": [
    "# Download the NLTK stopwords dataset\n",
    "nltk.download('stopwords')"
   ]
  },
  {
   "cell_type": "code",
   "execution_count": 49,
   "id": "fc08848d",
   "metadata": {},
   "outputs": [
    {
     "name": "stdout",
     "output_type": "stream",
     "text": [
      "['a', 'about', 'above', 'after', 'again', 'against', 'ain', 'all', 'am', 'an', 'and', 'any', 'are', 'aren', \"aren't\", 'as', 'at', 'be', 'because', 'been', 'before', 'being', 'below', 'between', 'both', 'but', 'by', 'can', 'couldn', \"couldn't\", 'd', 'did', 'didn', \"didn't\", 'do', 'does', 'doesn', \"doesn't\", 'doing', 'don', \"don't\", 'down', 'during', 'each', 'few', 'for', 'from', 'further', 'had', 'hadn', \"hadn't\", 'has', 'hasn', \"hasn't\", 'have', 'haven', \"haven't\", 'having', 'he', \"he'd\", \"he'll\", 'her', 'here', 'hers', 'herself', \"he's\", 'him', 'himself', 'his', 'how', 'i', \"i'd\", 'if', \"i'll\", \"i'm\", 'in', 'into', 'is', 'isn', \"isn't\", 'it', \"it'd\", \"it'll\", \"it's\", 'its', 'itself', \"i've\", 'just', 'll', 'm', 'ma', 'me', 'mightn', \"mightn't\", 'more', 'most', 'mustn', \"mustn't\", 'my', 'myself', 'needn', \"needn't\", 'no', 'nor', 'not', 'now', 'o', 'of', 'off', 'on', 'once', 'only', 'or', 'other', 'our', 'ours', 'ourselves', 'out', 'over', 'own', 're', 's', 'same', 'shan', \"shan't\", 'she', \"she'd\", \"she'll\", \"she's\", 'should', 'shouldn', \"shouldn't\", \"should've\", 'so', 'some', 'such', 't', 'than', 'that', \"that'll\", 'the', 'their', 'theirs', 'them', 'themselves', 'then', 'there', 'these', 'they', \"they'd\", \"they'll\", \"they're\", \"they've\", 'this', 'those', 'through', 'to', 'too', 'under', 'until', 'up', 've', 'very', 'was', 'wasn', \"wasn't\", 'we', \"we'd\", \"we'll\", \"we're\", 'were', 'weren', \"weren't\", \"we've\", 'what', 'when', 'where', 'which', 'while', 'who', 'whom', 'why', 'will', 'with', 'won', \"won't\", 'wouldn', \"wouldn't\", 'y', 'you', \"you'd\", \"you'll\", 'your', \"you're\", 'yours', 'yourself', 'yourselves', \"you've\"]\n"
     ]
    }
   ],
   "source": [
    "stop_words = stopwords.words('english')\n",
    "print(stop_words)"
   ]
  },
  {
   "cell_type": "code",
   "execution_count": 51,
   "id": "096ef93d",
   "metadata": {},
   "outputs": [
    {
     "name": "stdout",
     "output_type": "stream",
     "text": [
      "original text: Hello, world! Welcome to text preprocessing. In this part, we are performing stopwords\n",
      "text after stopword removal: Hello, world! Welcome text preprocessing. part, performing stopwords\n"
     ]
    }
   ],
   "source": [
    "# input text\n",
    "text = \"Hello, world! Welcome to text preprocessing. In this part, we are performing stopwords\"\n",
    "\n",
    "# Remove English stopwords without tokenizing\n",
    "stop_words = set(stopwords.words('english'))\n",
    "filtered_text = ' '.join(word for word in text.split() if word.lower() not in stop_words)\n",
    "\n",
    "print(\"original text:\", text)\n",
    "print(\"text after stopword removal:\", filtered_text)"
   ]
  },
  {
   "cell_type": "markdown",
   "id": "e3d82672",
   "metadata": {},
   "source": [
    "# 6. Stemming"
   ]
  },
  {
   "cell_type": "code",
   "execution_count": 52,
   "id": "4a907569",
   "metadata": {},
   "outputs": [],
   "source": [
    "import nltk\n",
    "from nltk.stem import PorterStemmer, LancasterStemmer, SnowballStemmer"
   ]
  },
  {
   "cell_type": "markdown",
   "id": "bbdb24e8",
   "metadata": {},
   "source": [
    "## 6.1 Porter Stemmer"
   ]
  },
  {
   "cell_type": "code",
   "execution_count": 53,
   "id": "1afed5cc",
   "metadata": {},
   "outputs": [
    {
     "name": "stdout",
     "output_type": "stream",
     "text": [
      "Porter Stemmer: ['run', 'jump', 'swim', 'happi', 'quickli', 'talk', 'walk']\n"
     ]
    }
   ],
   "source": [
    "words = [\"running\", \"jumps\", \"swimming\", \"happiness\", \"quickly\", \"talked\", \"walking\"]\n",
    "porter = PorterStemmer()\n",
    "\n",
    "porter_stems = [porter.stem(word) for word in words]\n",
    "print(f'Porter Stemmer: {porter_stems}')"
   ]
  },
  {
   "cell_type": "markdown",
   "id": "102d1fd7",
   "metadata": {},
   "source": [
    "## 6.2 Lancaster Stemmer"
   ]
  },
  {
   "cell_type": "code",
   "execution_count": 54,
   "id": "22c96d74",
   "metadata": {},
   "outputs": [
    {
     "name": "stdout",
     "output_type": "stream",
     "text": [
      "Porter Stemmer: ['run', 'jump', 'swim', 'happy', 'quick', 'talk', 'walk']\n"
     ]
    }
   ],
   "source": [
    "words = [\"running\", \"jumps\", \"swimming\", \"happiness\", \"quickly\", \"talked\", \"walking\"]\n",
    "lancaster = LancasterStemmer()\n",
    "\n",
    "lancaster_stems = [lancaster.stem(word) for word in words]\n",
    "print(f'Porter Stemmer: {lancaster_stems}')"
   ]
  },
  {
   "cell_type": "markdown",
   "id": "009812d5",
   "metadata": {},
   "source": [
    "## 6.2 Snowball Stemmer"
   ]
  },
  {
   "cell_type": "code",
   "execution_count": 56,
   "id": "3cb99d17",
   "metadata": {},
   "outputs": [
    {
     "name": "stdout",
     "output_type": "stream",
     "text": [
      "Porter Stemmer: ['run', 'jump', 'swim', 'happi', 'quick', 'talk', 'walk']\n"
     ]
    }
   ],
   "source": [
    "words = [\"running\", \"jumps\", \"swimming\", \"happiness\", \"quickly\", \"talked\", \"walking\"]\n",
    "snow_ball = SnowballStemmer(\"english\")\n",
    "\n",
    "snow_ball_stems = [snow_ball.stem(word) for word in words]\n",
    "print(f'Porter Stemmer: {snow_ball_stems}')"
   ]
  },
  {
   "cell_type": "markdown",
   "id": "32ee8ce7",
   "metadata": {},
   "source": [
    "# 7. Lemmatization"
   ]
  },
  {
   "cell_type": "code",
   "execution_count": 59,
   "id": "5fe5e07f",
   "metadata": {},
   "outputs": [
    {
     "name": "stderr",
     "output_type": "stream",
     "text": [
      "[nltk_data] Downloading package wordnet to /home/tumuruu/nltk_data...\n",
      "[nltk_data]   Package wordnet is already up-to-date!\n"
     ]
    }
   ],
   "source": [
    "import nltk\n",
    "nltk.download(\"wordnet\")\n",
    "\n",
    "from nltk.stem import WordNetLemmatizer"
   ]
  },
  {
   "cell_type": "code",
   "execution_count": 64,
   "id": "5e2ea833",
   "metadata": {},
   "outputs": [],
   "source": [
    "lemma = WordNetLemmatizer()"
   ]
  },
  {
   "cell_type": "code",
   "execution_count": 62,
   "id": "a30a5404",
   "metadata": {},
   "outputs": [],
   "source": [
    "words = [\"running\", \"jumps\", \"swimming\", \"happiness\", \"quickly\", \"talked\", \"walking\"]"
   ]
  },
  {
   "cell_type": "code",
   "execution_count": 65,
   "id": "c737190f",
   "metadata": {},
   "outputs": [
    {
     "name": "stdout",
     "output_type": "stream",
     "text": [
      "['running', 'jump', 'swimming', 'happiness', 'quickly', 'talked', 'walking']\n"
     ]
    }
   ],
   "source": [
    "lemmatized_words = [lemma.lemmatize(word) for word in words]\n",
    "print(lemmatized_words)"
   ]
  },
  {
   "cell_type": "markdown",
   "id": "3fa05cce",
   "metadata": {},
   "source": [
    "# Word cloud"
   ]
  },
  {
   "cell_type": "code",
   "execution_count": 71,
   "id": "960a8d63",
   "metadata": {},
   "outputs": [],
   "source": [
    "from wordcloud import WordCloud\n",
    "import matplotlib.pyplot as plt"
   ]
  },
  {
   "cell_type": "code",
   "execution_count": 72,
   "id": "e59d9a4d",
   "metadata": {},
   "outputs": [],
   "source": [
    "def make_wordcloud(text):\n",
    "    # Generate a word cloud object\n",
    "    wordcloud = WordCloud(width=800, height=400, background_color='white', collocation_threshold=False, colormap='viridis').generate(text)\n",
    "    \n",
    "    \n",
    "    # Display the word cloud using matplotlib\n",
    "    plt.figure(figsize=(10,5))\n",
    "    plt.imshow(wordcloud, interpolation='bilinear')\n",
    "    plt.axis(\"off\")\n",
    "    plt.show()"
   ]
  },
  {
   "cell_type": "code",
   "execution_count": 73,
   "id": "ffb805e3",
   "metadata": {},
   "outputs": [
    {
     "data": {
      "image/png": "[encoded data removed]",
      "text/plain": [
       "<Figure size 1000x500 with 1 Axes>"
      ]
     },
     "metadata": {},
     "output_type": "display_data"
    }
   ],
   "source": [
    "text = \"Natural Language processing (NLP) is an interdisciplinary subfield of comuputer science\"\n",
    "make_wordcloud(text)"
   ]
  },
  {
   "cell_type": "markdown",
   "id": "51dea709",
   "metadata": {},
   "source": [
    "# Count Vectorizer"
   ]
  },
  {
   "cell_type": "code",
   "execution_count": 77,
   "id": "26d4362f",
   "metadata": {},
   "outputs": [],
   "source": [
    "from sklearn.feature_extraction.text import CountVectorizer\n",
    "import pandas as pd "
   ]
  },
  {
   "cell_type": "code",
   "execution_count": 79,
   "id": "1679db54",
   "metadata": {},
   "outputs": [],
   "source": [
    "# Example DataFrame \n",
    "data = {\n",
    "    \"review\": ['This product is great!', \"Not recommended. Terrible experience.\", \"Highly recommended. Amazing quality\"]\n",
    "}\n",
    "\n",
    "data = pd.DataFrame(data)"
   ]
  },
  {
   "cell_type": "code",
   "execution_count": 80,
   "id": "13865b28",
   "metadata": {},
   "outputs": [],
   "source": [
    "# Instantiate the CountVectorizer   \n",
    "vectorizer = CountVectorizer()"
   ]
  },
  {
   "cell_type": "code",
   "execution_count": 84,
   "id": "e7bd99b3",
   "metadata": {},
   "outputs": [
    {
     "name": "stdout",
     "output_type": "stream",
     "text": [
      "Original Dataframe:\n"
     ]
    },
    {
     "data": {
      "text/html": [
       "<div>\n",
       "<style scoped>\n",
       "    .dataframe tbody tr th:only-of-type {\n",
       "        vertical-align: middle;\n",
       "    }\n",
       "\n",
       "    .dataframe tbody tr th {\n",
       "        vertical-align: top;\n",
       "    }\n",
       "\n",
       "    .dataframe thead th {\n",
       "        text-align: right;\n",
       "    }\n",
       "</style>\n",
       "<table border=\"1\" class=\"dataframe\">\n",
       "  <thead>\n",
       "    <tr style=\"text-align: right;\">\n",
       "      <th></th>\n",
       "      <th>review</th>\n",
       "    </tr>\n",
       "  </thead>\n",
       "  <tbody>\n",
       "    <tr>\n",
       "      <th>0</th>\n",
       "      <td>This product is great!</td>\n",
       "    </tr>\n",
       "    <tr>\n",
       "      <th>1</th>\n",
       "      <td>Not recommended. Terrible experience.</td>\n",
       "    </tr>\n",
       "    <tr>\n",
       "      <th>2</th>\n",
       "      <td>Highly recommended. Amazing quality</td>\n",
       "    </tr>\n",
       "  </tbody>\n",
       "</table>\n",
       "</div>"
      ],
      "text/plain": [
       "                                  review\n",
       "0                 This product is great!\n",
       "1  Not recommended. Terrible experience.\n",
       "2    Highly recommended. Amazing quality"
      ]
     },
     "execution_count": 84,
     "metadata": {},
     "output_type": "execute_result"
    }
   ],
   "source": [
    "# Fit and transform the text data\n",
    "X = vectorizer.fit_transform(data['review'])\n",
    "\n",
    "# Convert the result to a Dataframe for better visualization\n",
    "df_count_vectorized = pd.DataFrame(X.toarray(), columns=vectorizer.get_feature_names_out())\n",
    "\n",
    "# Display the original DataFrame and the CountVectorizer result\n",
    "print(\"Original Dataframe:\")\n",
    "data\n"
   ]
  },
  {
   "cell_type": "code",
   "execution_count": 85,
   "id": "1ee2e5d4",
   "metadata": {},
   "outputs": [
    {
     "name": "stdout",
     "output_type": "stream",
     "text": [
      "Count Vectorizer Result:\n"
     ]
    },
    {
     "data": {
      "text/html": [
       "<div>\n",
       "<style scoped>\n",
       "    .dataframe tbody tr th:only-of-type {\n",
       "        vertical-align: middle;\n",
       "    }\n",
       "\n",
       "    .dataframe tbody tr th {\n",
       "        vertical-align: top;\n",
       "    }\n",
       "\n",
       "    .dataframe thead th {\n",
       "        text-align: right;\n",
       "    }\n",
       "</style>\n",
       "<table border=\"1\" class=\"dataframe\">\n",
       "  <thead>\n",
       "    <tr style=\"text-align: right;\">\n",
       "      <th></th>\n",
       "      <th>amazing</th>\n",
       "      <th>experience</th>\n",
       "      <th>great</th>\n",
       "      <th>highly</th>\n",
       "      <th>is</th>\n",
       "      <th>not</th>\n",
       "      <th>product</th>\n",
       "      <th>quality</th>\n",
       "      <th>recommended</th>\n",
       "      <th>terrible</th>\n",
       "      <th>this</th>\n",
       "    </tr>\n",
       "  </thead>\n",
       "  <tbody>\n",
       "    <tr>\n",
       "      <th>0</th>\n",
       "      <td>0</td>\n",
       "      <td>0</td>\n",
       "      <td>1</td>\n",
       "      <td>0</td>\n",
       "      <td>1</td>\n",
       "      <td>0</td>\n",
       "      <td>1</td>\n",
       "      <td>0</td>\n",
       "      <td>0</td>\n",
       "      <td>0</td>\n",
       "      <td>1</td>\n",
       "    </tr>\n",
       "    <tr>\n",
       "      <th>1</th>\n",
       "      <td>0</td>\n",
       "      <td>1</td>\n",
       "      <td>0</td>\n",
       "      <td>0</td>\n",
       "      <td>0</td>\n",
       "      <td>1</td>\n",
       "      <td>0</td>\n",
       "      <td>0</td>\n",
       "      <td>1</td>\n",
       "      <td>1</td>\n",
       "      <td>0</td>\n",
       "    </tr>\n",
       "    <tr>\n",
       "      <th>2</th>\n",
       "      <td>1</td>\n",
       "      <td>0</td>\n",
       "      <td>0</td>\n",
       "      <td>1</td>\n",
       "      <td>0</td>\n",
       "      <td>0</td>\n",
       "      <td>0</td>\n",
       "      <td>1</td>\n",
       "      <td>1</td>\n",
       "      <td>0</td>\n",
       "      <td>0</td>\n",
       "    </tr>\n",
       "  </tbody>\n",
       "</table>\n",
       "</div>"
      ],
      "text/plain": [
       "   amazing  experience  great  highly  ...  quality  recommended  terrible  this\n",
       "0        0           0      1       0  ...        0            0         0     1\n",
       "1        0           1      0       0  ...        0            1         1     0\n",
       "2        1           0      0       1  ...        1            1         0     0\n",
       "\n",
       "[3 rows x 11 columns]"
      ]
     },
     "execution_count": 85,
     "metadata": {},
     "output_type": "execute_result"
    }
   ],
   "source": [
    "print(\"Count Vectorizer Result:\")\n",
    "df_count_vectorized"
   ]
  },
  {
   "cell_type": "markdown",
   "id": "42f2ec3a",
   "metadata": {},
   "source": [
    "# TF-IDF"
   ]
  },
  {
   "cell_type": "code",
   "execution_count": 91,
   "id": "680e2f01",
   "metadata": {},
   "outputs": [],
   "source": [
    "from sklearn.feature_extraction.text import TfidfVectorizer\n",
    "import pandas as pd \n"
   ]
  },
  {
   "cell_type": "code",
   "execution_count": 87,
   "id": "64a3a962",
   "metadata": {},
   "outputs": [],
   "source": [
    "# Sample Document\n",
    "documents = [\n",
    "    \"Machine learning is a subfield of artificial intelligence that focuses on the development of algoritms and statistical models.\",\n",
    "    \"Natural language processing involves the interaction between computers and human language, enabling machines to understand, interpret and generate\",\n",
    "    \"Data science encompasses a range of techniques for extracting insights and knowledge from structured and unstructured data\",\n",
    "    \"Python is a versatile programming language commonly used in data science, machine learning, and web development\"\n",
    "]"
   ]
  },
  {
   "cell_type": "code",
   "execution_count": 88,
   "id": "f9740b05",
   "metadata": {},
   "outputs": [],
   "source": [
    "# step 1: Create a TF-IDF vectorizer\n",
    "vectorizer = TfidfVectorizer()"
   ]
  },
  {
   "cell_type": "code",
   "execution_count": 89,
   "id": "af312f78",
   "metadata": {},
   "outputs": [],
   "source": [
    "# step 2: Fit and transform the documents\n",
    "tfidf_matrix = vectorizer.fit_transform(documents)"
   ]
  },
  {
   "cell_type": "code",
   "execution_count": 90,
   "id": "0a569e66",
   "metadata": {},
   "outputs": [],
   "source": [
    "# step 3: Get feature names (words) and transform to a dense array\n",
    "feature_names = vectorizer.get_feature_names_out()\n",
    "dense_matrix = tfidf_matrix.todense()"
   ]
  },
  {
   "cell_type": "code",
   "execution_count": 93,
   "id": "f6f38b33",
   "metadata": {},
   "outputs": [
    {
     "data": {
      "text/html": [
       "<div>\n",
       "<style scoped>\n",
       "    .dataframe tbody tr th:only-of-type {\n",
       "        vertical-align: middle;\n",
       "    }\n",
       "\n",
       "    .dataframe tbody tr th {\n",
       "        vertical-align: top;\n",
       "    }\n",
       "\n",
       "    .dataframe thead th {\n",
       "        text-align: right;\n",
       "    }\n",
       "</style>\n",
       "<table border=\"1\" class=\"dataframe\">\n",
       "  <thead>\n",
       "    <tr style=\"text-align: right;\">\n",
       "      <th></th>\n",
       "      <th>algoritms</th>\n",
       "      <th>and</th>\n",
       "      <th>artificial</th>\n",
       "      <th>between</th>\n",
       "      <th>commonly</th>\n",
       "      <th>computers</th>\n",
       "      <th>data</th>\n",
       "      <th>development</th>\n",
       "      <th>enabling</th>\n",
       "      <th>encompasses</th>\n",
       "      <th>extracting</th>\n",
       "      <th>focuses</th>\n",
       "      <th>for</th>\n",
       "      <th>from</th>\n",
       "      <th>generate</th>\n",
       "      <th>human</th>\n",
       "      <th>in</th>\n",
       "      <th>insights</th>\n",
       "      <th>intelligence</th>\n",
       "      <th>interaction</th>\n",
       "      <th>interpret</th>\n",
       "      <th>involves</th>\n",
       "      <th>is</th>\n",
       "      <th>knowledge</th>\n",
       "      <th>language</th>\n",
       "      <th>learning</th>\n",
       "      <th>machine</th>\n",
       "      <th>machines</th>\n",
       "      <th>models</th>\n",
       "      <th>natural</th>\n",
       "      <th>of</th>\n",
       "      <th>on</th>\n",
       "      <th>processing</th>\n",
       "      <th>programming</th>\n",
       "      <th>python</th>\n",
       "      <th>range</th>\n",
       "      <th>science</th>\n",
       "      <th>statistical</th>\n",
       "      <th>structured</th>\n",
       "      <th>subfield</th>\n",
       "      <th>techniques</th>\n",
       "      <th>that</th>\n",
       "      <th>the</th>\n",
       "      <th>to</th>\n",
       "      <th>understand</th>\n",
       "      <th>unstructured</th>\n",
       "      <th>used</th>\n",
       "      <th>versatile</th>\n",
       "      <th>web</th>\n",
       "    </tr>\n",
       "  </thead>\n",
       "  <tbody>\n",
       "    <tr>\n",
       "      <th>0</th>\n",
       "      <td>0.259354</td>\n",
       "      <td>0.135342</td>\n",
       "      <td>0.259354</td>\n",
       "      <td>0.000000</td>\n",
       "      <td>0.000000</td>\n",
       "      <td>0.000000</td>\n",
       "      <td>0.000000</td>\n",
       "      <td>0.204478</td>\n",
       "      <td>0.000000</td>\n",
       "      <td>0.000000</td>\n",
       "      <td>0.000000</td>\n",
       "      <td>0.259354</td>\n",
       "      <td>0.000000</td>\n",
       "      <td>0.000000</td>\n",
       "      <td>0.000000</td>\n",
       "      <td>0.000000</td>\n",
       "      <td>0.000000</td>\n",
       "      <td>0.000000</td>\n",
       "      <td>0.259354</td>\n",
       "      <td>0.000000</td>\n",
       "      <td>0.000000</td>\n",
       "      <td>0.000000</td>\n",
       "      <td>0.204478</td>\n",
       "      <td>0.000000</td>\n",
       "      <td>0.000000</td>\n",
       "      <td>0.204478</td>\n",
       "      <td>0.204478</td>\n",
       "      <td>0.000000</td>\n",
       "      <td>0.259354</td>\n",
       "      <td>0.000000</td>\n",
       "      <td>0.408956</td>\n",
       "      <td>0.259354</td>\n",
       "      <td>0.000000</td>\n",
       "      <td>0.000000</td>\n",
       "      <td>0.000000</td>\n",
       "      <td>0.000000</td>\n",
       "      <td>0.000000</td>\n",
       "      <td>0.259354</td>\n",
       "      <td>0.000000</td>\n",
       "      <td>0.259354</td>\n",
       "      <td>0.000000</td>\n",
       "      <td>0.259354</td>\n",
       "      <td>0.204478</td>\n",
       "      <td>0.000000</td>\n",
       "      <td>0.000000</td>\n",
       "      <td>0.000000</td>\n",
       "      <td>0.000000</td>\n",
       "      <td>0.000000</td>\n",
       "      <td>0.000000</td>\n",
       "    </tr>\n",
       "    <tr>\n",
       "      <th>1</th>\n",
       "      <td>0.000000</td>\n",
       "      <td>0.251675</td>\n",
       "      <td>0.000000</td>\n",
       "      <td>0.241141</td>\n",
       "      <td>0.000000</td>\n",
       "      <td>0.241141</td>\n",
       "      <td>0.000000</td>\n",
       "      <td>0.000000</td>\n",
       "      <td>0.241141</td>\n",
       "      <td>0.000000</td>\n",
       "      <td>0.000000</td>\n",
       "      <td>0.000000</td>\n",
       "      <td>0.000000</td>\n",
       "      <td>0.000000</td>\n",
       "      <td>0.241141</td>\n",
       "      <td>0.241141</td>\n",
       "      <td>0.000000</td>\n",
       "      <td>0.000000</td>\n",
       "      <td>0.000000</td>\n",
       "      <td>0.241141</td>\n",
       "      <td>0.241141</td>\n",
       "      <td>0.241141</td>\n",
       "      <td>0.000000</td>\n",
       "      <td>0.000000</td>\n",
       "      <td>0.380236</td>\n",
       "      <td>0.000000</td>\n",
       "      <td>0.000000</td>\n",
       "      <td>0.241141</td>\n",
       "      <td>0.000000</td>\n",
       "      <td>0.241141</td>\n",
       "      <td>0.000000</td>\n",
       "      <td>0.000000</td>\n",
       "      <td>0.241141</td>\n",
       "      <td>0.000000</td>\n",
       "      <td>0.000000</td>\n",
       "      <td>0.000000</td>\n",
       "      <td>0.000000</td>\n",
       "      <td>0.000000</td>\n",
       "      <td>0.000000</td>\n",
       "      <td>0.000000</td>\n",
       "      <td>0.000000</td>\n",
       "      <td>0.000000</td>\n",
       "      <td>0.190118</td>\n",
       "      <td>0.241141</td>\n",
       "      <td>0.241141</td>\n",
       "      <td>0.000000</td>\n",
       "      <td>0.000000</td>\n",
       "      <td>0.000000</td>\n",
       "      <td>0.000000</td>\n",
       "    </tr>\n",
       "    <tr>\n",
       "      <th>2</th>\n",
       "      <td>0.000000</td>\n",
       "      <td>0.271120</td>\n",
       "      <td>0.000000</td>\n",
       "      <td>0.000000</td>\n",
       "      <td>0.000000</td>\n",
       "      <td>0.000000</td>\n",
       "      <td>0.409615</td>\n",
       "      <td>0.000000</td>\n",
       "      <td>0.000000</td>\n",
       "      <td>0.259772</td>\n",
       "      <td>0.259772</td>\n",
       "      <td>0.000000</td>\n",
       "      <td>0.259772</td>\n",
       "      <td>0.259772</td>\n",
       "      <td>0.000000</td>\n",
       "      <td>0.000000</td>\n",
       "      <td>0.000000</td>\n",
       "      <td>0.259772</td>\n",
       "      <td>0.000000</td>\n",
       "      <td>0.000000</td>\n",
       "      <td>0.000000</td>\n",
       "      <td>0.000000</td>\n",
       "      <td>0.000000</td>\n",
       "      <td>0.259772</td>\n",
       "      <td>0.000000</td>\n",
       "      <td>0.000000</td>\n",
       "      <td>0.000000</td>\n",
       "      <td>0.000000</td>\n",
       "      <td>0.000000</td>\n",
       "      <td>0.000000</td>\n",
       "      <td>0.204808</td>\n",
       "      <td>0.000000</td>\n",
       "      <td>0.000000</td>\n",
       "      <td>0.000000</td>\n",
       "      <td>0.000000</td>\n",
       "      <td>0.259772</td>\n",
       "      <td>0.204808</td>\n",
       "      <td>0.000000</td>\n",
       "      <td>0.259772</td>\n",
       "      <td>0.000000</td>\n",
       "      <td>0.259772</td>\n",
       "      <td>0.000000</td>\n",
       "      <td>0.000000</td>\n",
       "      <td>0.000000</td>\n",
       "      <td>0.000000</td>\n",
       "      <td>0.259772</td>\n",
       "      <td>0.000000</td>\n",
       "      <td>0.000000</td>\n",
       "      <td>0.000000</td>\n",
       "    </tr>\n",
       "    <tr>\n",
       "      <th>3</th>\n",
       "      <td>0.000000</td>\n",
       "      <td>0.153063</td>\n",
       "      <td>0.000000</td>\n",
       "      <td>0.000000</td>\n",
       "      <td>0.293314</td>\n",
       "      <td>0.000000</td>\n",
       "      <td>0.231252</td>\n",
       "      <td>0.231252</td>\n",
       "      <td>0.000000</td>\n",
       "      <td>0.000000</td>\n",
       "      <td>0.000000</td>\n",
       "      <td>0.000000</td>\n",
       "      <td>0.000000</td>\n",
       "      <td>0.000000</td>\n",
       "      <td>0.000000</td>\n",
       "      <td>0.000000</td>\n",
       "      <td>0.293314</td>\n",
       "      <td>0.000000</td>\n",
       "      <td>0.000000</td>\n",
       "      <td>0.000000</td>\n",
       "      <td>0.000000</td>\n",
       "      <td>0.000000</td>\n",
       "      <td>0.231252</td>\n",
       "      <td>0.000000</td>\n",
       "      <td>0.231252</td>\n",
       "      <td>0.231252</td>\n",
       "      <td>0.231252</td>\n",
       "      <td>0.000000</td>\n",
       "      <td>0.000000</td>\n",
       "      <td>0.000000</td>\n",
       "      <td>0.000000</td>\n",
       "      <td>0.000000</td>\n",
       "      <td>0.000000</td>\n",
       "      <td>0.293314</td>\n",
       "      <td>0.293314</td>\n",
       "      <td>0.000000</td>\n",
       "      <td>0.231252</td>\n",
       "      <td>0.000000</td>\n",
       "      <td>0.000000</td>\n",
       "      <td>0.000000</td>\n",
       "      <td>0.000000</td>\n",
       "      <td>0.000000</td>\n",
       "      <td>0.000000</td>\n",
       "      <td>0.000000</td>\n",
       "      <td>0.000000</td>\n",
       "      <td>0.000000</td>\n",
       "      <td>0.293314</td>\n",
       "      <td>0.293314</td>\n",
       "      <td>0.293314</td>\n",
       "    </tr>\n",
       "  </tbody>\n",
       "</table>\n",
       "</div>"
      ],
      "text/plain": [
       "   algoritms       and  artificial  ...      used  versatile       web\n",
       "0   0.259354  0.135342    0.259354  ...  0.000000   0.000000  0.000000\n",
       "1   0.000000  0.251675    0.000000  ...  0.000000   0.000000  0.000000\n",
       "2   0.000000  0.271120    0.000000  ...  0.000000   0.000000  0.000000\n",
       "3   0.000000  0.153063    0.000000  ...  0.293314   0.293314  0.293314\n",
       "\n",
       "[4 rows x 49 columns]"
      ]
     },
     "execution_count": 93,
     "metadata": {},
     "output_type": "execute_result"
    }
   ],
   "source": [
    "# step 4: Create a Dataframe for better visualization\n",
    "df_tfidf = pd.DataFrame(dense_matrix, columns=feature_names)\n",
    "df_tfidf"
   ]
  },
  {
   "cell_type": "code",
   "execution_count": 94,
   "id": "4759ab9d",
   "metadata": {},
   "outputs": [
    {
     "data": {
      "text/html": [
       "<div>\n",
       "<style scoped>\n",
       "    .dataframe tbody tr th:only-of-type {\n",
       "        vertical-align: middle;\n",
       "    }\n",
       "\n",
       "    .dataframe tbody tr th {\n",
       "        vertical-align: top;\n",
       "    }\n",
       "\n",
       "    .dataframe thead th {\n",
       "        text-align: right;\n",
       "    }\n",
       "</style>\n",
       "<table border=\"1\" class=\"dataframe\">\n",
       "  <thead>\n",
       "    <tr style=\"text-align: right;\">\n",
       "      <th></th>\n",
       "      <th>algoritms</th>\n",
       "      <th>and</th>\n",
       "      <th>artificial</th>\n",
       "      <th>between</th>\n",
       "      <th>commonly</th>\n",
       "      <th>computers</th>\n",
       "      <th>data</th>\n",
       "      <th>development</th>\n",
       "      <th>enabling</th>\n",
       "      <th>encompasses</th>\n",
       "      <th>extracting</th>\n",
       "      <th>focuses</th>\n",
       "      <th>for</th>\n",
       "      <th>from</th>\n",
       "      <th>generate</th>\n",
       "      <th>human</th>\n",
       "      <th>in</th>\n",
       "      <th>insights</th>\n",
       "      <th>intelligence</th>\n",
       "      <th>interaction</th>\n",
       "      <th>interpret</th>\n",
       "      <th>involves</th>\n",
       "      <th>is</th>\n",
       "      <th>knowledge</th>\n",
       "      <th>language</th>\n",
       "      <th>learning</th>\n",
       "      <th>machine</th>\n",
       "      <th>machines</th>\n",
       "      <th>models</th>\n",
       "      <th>natural</th>\n",
       "      <th>of</th>\n",
       "      <th>on</th>\n",
       "      <th>processing</th>\n",
       "      <th>programming</th>\n",
       "      <th>python</th>\n",
       "      <th>range</th>\n",
       "      <th>science</th>\n",
       "      <th>statistical</th>\n",
       "      <th>structured</th>\n",
       "      <th>subfield</th>\n",
       "      <th>techniques</th>\n",
       "      <th>that</th>\n",
       "      <th>the</th>\n",
       "      <th>to</th>\n",
       "      <th>understand</th>\n",
       "      <th>unstructured</th>\n",
       "      <th>used</th>\n",
       "      <th>versatile</th>\n",
       "      <th>web</th>\n",
       "    </tr>\n",
       "  </thead>\n",
       "  <tbody>\n",
       "    <tr>\n",
       "      <th>0</th>\n",
       "      <td>0.259354</td>\n",
       "      <td>0.135342</td>\n",
       "      <td>0.259354</td>\n",
       "      <td>0.000000</td>\n",
       "      <td>0.000000</td>\n",
       "      <td>0.000000</td>\n",
       "      <td>0.000000</td>\n",
       "      <td>0.204478</td>\n",
       "      <td>0.000000</td>\n",
       "      <td>0.000000</td>\n",
       "      <td>0.000000</td>\n",
       "      <td>0.259354</td>\n",
       "      <td>0.000000</td>\n",
       "      <td>0.000000</td>\n",
       "      <td>0.000000</td>\n",
       "      <td>0.000000</td>\n",
       "      <td>0.000000</td>\n",
       "      <td>0.000000</td>\n",
       "      <td>0.259354</td>\n",
       "      <td>0.000000</td>\n",
       "      <td>0.000000</td>\n",
       "      <td>0.000000</td>\n",
       "      <td>0.204478</td>\n",
       "      <td>0.000000</td>\n",
       "      <td>0.000000</td>\n",
       "      <td>0.204478</td>\n",
       "      <td>0.204478</td>\n",
       "      <td>0.000000</td>\n",
       "      <td>0.259354</td>\n",
       "      <td>0.000000</td>\n",
       "      <td>0.408956</td>\n",
       "      <td>0.259354</td>\n",
       "      <td>0.000000</td>\n",
       "      <td>0.000000</td>\n",
       "      <td>0.000000</td>\n",
       "      <td>0.000000</td>\n",
       "      <td>0.000000</td>\n",
       "      <td>0.259354</td>\n",
       "      <td>0.000000</td>\n",
       "      <td>0.259354</td>\n",
       "      <td>0.000000</td>\n",
       "      <td>0.259354</td>\n",
       "      <td>0.204478</td>\n",
       "      <td>0.000000</td>\n",
       "      <td>0.000000</td>\n",
       "      <td>0.000000</td>\n",
       "      <td>0.000000</td>\n",
       "      <td>0.000000</td>\n",
       "      <td>0.000000</td>\n",
       "    </tr>\n",
       "    <tr>\n",
       "      <th>1</th>\n",
       "      <td>0.000000</td>\n",
       "      <td>0.251675</td>\n",
       "      <td>0.000000</td>\n",
       "      <td>0.241141</td>\n",
       "      <td>0.000000</td>\n",
       "      <td>0.241141</td>\n",
       "      <td>0.000000</td>\n",
       "      <td>0.000000</td>\n",
       "      <td>0.241141</td>\n",
       "      <td>0.000000</td>\n",
       "      <td>0.000000</td>\n",
       "      <td>0.000000</td>\n",
       "      <td>0.000000</td>\n",
       "      <td>0.000000</td>\n",
       "      <td>0.241141</td>\n",
       "      <td>0.241141</td>\n",
       "      <td>0.000000</td>\n",
       "      <td>0.000000</td>\n",
       "      <td>0.000000</td>\n",
       "      <td>0.241141</td>\n",
       "      <td>0.241141</td>\n",
       "      <td>0.241141</td>\n",
       "      <td>0.000000</td>\n",
       "      <td>0.000000</td>\n",
       "      <td>0.380236</td>\n",
       "      <td>0.000000</td>\n",
       "      <td>0.000000</td>\n",
       "      <td>0.241141</td>\n",
       "      <td>0.000000</td>\n",
       "      <td>0.241141</td>\n",
       "      <td>0.000000</td>\n",
       "      <td>0.000000</td>\n",
       "      <td>0.241141</td>\n",
       "      <td>0.000000</td>\n",
       "      <td>0.000000</td>\n",
       "      <td>0.000000</td>\n",
       "      <td>0.000000</td>\n",
       "      <td>0.000000</td>\n",
       "      <td>0.000000</td>\n",
       "      <td>0.000000</td>\n",
       "      <td>0.000000</td>\n",
       "      <td>0.000000</td>\n",
       "      <td>0.190118</td>\n",
       "      <td>0.241141</td>\n",
       "      <td>0.241141</td>\n",
       "      <td>0.000000</td>\n",
       "      <td>0.000000</td>\n",
       "      <td>0.000000</td>\n",
       "      <td>0.000000</td>\n",
       "    </tr>\n",
       "    <tr>\n",
       "      <th>2</th>\n",
       "      <td>0.000000</td>\n",
       "      <td>0.271120</td>\n",
       "      <td>0.000000</td>\n",
       "      <td>0.000000</td>\n",
       "      <td>0.000000</td>\n",
       "      <td>0.000000</td>\n",
       "      <td>0.409615</td>\n",
       "      <td>0.000000</td>\n",
       "      <td>0.000000</td>\n",
       "      <td>0.259772</td>\n",
       "      <td>0.259772</td>\n",
       "      <td>0.000000</td>\n",
       "      <td>0.259772</td>\n",
       "      <td>0.259772</td>\n",
       "      <td>0.000000</td>\n",
       "      <td>0.000000</td>\n",
       "      <td>0.000000</td>\n",
       "      <td>0.259772</td>\n",
       "      <td>0.000000</td>\n",
       "      <td>0.000000</td>\n",
       "      <td>0.000000</td>\n",
       "      <td>0.000000</td>\n",
       "      <td>0.000000</td>\n",
       "      <td>0.259772</td>\n",
       "      <td>0.000000</td>\n",
       "      <td>0.000000</td>\n",
       "      <td>0.000000</td>\n",
       "      <td>0.000000</td>\n",
       "      <td>0.000000</td>\n",
       "      <td>0.000000</td>\n",
       "      <td>0.204808</td>\n",
       "      <td>0.000000</td>\n",
       "      <td>0.000000</td>\n",
       "      <td>0.000000</td>\n",
       "      <td>0.000000</td>\n",
       "      <td>0.259772</td>\n",
       "      <td>0.204808</td>\n",
       "      <td>0.000000</td>\n",
       "      <td>0.259772</td>\n",
       "      <td>0.000000</td>\n",
       "      <td>0.259772</td>\n",
       "      <td>0.000000</td>\n",
       "      <td>0.000000</td>\n",
       "      <td>0.000000</td>\n",
       "      <td>0.000000</td>\n",
       "      <td>0.259772</td>\n",
       "      <td>0.000000</td>\n",
       "      <td>0.000000</td>\n",
       "      <td>0.000000</td>\n",
       "    </tr>\n",
       "    <tr>\n",
       "      <th>3</th>\n",
       "      <td>0.000000</td>\n",
       "      <td>0.153063</td>\n",
       "      <td>0.000000</td>\n",
       "      <td>0.000000</td>\n",
       "      <td>0.293314</td>\n",
       "      <td>0.000000</td>\n",
       "      <td>0.231252</td>\n",
       "      <td>0.231252</td>\n",
       "      <td>0.000000</td>\n",
       "      <td>0.000000</td>\n",
       "      <td>0.000000</td>\n",
       "      <td>0.000000</td>\n",
       "      <td>0.000000</td>\n",
       "      <td>0.000000</td>\n",
       "      <td>0.000000</td>\n",
       "      <td>0.000000</td>\n",
       "      <td>0.293314</td>\n",
       "      <td>0.000000</td>\n",
       "      <td>0.000000</td>\n",
       "      <td>0.000000</td>\n",
       "      <td>0.000000</td>\n",
       "      <td>0.000000</td>\n",
       "      <td>0.231252</td>\n",
       "      <td>0.000000</td>\n",
       "      <td>0.231252</td>\n",
       "      <td>0.231252</td>\n",
       "      <td>0.231252</td>\n",
       "      <td>0.000000</td>\n",
       "      <td>0.000000</td>\n",
       "      <td>0.000000</td>\n",
       "      <td>0.000000</td>\n",
       "      <td>0.000000</td>\n",
       "      <td>0.000000</td>\n",
       "      <td>0.293314</td>\n",
       "      <td>0.293314</td>\n",
       "      <td>0.000000</td>\n",
       "      <td>0.231252</td>\n",
       "      <td>0.000000</td>\n",
       "      <td>0.000000</td>\n",
       "      <td>0.000000</td>\n",
       "      <td>0.000000</td>\n",
       "      <td>0.000000</td>\n",
       "      <td>0.000000</td>\n",
       "      <td>0.000000</td>\n",
       "      <td>0.000000</td>\n",
       "      <td>0.000000</td>\n",
       "      <td>0.293314</td>\n",
       "      <td>0.293314</td>\n",
       "      <td>0.293314</td>\n",
       "    </tr>\n",
       "  </tbody>\n",
       "</table>\n",
       "</div>"
      ],
      "text/plain": [
       "   algoritms       and  artificial  ...      used  versatile       web\n",
       "0   0.259354  0.135342    0.259354  ...  0.000000   0.000000  0.000000\n",
       "1   0.000000  0.251675    0.000000  ...  0.000000   0.000000  0.000000\n",
       "2   0.000000  0.271120    0.000000  ...  0.000000   0.000000  0.000000\n",
       "3   0.000000  0.153063    0.000000  ...  0.293314   0.293314  0.293314\n",
       "\n",
       "[4 rows x 49 columns]"
      ]
     },
     "execution_count": 94,
     "metadata": {},
     "output_type": "execute_result"
    }
   ],
   "source": [
    "# Sample Document\n",
    "documents = [\n",
    "    \"Machine learning is a subfield of artificial intelligence that focuses on the development of algoritms and statistical models.\",\n",
    "    \"Natural language processing involves the interaction between computers and human language, enabling machines to understand, interpret and generate\",\n",
    "    \"Data science encompasses a range of techniques for extracting insights and knowledge from structured and unstructured data\",\n",
    "    \"Python is a versatile programming language commonly used in data science, machine learning, and web development\"\n",
    "]\n",
    "\n",
    "# step 1: Create a TF-IDF vectorizer\n",
    "vectorizer = TfidfVectorizer()\n",
    "\n",
    "# step 2: Fit and transform the documents\n",
    "tfidf_matrix = vectorizer.fit_transform(documents)\n",
    "\n",
    "# step 3: Get feature names (words) and transform to a dense array\n",
    "feature_names = vectorizer.get_feature_names_out()\n",
    "dense_matrix = tfidf_matrix.toarray()\n",
    "\n",
    "# step 4: Create a Dataframe for better visualization\n",
    "df_tfidf = pd.DataFrame(dense_matrix, columns=feature_names)\n",
    "df_tfidf"
   ]
  }
 ],
 "metadata": {
  "kernelspec": {
   "display_name": "venv",
   "language": "python",
   "name": "python3"
  },
  "language_info": {
   "codemirror_mode": {
    "name": "ipython",
    "version": 3
   },
   "file_extension": ".py",
   "mimetype": "text/x-python",
   "name": "python",
   "nbconvert_exporter": "python",
   "pygments_lexer": "ipython3",
   "version": "3.12.3"
  }
 },
 "nbformat": 4,
 "nbformat_minor": 5
}
