{
 "cells": [
  {
   "cell_type": "markdown",
   "id": "09ea5449",
   "metadata": {},
   "source": [
    "# 1. Case Conversion"
   ]
  },
  {
   "cell_type": "code",
   "execution_count": 22,
   "id": "b015423b",
   "metadata": {},
   "outputs": [],
   "source": [
    "# Input text\n",
    "input_text = \"HeLLo, WoRld\""
   ]
  },
  {
   "cell_type": "code",
   "execution_count": 23,
   "id": "5b592842",
   "metadata": {},
   "outputs": [],
   "source": [
    "# Convert to lower case\n",
    "lower_case = input_text.lower()\n"
   ]
  },
  {
   "cell_type": "code",
   "execution_count": 24,
   "id": "8ddaaa31",
   "metadata": {},
   "outputs": [],
   "source": [
    "# convert to upper case\n",
    "upper_case = input_text.upper()\n"
   ]
  },
  {
   "cell_type": "code",
   "execution_count": 25,
   "id": "5d9ac93a",
   "metadata": {},
   "outputs": [],
   "source": [
    "# convert to title case\n",
    "title_case = input_text.title()\n"
   ]
  },
  {
   "cell_type": "code",
   "execution_count": 26,
   "id": "bd7a3a69",
   "metadata": {},
   "outputs": [
    {
     "name": "stdout",
     "output_type": "stream",
     "text": [
      "Original Text: HeLLo, WoRld\n",
      "lower_case: hello, world\n",
      "upper_case: HELLO, WORLD\n",
      "title_case: Hello, World\n"
     ]
    }
   ],
   "source": [
    "# print the original and converted texts\n",
    "print(\"Original Text:\", input_text)\n",
    "print(\"lower_case:\", lower_case)\n",
    "print(\"upper_case:\", upper_case)\n",
    "print(\"title_case:\", title_case)"
   ]
  },
  {
   "cell_type": "markdown",
   "id": "7cd23743",
   "metadata": {},
   "source": [
    "# 2. Removing Unwanted Patters"
   ]
  },
  {
   "cell_type": "code",
   "execution_count": 34,
   "id": "1cba1c15",
   "metadata": {},
   "outputs": [],
   "source": [
    "import re"
   ]
  },
  {
   "cell_type": "code",
   "execution_count": 41,
   "id": "6d03b080",
   "metadata": {},
   "outputs": [],
   "source": [
    "text1 = \"Check out this website: https://helloworld.com. #NLP@123\""
   ]
  },
  {
   "cell_type": "code",
   "execution_count": 42,
   "id": "e022c89b",
   "metadata": {},
   "outputs": [
    {
     "name": "stdout",
     "output_type": "stream",
     "text": [
      "Check out this website:  #NLP@123\n"
     ]
    }
   ],
   "source": [
    "# Remove URLs from the text using regular expression\n",
    "cleaned_text = re.sub(r'https\\S+', '', text1)\n",
    "print(cleaned_text)"
   ]
  },
  {
   "cell_type": "code",
   "execution_count": 43,
   "id": "55498f6e",
   "metadata": {},
   "outputs": [
    {
     "name": "stdout",
     "output_type": "stream",
     "text": [
      "Check out this website  NLP\n"
     ]
    }
   ],
   "source": [
    "# Remove non-alphabetical characters and keep spaces using regular expression\n",
    "cleaned_text = re.sub(r'[^a-zA-Z\\s]','', cleaned_text)\n",
    "print(cleaned_text)\n"
   ]
  },
  {
   "cell_type": "code",
   "execution_count": 44,
   "id": "b96a7736",
   "metadata": {},
   "outputs": [
    {
     "name": "stdout",
     "output_type": "stream",
     "text": [
      "Check out this website NLP\n"
     ]
    }
   ],
   "source": [
    "# Replace multiple spaces with a single space\n",
    "cleaned_text = re.sub(r'\\s+', ' ', cleaned_text)\n",
    "print(cleaned_text)"
   ]
  },
  {
   "cell_type": "markdown",
   "id": "9a147608",
   "metadata": {},
   "source": [
    "# 3. Eliminating Specific Patterns\n"
   ]
  },
  {
   "cell_type": "code",
   "execution_count": 45,
   "id": "0cda9fd7",
   "metadata": {},
   "outputs": [],
   "source": [
    "import re"
   ]
  },
  {
   "cell_type": "code",
   "execution_count": 46,
   "id": "4a526760",
   "metadata": {},
   "outputs": [],
   "source": [
    "# Input text containing various patterns\n",
    "text2 = \"RT @john: Click on this link: https://example.com. #NLP #coding\""
   ]
  },
  {
   "cell_type": "code",
   "execution_count": 47,
   "id": "d6103d82",
   "metadata": {},
   "outputs": [],
   "source": [
    "# Define patterns to eliminate\n",
    "patterns_to_eliminate = [r'RT', r'@[^\\s]+', r'#\\w+']"
   ]
  },
  {
   "cell_type": "code",
   "execution_count": 48,
   "id": "4ce64c36",
   "metadata": {},
   "outputs": [],
   "source": [
    "# Loop through patterns and eliminate them from the text\n",
    "cleaned_text = text2\n",
    "\n",
    "for pattern in patterns_to_eliminate:\n",
    "    cleaned_text = re.sub(pattern, '', cleaned_text)\n"
   ]
  },
  {
   "cell_type": "code",
   "execution_count": 49,
   "id": "dd3c19f0",
   "metadata": {},
   "outputs": [],
   "source": [
    "# Remove extra spaces caused by pattern removal\n",
    "cleaned_text = re.sub(r'\\s+', ' ', cleaned_text).strip()"
   ]
  },
  {
   "cell_type": "code",
   "execution_count": 50,
   "id": "feb5602a",
   "metadata": {},
   "outputs": [
    {
     "name": "stdout",
     "output_type": "stream",
     "text": [
      "Click on this link: https://example.com.\n"
     ]
    }
   ],
   "source": [
    "# Print the cleaned text\n",
    "print(cleaned_text)"
   ]
  },
  {
   "cell_type": "markdown",
   "id": "f6459792",
   "metadata": {},
   "source": [
    "# 4. Tokenization\n"
   ]
  },
  {
   "cell_type": "code",
   "execution_count": null,
   "id": "f835cc35",
   "metadata": {},
   "outputs": [],
   "source": []
  }
 ],
 "metadata": {
  "kernelspec": {
   "display_name": "venv",
   "language": "python",
   "name": "python3"
  },
  "language_info": {
   "codemirror_mode": {
    "name": "ipython",
    "version": 3
   },
   "file_extension": ".py",
   "mimetype": "text/x-python",
   "name": "python",
   "nbconvert_exporter": "python",
   "pygments_lexer": "ipython3",
   "version": "3.12.3"
  }
 },
 "nbformat": 4,
 "nbformat_minor": 5
}
