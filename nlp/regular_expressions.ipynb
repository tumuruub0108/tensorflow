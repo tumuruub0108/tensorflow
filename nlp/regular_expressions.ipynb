{
 "cells": [
  {
   "cell_type": "code",
   "execution_count": 1,
   "id": "24ed0542",
   "metadata": {},
   "outputs": [],
   "source": [
    "import re"
   ]
  },
  {
   "cell_type": "code",
   "execution_count": 2,
   "id": "1119aa4e",
   "metadata": {},
   "outputs": [],
   "source": [
    "text1 = \"Agent ID 007, let's separate numbers and alphabets in this string\""
   ]
  },
  {
   "cell_type": "code",
   "execution_count": 4,
   "id": "996c0b9a",
   "metadata": {},
   "outputs": [
    {
     "data": {
      "text/plain": [
       "re.compile(r'[0-9]', re.UNICODE)"
      ]
     },
     "execution_count": 4,
     "metadata": {},
     "output_type": "execute_result"
    }
   ],
   "source": [
    "pattern = re.compile(r'[0-9]')\n",
    "pattern"
   ]
  },
  {
   "cell_type": "code",
   "execution_count": 5,
   "id": "60f4907b",
   "metadata": {},
   "outputs": [
    {
     "name": "stdout",
     "output_type": "stream",
     "text": [
      "<re.Match object; span=(9, 10), match='0'>\n",
      "<re.Match object; span=(10, 11), match='0'>\n",
      "<re.Match object; span=(11, 12), match='7'>\n"
     ]
    }
   ],
   "source": [
    "matches = pattern.finditer(text1)\n",
    "for each_match in matches:\n",
    "    print(each_match)"
   ]
  },
  {
   "cell_type": "markdown",
   "id": "dadfb679",
   "metadata": {},
   "source": [
    "span=(9, 10) is index"
   ]
  },
  {
   "cell_type": "code",
   "execution_count": 6,
   "id": "022f23a4",
   "metadata": {},
   "outputs": [
    {
     "data": {
      "text/plain": [
       "'7'"
      ]
     },
     "execution_count": 6,
     "metadata": {},
     "output_type": "execute_result"
    }
   ],
   "source": [
    "text1[11]"
   ]
  },
  {
   "cell_type": "code",
   "execution_count": 11,
   "id": "1be380fe",
   "metadata": {},
   "outputs": [
    {
     "name": "stdout",
     "output_type": "stream",
     "text": [
      "<re.Match object; span=(9, 10), match='0'>\n",
      "<re.Match object; span=(10, 11), match='0'>\n",
      "<re.Match object; span=(11, 12), match='7'>\n"
     ]
    }
   ],
   "source": [
    "text1 = \"Agent ID 007, let's separate numbers and alphabets in this string\"\n",
    "pattern = re.compile(r'\\d')\n",
    "matches = pattern.finditer(text1)\n",
    "for each_match in matches:\n",
    "    print(each_match)"
   ]
  },
  {
   "cell_type": "code",
   "execution_count": 12,
   "id": "c486f57f",
   "metadata": {},
   "outputs": [
    {
     "name": "stdout",
     "output_type": "stream",
     "text": [
      "<re.Match object; span=(9, 12), match='007'>\n"
     ]
    }
   ],
   "source": [
    "text1 = \"Agent ID 007, let's separate numbers and alphabets in this string\"\n",
    "pattern = re.compile(r'\\d{3}')\n",
    "matches = pattern.finditer(text1)\n",
    "for each_match in matches:\n",
    "    print(each_match)"
   ]
  },
  {
   "cell_type": "code",
   "execution_count": 13,
   "id": "6a7675f4",
   "metadata": {},
   "outputs": [
    {
     "name": "stdout",
     "output_type": "stream",
     "text": [
      "<re.Match object; span=(0, 1), match='A'>\n",
      "<re.Match object; span=(1, 2), match='g'>\n",
      "<re.Match object; span=(2, 3), match='e'>\n",
      "<re.Match object; span=(3, 4), match='n'>\n",
      "<re.Match object; span=(4, 5), match='t'>\n",
      "<re.Match object; span=(6, 7), match='I'>\n",
      "<re.Match object; span=(7, 8), match='D'>\n",
      "<re.Match object; span=(14, 15), match='l'>\n",
      "<re.Match object; span=(15, 16), match='e'>\n",
      "<re.Match object; span=(16, 17), match='t'>\n",
      "<re.Match object; span=(18, 19), match='s'>\n",
      "<re.Match object; span=(20, 21), match='s'>\n",
      "<re.Match object; span=(21, 22), match='e'>\n",
      "<re.Match object; span=(22, 23), match='p'>\n",
      "<re.Match object; span=(23, 24), match='a'>\n",
      "<re.Match object; span=(24, 25), match='r'>\n",
      "<re.Match object; span=(25, 26), match='a'>\n",
      "<re.Match object; span=(26, 27), match='t'>\n",
      "<re.Match object; span=(27, 28), match='e'>\n",
      "<re.Match object; span=(29, 30), match='n'>\n",
      "<re.Match object; span=(30, 31), match='u'>\n",
      "<re.Match object; span=(31, 32), match='m'>\n",
      "<re.Match object; span=(32, 33), match='b'>\n",
      "<re.Match object; span=(33, 34), match='e'>\n",
      "<re.Match object; span=(34, 35), match='r'>\n",
      "<re.Match object; span=(35, 36), match='s'>\n",
      "<re.Match object; span=(37, 38), match='a'>\n",
      "<re.Match object; span=(38, 39), match='n'>\n",
      "<re.Match object; span=(39, 40), match='d'>\n",
      "<re.Match object; span=(41, 42), match='a'>\n",
      "<re.Match object; span=(42, 43), match='l'>\n",
      "<re.Match object; span=(43, 44), match='p'>\n",
      "<re.Match object; span=(44, 45), match='h'>\n",
      "<re.Match object; span=(45, 46), match='a'>\n",
      "<re.Match object; span=(46, 47), match='b'>\n",
      "<re.Match object; span=(47, 48), match='e'>\n",
      "<re.Match object; span=(48, 49), match='t'>\n",
      "<re.Match object; span=(49, 50), match='s'>\n",
      "<re.Match object; span=(51, 52), match='i'>\n",
      "<re.Match object; span=(52, 53), match='n'>\n",
      "<re.Match object; span=(54, 55), match='t'>\n",
      "<re.Match object; span=(55, 56), match='h'>\n",
      "<re.Match object; span=(56, 57), match='i'>\n",
      "<re.Match object; span=(57, 58), match='s'>\n",
      "<re.Match object; span=(59, 60), match='s'>\n",
      "<re.Match object; span=(60, 61), match='t'>\n",
      "<re.Match object; span=(61, 62), match='r'>\n",
      "<re.Match object; span=(62, 63), match='i'>\n",
      "<re.Match object; span=(63, 64), match='n'>\n",
      "<re.Match object; span=(64, 65), match='g'>\n"
     ]
    }
   ],
   "source": [
    "text1 = \"Agent ID 007, let's separate numbers and alphabets in this string\"\n",
    "pattern = re.compile(r'[a-zA-Z]')\n",
    "matches = pattern.finditer(text1)\n",
    "for each_match in matches:\n",
    "    print(each_match)"
   ]
  },
  {
   "cell_type": "code",
   "execution_count": 14,
   "id": "0e4ceae6",
   "metadata": {},
   "outputs": [],
   "source": [
    "text2 = '''\n",
    "This is called a docstring\n",
    "It can take multiple lines\n",
    "123456\n",
    "'''"
   ]
  },
  {
   "cell_type": "code",
   "execution_count": 15,
   "id": "6abcd6d0",
   "metadata": {},
   "outputs": [
    {
     "name": "stdout",
     "output_type": "stream",
     "text": [
      "<re.Match object; span=(1, 2), match='T'>\n",
      "<re.Match object; span=(2, 3), match='h'>\n",
      "<re.Match object; span=(3, 4), match='i'>\n",
      "<re.Match object; span=(4, 5), match='s'>\n",
      "<re.Match object; span=(5, 6), match=' '>\n",
      "<re.Match object; span=(6, 7), match='i'>\n",
      "<re.Match object; span=(7, 8), match='s'>\n",
      "<re.Match object; span=(8, 9), match=' '>\n",
      "<re.Match object; span=(9, 10), match='c'>\n",
      "<re.Match object; span=(10, 11), match='a'>\n",
      "<re.Match object; span=(11, 12), match='l'>\n",
      "<re.Match object; span=(12, 13), match='l'>\n",
      "<re.Match object; span=(13, 14), match='e'>\n",
      "<re.Match object; span=(14, 15), match='d'>\n",
      "<re.Match object; span=(15, 16), match=' '>\n",
      "<re.Match object; span=(16, 17), match='a'>\n",
      "<re.Match object; span=(17, 18), match=' '>\n",
      "<re.Match object; span=(18, 19), match='d'>\n",
      "<re.Match object; span=(19, 20), match='o'>\n",
      "<re.Match object; span=(20, 21), match='c'>\n",
      "<re.Match object; span=(21, 22), match='s'>\n",
      "<re.Match object; span=(22, 23), match='t'>\n",
      "<re.Match object; span=(23, 24), match='r'>\n",
      "<re.Match object; span=(24, 25), match='i'>\n",
      "<re.Match object; span=(25, 26), match='n'>\n",
      "<re.Match object; span=(26, 27), match='g'>\n",
      "<re.Match object; span=(28, 29), match='I'>\n",
      "<re.Match object; span=(29, 30), match='t'>\n",
      "<re.Match object; span=(30, 31), match=' '>\n",
      "<re.Match object; span=(31, 32), match='c'>\n",
      "<re.Match object; span=(32, 33), match='a'>\n",
      "<re.Match object; span=(33, 34), match='n'>\n",
      "<re.Match object; span=(34, 35), match=' '>\n",
      "<re.Match object; span=(35, 36), match='t'>\n",
      "<re.Match object; span=(36, 37), match='a'>\n",
      "<re.Match object; span=(37, 38), match='k'>\n",
      "<re.Match object; span=(38, 39), match='e'>\n",
      "<re.Match object; span=(39, 40), match=' '>\n",
      "<re.Match object; span=(40, 41), match='m'>\n",
      "<re.Match object; span=(41, 42), match='u'>\n",
      "<re.Match object; span=(42, 43), match='l'>\n",
      "<re.Match object; span=(43, 44), match='t'>\n",
      "<re.Match object; span=(44, 45), match='i'>\n",
      "<re.Match object; span=(45, 46), match='p'>\n",
      "<re.Match object; span=(46, 47), match='l'>\n",
      "<re.Match object; span=(47, 48), match='e'>\n",
      "<re.Match object; span=(48, 49), match=' '>\n",
      "<re.Match object; span=(49, 50), match='l'>\n",
      "<re.Match object; span=(50, 51), match='i'>\n",
      "<re.Match object; span=(51, 52), match='n'>\n",
      "<re.Match object; span=(52, 53), match='e'>\n",
      "<re.Match object; span=(53, 54), match='s'>\n",
      "<re.Match object; span=(55, 56), match='1'>\n",
      "<re.Match object; span=(56, 57), match='2'>\n",
      "<re.Match object; span=(57, 58), match='3'>\n",
      "<re.Match object; span=(58, 59), match='4'>\n",
      "<re.Match object; span=(59, 60), match='5'>\n",
      "<re.Match object; span=(60, 61), match='6'>\n"
     ]
    }
   ],
   "source": [
    "pattern = re.compile(r'.')\n",
    "matches = pattern.finditer(text2)\n",
    "for each_match in matches:\n",
    "    print(each_match)"
   ]
  },
  {
   "cell_type": "code",
   "execution_count": 17,
   "id": "7841ecbb",
   "metadata": {},
   "outputs": [],
   "source": [
    "text2 = '''\n",
    "This is called a docstring\n",
    "It can take multiple lines\n",
    "123456\n",
    "'''\n",
    "\n",
    "pattern = re.compile(r'^This')\n",
    "matches = pattern.finditer(text2)\n",
    "for each_match in matches:\n",
    "    print(each_match)"
   ]
  },
  {
   "cell_type": "code",
   "execution_count": 18,
   "id": "ab3ae85e",
   "metadata": {},
   "outputs": [
    {
     "name": "stdout",
     "output_type": "stream",
     "text": [
      "<re.Match object; span=(0, 1), match='\\n'>\n"
     ]
    }
   ],
   "source": [
    "text2 = '''\n",
    "This is called a docstring\n",
    "It can take multiple lines\n",
    "123456\n",
    "'''\n",
    "\n",
    "pattern = re.compile(r'^\\n')\n",
    "matches = pattern.finditer(text2)\n",
    "for each_match in matches:\n",
    "    print(each_match)"
   ]
  },
  {
   "cell_type": "code",
   "execution_count": 19,
   "id": "6d634588",
   "metadata": {},
   "outputs": [
    {
     "name": "stdout",
     "output_type": "stream",
     "text": [
      "<re.Match object; span=(61, 62), match='\\n'>\n"
     ]
    }
   ],
   "source": [
    "text2 = '''\n",
    "This is called a docstring\n",
    "It can take multiple lines\n",
    "123456\n",
    "'''\n",
    "\n",
    "pattern = re.compile(r'$\\n')\n",
    "matches = pattern.finditer(text2)\n",
    "for each_match in matches:\n",
    "    print(each_match)"
   ]
  },
  {
   "cell_type": "code",
   "execution_count": 21,
   "id": "fbf8216c",
   "metadata": {},
   "outputs": [
    {
     "name": "stdout",
     "output_type": "stream",
     "text": [
      "<re.Match object; span=(0, 2), match='DS'>\n",
      "<re.Match object; span=(3, 8), match='DS101'>\n",
      "<re.Match object; span=(15, 18), match='DS1'>\n",
      "<re.Match object; span=(32, 34), match='DS'>\n",
      "<re.Match object; span=(50, 54), match='DS24'>\n",
      "<re.Match object; span=(56, 58), match='DS'>\n"
     ]
    }
   ],
   "source": [
    "text3 = \"DS DS101 CS101 DS1 ME101, EE23, DSML, EC101, ML3, DS24, DSAI, ME, CSE, ML101, TE20\"\n",
    "\n",
    "pattern = re.compile(r'\\bDS\\d*')\n",
    "matches = pattern.finditer(text3)\n",
    "for each_match in matches:\n",
    "    print(each_match)"
   ]
  },
  {
   "cell_type": "code",
   "execution_count": 22,
   "id": "92118698",
   "metadata": {},
   "outputs": [
    {
     "name": "stdout",
     "output_type": "stream",
     "text": [
      "<re.Match object; span=(3, 8), match='DS101'>\n",
      "<re.Match object; span=(15, 18), match='DS1'>\n",
      "<re.Match object; span=(50, 54), match='DS24'>\n"
     ]
    }
   ],
   "source": [
    "text3 = \"DS DS101 CS101 DS1 ME101, EE23, DSML, EC101, ML3, DS24, DSAI, ME, CSE, ML101, TE20\"\n",
    "\n",
    "pattern = re.compile(r'\\bDS\\d+')\n",
    "matches = pattern.finditer(text3)\n",
    "for each_match in matches:\n",
    "    print(each_match)"
   ]
  },
  {
   "cell_type": "code",
   "execution_count": 23,
   "id": "395e0bb7",
   "metadata": {},
   "outputs": [
    {
     "name": "stdout",
     "output_type": "stream",
     "text": [
      "<re.Match object; span=(32, 36), match='DSML'>\n",
      "<re.Match object; span=(45, 48), match='ML3'>\n"
     ]
    }
   ],
   "source": [
    "text3 = \"DS DS101 CS101 DS1 ME101, EE23, DSML, EC101, ML3, DS24, DSAI, ME, CSE, ML101, TE20\"\n",
    "\n",
    "pattern = re.compile(r'[A-Z]*ML[0-9]?\\b')\n",
    "matches = pattern.finditer(text3)\n",
    "for each_match in matches:\n",
    "    print(each_match)"
   ]
  },
  {
   "cell_type": "code",
   "execution_count": 24,
   "id": "13d823ca",
   "metadata": {},
   "outputs": [
    {
     "name": "stdout",
     "output_type": "stream",
     "text": [
      "<re.Match object; span=(3, 8), match='DS101'>\n"
     ]
    }
   ],
   "source": [
    "text3 = \"DS DS101 CS101 DS1 ME101, EE23, DSML, EC101, ML3, DS24, DSAI, ME, CSE, ML101, TE20\"\n",
    "\n",
    "pattern = re.compile(r'DS[0-9]{3}')\n",
    "matches = pattern.finditer(text3)\n",
    "for each_match in matches:\n",
    "    print(each_match)"
   ]
  },
  {
   "cell_type": "code",
   "execution_count": 28,
   "id": "2cca0db2",
   "metadata": {},
   "outputs": [
    {
     "name": "stdout",
     "output_type": "stream",
     "text": [
      "<re.Match object; span=(3, 8), match='DS101'>\n",
      "<re.Match object; span=(15, 18), match='DS1'>\n",
      "<re.Match object; span=(50, 54), match='DS24'>\n"
     ]
    }
   ],
   "source": [
    "text3 = \"DS DS101 CS101 DS1 ME101, EE23, DSML, EC101, ML3, DS24, DSAI, ME, CSE, ML101, TE20\"\n",
    "\n",
    "pattern = re.compile(r'DS[0-9]{1,3}')\n",
    "matches = pattern.finditer(text3)\n",
    "for each_match in matches:\n",
    "    print(each_match)"
   ]
  },
  {
   "cell_type": "code",
   "execution_count": 29,
   "id": "9fdf6442",
   "metadata": {},
   "outputs": [
    {
     "name": "stdout",
     "output_type": "stream",
     "text": [
      "<re.Match object; span=(0, 2), match='DS'>\n",
      "<re.Match object; span=(3, 5), match='DS'>\n",
      "<re.Match object; span=(15, 17), match='DS'>\n",
      "<re.Match object; span=(32, 34), match='DS'>\n",
      "<re.Match object; span=(45, 48), match='ML3'>\n",
      "<re.Match object; span=(50, 52), match='DS'>\n",
      "<re.Match object; span=(56, 58), match='DS'>\n",
      "<re.Match object; span=(71, 76), match='ML101'>\n"
     ]
    }
   ],
   "source": [
    "text3 = \"DS DS101 CS101 DS1 ME101, EE23, DSML, EC101, ML3, DS24, DSAI, ME, CSE, ML101, TE20\"\n",
    "\n",
    "pattern = re.compile(r'DS|ML[0-9]{1,3}')\n",
    "matches = pattern.finditer(text3)\n",
    "for each_match in matches:\n",
    "    print(each_match)"
   ]
  },
  {
   "cell_type": "code",
   "execution_count": null,
   "id": "820c6d08",
   "metadata": {},
   "outputs": [],
   "source": [
    "# lesson 13"
   ]
  }
 ],
 "metadata": {
  "kernelspec": {
   "display_name": "venv (3.13.5)",
   "language": "python",
   "name": "python3"
  },
  "language_info": {
   "codemirror_mode": {
    "name": "ipython",
    "version": 3
   },
   "file_extension": ".py",
   "mimetype": "text/x-python",
   "name": "python",
   "nbconvert_exporter": "python",
   "pygments_lexer": "ipython3",
   "version": "3.13.5"
  }
 },
 "nbformat": 4,
 "nbformat_minor": 5
}
