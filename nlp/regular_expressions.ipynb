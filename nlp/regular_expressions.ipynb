{
 "cells": [
  {
   "cell_type": "code",
   "execution_count": 1,
   "id": "24ed0542",
   "metadata": {},
   "outputs": [],
   "source": [
    "import re"
   ]
  },
  {
   "cell_type": "code",
   "execution_count": 2,
   "id": "1119aa4e",
   "metadata": {},
   "outputs": [],
   "source": [
    "text1 = \"Agent ID 007, let's separate numbers and alphabets in this string\""
   ]
  },
  {
   "cell_type": "code",
   "execution_count": 3,
   "id": "996c0b9a",
   "metadata": {},
   "outputs": [
    {
     "data": {
      "text/plain": [
       "re.compile(r'[0-9]', re.UNICODE)"
      ]
     },
     "execution_count": 3,
     "metadata": {},
     "output_type": "execute_result"
    }
   ],
   "source": [
    "pattern = re.compile(r'[0-9]')\n",
    "pattern"
   ]
  },
  {
   "cell_type": "code",
   "execution_count": 4,
   "id": "60f4907b",
   "metadata": {},
   "outputs": [
    {
     "name": "stdout",
     "output_type": "stream",
     "text": [
      "<re.Match object; span=(9, 10), match='0'>\n",
      "<re.Match object; span=(10, 11), match='0'>\n",
      "<re.Match object; span=(11, 12), match='7'>\n"
     ]
    }
   ],
   "source": [
    "matches = pattern.finditer(text1)\n",
    "for each_match in matches:\n",
    "    print(each_match)"
   ]
  },
  {
   "cell_type": "markdown",
   "id": "dadfb679",
   "metadata": {},
   "source": [
    "span=(9, 10) is index"
   ]
  },
  {
   "cell_type": "code",
   "execution_count": 5,
   "id": "022f23a4",
   "metadata": {},
   "outputs": [
    {
     "data": {
      "text/plain": [
       "'7'"
      ]
     },
     "execution_count": 5,
     "metadata": {},
     "output_type": "execute_result"
    }
   ],
   "source": [
    "text1[11]"
   ]
  },
  {
   "cell_type": "code",
   "execution_count": 6,
   "id": "1be380fe",
   "metadata": {},
   "outputs": [
    {
     "name": "stdout",
     "output_type": "stream",
     "text": [
      "<re.Match object; span=(9, 10), match='0'>\n",
      "<re.Match object; span=(10, 11), match='0'>\n",
      "<re.Match object; span=(11, 12), match='7'>\n"
     ]
    }
   ],
   "source": [
    "text1 = \"Agent ID 007, let's separate numbers and alphabets in this string\"\n",
    "pattern = re.compile(r'\\d')\n",
    "matches = pattern.finditer(text1)\n",
    "for each_match in matches:\n",
    "    print(each_match)"
   ]
  },
  {
   "cell_type": "code",
   "execution_count": 7,
   "id": "c486f57f",
   "metadata": {},
   "outputs": [
    {
     "name": "stdout",
     "output_type": "stream",
     "text": [
      "<re.Match object; span=(9, 12), match='007'>\n"
     ]
    }
   ],
   "source": [
    "text1 = \"Agent ID 007, let's separate numbers and alphabets in this string\"\n",
    "pattern = re.compile(r'\\d{3}')\n",
    "matches = pattern.finditer(text1)\n",
    "for each_match in matches:\n",
    "    print(each_match)"
   ]
  },
  {
   "cell_type": "code",
   "execution_count": 8,
   "id": "6a7675f4",
   "metadata": {},
   "outputs": [
    {
     "name": "stdout",
     "output_type": "stream",
     "text": [
      "<re.Match object; span=(0, 1), match='A'>\n",
      "<re.Match object; span=(1, 2), match='g'>\n",
      "<re.Match object; span=(2, 3), match='e'>\n",
      "<re.Match object; span=(3, 4), match='n'>\n",
      "<re.Match object; span=(4, 5), match='t'>\n",
      "<re.Match object; span=(6, 7), match='I'>\n",
      "<re.Match object; span=(7, 8), match='D'>\n",
      "<re.Match object; span=(14, 15), match='l'>\n",
      "<re.Match object; span=(15, 16), match='e'>\n",
      "<re.Match object; span=(16, 17), match='t'>\n",
      "<re.Match object; span=(18, 19), match='s'>\n",
      "<re.Match object; span=(20, 21), match='s'>\n",
      "<re.Match object; span=(21, 22), match='e'>\n",
      "<re.Match object; span=(22, 23), match='p'>\n",
      "<re.Match object; span=(23, 24), match='a'>\n",
      "<re.Match object; span=(24, 25), match='r'>\n",
      "<re.Match object; span=(25, 26), match='a'>\n",
      "<re.Match object; span=(26, 27), match='t'>\n",
      "<re.Match object; span=(27, 28), match='e'>\n",
      "<re.Match object; span=(29, 30), match='n'>\n",
      "<re.Match object; span=(30, 31), match='u'>\n",
      "<re.Match object; span=(31, 32), match='m'>\n",
      "<re.Match object; span=(32, 33), match='b'>\n",
      "<re.Match object; span=(33, 34), match='e'>\n",
      "<re.Match object; span=(34, 35), match='r'>\n",
      "<re.Match object; span=(35, 36), match='s'>\n",
      "<re.Match object; span=(37, 38), match='a'>\n",
      "<re.Match object; span=(38, 39), match='n'>\n",
      "<re.Match object; span=(39, 40), match='d'>\n",
      "<re.Match object; span=(41, 42), match='a'>\n",
      "<re.Match object; span=(42, 43), match='l'>\n",
      "<re.Match object; span=(43, 44), match='p'>\n",
      "<re.Match object; span=(44, 45), match='h'>\n",
      "<re.Match object; span=(45, 46), match='a'>\n",
      "<re.Match object; span=(46, 47), match='b'>\n",
      "<re.Match object; span=(47, 48), match='e'>\n",
      "<re.Match object; span=(48, 49), match='t'>\n",
      "<re.Match object; span=(49, 50), match='s'>\n",
      "<re.Match object; span=(51, 52), match='i'>\n",
      "<re.Match object; span=(52, 53), match='n'>\n",
      "<re.Match object; span=(54, 55), match='t'>\n",
      "<re.Match object; span=(55, 56), match='h'>\n",
      "<re.Match object; span=(56, 57), match='i'>\n",
      "<re.Match object; span=(57, 58), match='s'>\n",
      "<re.Match object; span=(59, 60), match='s'>\n",
      "<re.Match object; span=(60, 61), match='t'>\n",
      "<re.Match object; span=(61, 62), match='r'>\n",
      "<re.Match object; span=(62, 63), match='i'>\n",
      "<re.Match object; span=(63, 64), match='n'>\n",
      "<re.Match object; span=(64, 65), match='g'>\n"
     ]
    }
   ],
   "source": [
    "text1 = \"Agent ID 007, let's separate numbers and alphabets in this string\"\n",
    "pattern = re.compile(r'[a-zA-Z]')\n",
    "matches = pattern.finditer(text1)\n",
    "for each_match in matches:\n",
    "    print(each_match)"
   ]
  },
  {
   "cell_type": "code",
   "execution_count": 9,
   "id": "0e4ceae6",
   "metadata": {},
   "outputs": [],
   "source": [
    "text2 = '''\n",
    "This is called a docstring\n",
    "It can take multiple lines\n",
    "123456\n",
    "'''"
   ]
  },
  {
   "cell_type": "code",
   "execution_count": 10,
   "id": "6abcd6d0",
   "metadata": {},
   "outputs": [
    {
     "name": "stdout",
     "output_type": "stream",
     "text": [
      "<re.Match object; span=(1, 2), match='T'>\n",
      "<re.Match object; span=(2, 3), match='h'>\n",
      "<re.Match object; span=(3, 4), match='i'>\n",
      "<re.Match object; span=(4, 5), match='s'>\n",
      "<re.Match object; span=(5, 6), match=' '>\n",
      "<re.Match object; span=(6, 7), match='i'>\n",
      "<re.Match object; span=(7, 8), match='s'>\n",
      "<re.Match object; span=(8, 9), match=' '>\n",
      "<re.Match object; span=(9, 10), match='c'>\n",
      "<re.Match object; span=(10, 11), match='a'>\n",
      "<re.Match object; span=(11, 12), match='l'>\n",
      "<re.Match object; span=(12, 13), match='l'>\n",
      "<re.Match object; span=(13, 14), match='e'>\n",
      "<re.Match object; span=(14, 15), match='d'>\n",
      "<re.Match object; span=(15, 16), match=' '>\n",
      "<re.Match object; span=(16, 17), match='a'>\n",
      "<re.Match object; span=(17, 18), match=' '>\n",
      "<re.Match object; span=(18, 19), match='d'>\n",
      "<re.Match object; span=(19, 20), match='o'>\n",
      "<re.Match object; span=(20, 21), match='c'>\n",
      "<re.Match object; span=(21, 22), match='s'>\n",
      "<re.Match object; span=(22, 23), match='t'>\n",
      "<re.Match object; span=(23, 24), match='r'>\n",
      "<re.Match object; span=(24, 25), match='i'>\n",
      "<re.Match object; span=(25, 26), match='n'>\n",
      "<re.Match object; span=(26, 27), match='g'>\n",
      "<re.Match object; span=(28, 29), match='I'>\n",
      "<re.Match object; span=(29, 30), match='t'>\n",
      "<re.Match object; span=(30, 31), match=' '>\n",
      "<re.Match object; span=(31, 32), match='c'>\n",
      "<re.Match object; span=(32, 33), match='a'>\n",
      "<re.Match object; span=(33, 34), match='n'>\n",
      "<re.Match object; span=(34, 35), match=' '>\n",
      "<re.Match object; span=(35, 36), match='t'>\n",
      "<re.Match object; span=(36, 37), match='a'>\n",
      "<re.Match object; span=(37, 38), match='k'>\n",
      "<re.Match object; span=(38, 39), match='e'>\n",
      "<re.Match object; span=(39, 40), match=' '>\n",
      "<re.Match object; span=(40, 41), match='m'>\n",
      "<re.Match object; span=(41, 42), match='u'>\n",
      "<re.Match object; span=(42, 43), match='l'>\n",
      "<re.Match object; span=(43, 44), match='t'>\n",
      "<re.Match object; span=(44, 45), match='i'>\n",
      "<re.Match object; span=(45, 46), match='p'>\n",
      "<re.Match object; span=(46, 47), match='l'>\n",
      "<re.Match object; span=(47, 48), match='e'>\n",
      "<re.Match object; span=(48, 49), match=' '>\n",
      "<re.Match object; span=(49, 50), match='l'>\n",
      "<re.Match object; span=(50, 51), match='i'>\n",
      "<re.Match object; span=(51, 52), match='n'>\n",
      "<re.Match object; span=(52, 53), match='e'>\n",
      "<re.Match object; span=(53, 54), match='s'>\n",
      "<re.Match object; span=(55, 56), match='1'>\n",
      "<re.Match object; span=(56, 57), match='2'>\n",
      "<re.Match object; span=(57, 58), match='3'>\n",
      "<re.Match object; span=(58, 59), match='4'>\n",
      "<re.Match object; span=(59, 60), match='5'>\n",
      "<re.Match object; span=(60, 61), match='6'>\n"
     ]
    }
   ],
   "source": [
    "pattern = re.compile(r'.')\n",
    "matches = pattern.finditer(text2)\n",
    "for each_match in matches:\n",
    "    print(each_match)"
   ]
  },
  {
   "cell_type": "code",
   "execution_count": 11,
   "id": "7841ecbb",
   "metadata": {},
   "outputs": [],
   "source": [
    "text2 = '''\n",
    "This is called a docstring\n",
    "It can take multiple lines\n",
    "123456\n",
    "'''\n",
    "\n",
    "pattern = re.compile(r'^This')\n",
    "matches = pattern.finditer(text2)\n",
    "for each_match in matches:\n",
    "    print(each_match)"
   ]
  },
  {
   "cell_type": "code",
   "execution_count": 12,
   "id": "ab3ae85e",
   "metadata": {},
   "outputs": [
    {
     "name": "stdout",
     "output_type": "stream",
     "text": [
      "<re.Match object; span=(0, 1), match='\\n'>\n"
     ]
    }
   ],
   "source": [
    "text2 = '''\n",
    "This is called a docstring\n",
    "It can take multiple lines\n",
    "123456\n",
    "'''\n",
    "\n",
    "pattern = re.compile(r'^\\n')\n",
    "matches = pattern.finditer(text2)\n",
    "for each_match in matches:\n",
    "    print(each_match)"
   ]
  },
  {
   "cell_type": "code",
   "execution_count": 13,
   "id": "6d634588",
   "metadata": {},
   "outputs": [
    {
     "name": "stdout",
     "output_type": "stream",
     "text": [
      "<re.Match object; span=(61, 62), match='\\n'>\n"
     ]
    }
   ],
   "source": [
    "text2 = '''\n",
    "This is called a docstring\n",
    "It can take multiple lines\n",
    "123456\n",
    "'''\n",
    "\n",
    "pattern = re.compile(r'$\\n')\n",
    "matches = pattern.finditer(text2)\n",
    "for each_match in matches:\n",
    "    print(each_match)"
   ]
  },
  {
   "cell_type": "code",
   "execution_count": 14,
   "id": "fbf8216c",
   "metadata": {},
   "outputs": [
    {
     "name": "stdout",
     "output_type": "stream",
     "text": [
      "<re.Match object; span=(0, 2), match='DS'>\n",
      "<re.Match object; span=(3, 8), match='DS101'>\n",
      "<re.Match object; span=(15, 18), match='DS1'>\n",
      "<re.Match object; span=(32, 34), match='DS'>\n",
      "<re.Match object; span=(50, 54), match='DS24'>\n",
      "<re.Match object; span=(56, 58), match='DS'>\n"
     ]
    }
   ],
   "source": [
    "text3 = \"DS DS101 CS101 DS1 ME101, EE23, DSML, EC101, ML3, DS24, DSAI, ME, CSE, ML101, TE20\"\n",
    "\n",
    "pattern = re.compile(r'\\bDS\\d*')\n",
    "matches = pattern.finditer(text3)\n",
    "for each_match in matches:\n",
    "    print(each_match)"
   ]
  },
  {
   "cell_type": "code",
   "execution_count": 15,
   "id": "92118698",
   "metadata": {},
   "outputs": [
    {
     "name": "stdout",
     "output_type": "stream",
     "text": [
      "<re.Match object; span=(3, 8), match='DS101'>\n",
      "<re.Match object; span=(15, 18), match='DS1'>\n",
      "<re.Match object; span=(50, 54), match='DS24'>\n"
     ]
    }
   ],
   "source": [
    "text3 = \"DS DS101 CS101 DS1 ME101, EE23, DSML, EC101, ML3, DS24, DSAI, ME, CSE, ML101, TE20\"\n",
    "\n",
    "pattern = re.compile(r'\\bDS\\d+')\n",
    "matches = pattern.finditer(text3)\n",
    "for each_match in matches:\n",
    "    print(each_match)"
   ]
  },
  {
   "cell_type": "code",
   "execution_count": 16,
   "id": "395e0bb7",
   "metadata": {},
   "outputs": [
    {
     "name": "stdout",
     "output_type": "stream",
     "text": [
      "<re.Match object; span=(32, 36), match='DSML'>\n",
      "<re.Match object; span=(45, 48), match='ML3'>\n"
     ]
    }
   ],
   "source": [
    "text3 = \"DS DS101 CS101 DS1 ME101, EE23, DSML, EC101, ML3, DS24, DSAI, ME, CSE, ML101, TE20\"\n",
    "\n",
    "pattern = re.compile(r'[A-Z]*ML[0-9]?\\b')\n",
    "matches = pattern.finditer(text3)\n",
    "for each_match in matches:\n",
    "    print(each_match)"
   ]
  },
  {
   "cell_type": "code",
   "execution_count": 17,
   "id": "13d823ca",
   "metadata": {},
   "outputs": [
    {
     "name": "stdout",
     "output_type": "stream",
     "text": [
      "<re.Match object; span=(3, 8), match='DS101'>\n"
     ]
    }
   ],
   "source": [
    "text3 = \"DS DS101 CS101 DS1 ME101, EE23, DSML, EC101, ML3, DS24, DSAI, ME, CSE, ML101, TE20\"\n",
    "\n",
    "pattern = re.compile(r'DS[0-9]{3}')\n",
    "matches = pattern.finditer(text3)\n",
    "for each_match in matches:\n",
    "    print(each_match)"
   ]
  },
  {
   "cell_type": "code",
   "execution_count": 18,
   "id": "2cca0db2",
   "metadata": {},
   "outputs": [
    {
     "name": "stdout",
     "output_type": "stream",
     "text": [
      "<re.Match object; span=(3, 8), match='DS101'>\n",
      "<re.Match object; span=(15, 18), match='DS1'>\n",
      "<re.Match object; span=(50, 54), match='DS24'>\n"
     ]
    }
   ],
   "source": [
    "text3 = \"DS DS101 CS101 DS1 ME101, EE23, DSML, EC101, ML3, DS24, DSAI, ME, CSE, ML101, TE20\"\n",
    "\n",
    "pattern = re.compile(r'DS[0-9]{1,3}')\n",
    "matches = pattern.finditer(text3)\n",
    "for each_match in matches:\n",
    "    print(each_match)"
   ]
  },
  {
   "cell_type": "code",
   "execution_count": 19,
   "id": "9fdf6442",
   "metadata": {},
   "outputs": [
    {
     "name": "stdout",
     "output_type": "stream",
     "text": [
      "<re.Match object; span=(0, 2), match='DS'>\n",
      "<re.Match object; span=(3, 5), match='DS'>\n",
      "<re.Match object; span=(15, 17), match='DS'>\n",
      "<re.Match object; span=(32, 34), match='DS'>\n",
      "<re.Match object; span=(45, 48), match='ML3'>\n",
      "<re.Match object; span=(50, 52), match='DS'>\n",
      "<re.Match object; span=(56, 58), match='DS'>\n",
      "<re.Match object; span=(71, 76), match='ML101'>\n"
     ]
    }
   ],
   "source": [
    "text3 = \"DS DS101 CS101 DS1 ME101, EE23, DSML, EC101, ML3, DS24, DSAI, ME, CSE, ML101, TE20\"\n",
    "\n",
    "pattern = re.compile(r'DS|ML[0-9]{1,3}')\n",
    "matches = pattern.finditer(text3)\n",
    "for each_match in matches:\n",
    "    print(each_match)"
   ]
  },
  {
   "cell_type": "code",
   "execution_count": 20,
   "id": "820c6d08",
   "metadata": {},
   "outputs": [
    {
     "name": "stdout",
     "output_type": "stream",
     "text": [
      "<re.Match object; span=(1, 16), match='+1 334-456-2277'>\n",
      "<re.Match object; span=(17, 33), match='+91 011-342-8899'>\n",
      "<re.Match object; span=(62, 78), match='+25 439-831-1000'>\n"
     ]
    }
   ],
   "source": [
    "text4 = '''\n",
    "+1 334-456-2277\n",
    "+91 011-342-8899\n",
    "+82 212-342\n",
    "+1 89-9130-2102\n",
    "+25 439-831-1000\n",
    "'''\n",
    "\n",
    "pattern = re.compile(r'\\+\\d{1,2}\\s\\d{3}-\\d{3}-\\d{4}')\n",
    "matches = pattern.finditer(text4)\n",
    "for each_match in matches:\n",
    "    print(each_match)"
   ]
  },
  {
   "cell_type": "code",
   "execution_count": 21,
   "id": "bdbcc17c",
   "metadata": {},
   "outputs": [
    {
     "name": "stdout",
     "output_type": "stream",
     "text": [
      "<re.Match object; span=(1, 16), match='+1 334-456-2277'>\n",
      "<re.Match object; span=(17, 33), match='+91 011-342-8899'>\n",
      "<re.Match object; span=(62, 78), match='+25 439-831-1000'>\n"
     ]
    }
   ],
   "source": [
    "text4 = '''\n",
    "+1 334-456-2277\n",
    "+91 011-342-8899\n",
    "+82 212-342\n",
    "+1 89-9130-2102\n",
    "+25 439-831-1000\n",
    "'''\n",
    "\n",
    "pattern = re.compile(r'\\+\\d{1,2}\\s(\\d{3})-(\\d{3})-(\\d{4})')\n",
    "matches = pattern.finditer(text4)\n",
    "for each_match in matches:\n",
    "    print(each_match)"
   ]
  },
  {
   "cell_type": "code",
   "execution_count": 23,
   "id": "ae73e712",
   "metadata": {},
   "outputs": [
    {
     "name": "stdout",
     "output_type": "stream",
     "text": [
      "192.168.1.10\n",
      "10.0.0.1\n",
      "172.16.0.5\n",
      "300.168.1.500\n",
      "10.0.0.2\n",
      "192.168.1.30\n"
     ]
    }
   ],
   "source": [
    "network_log = '''\n",
    "2023-01-01 08:00:00 Connection from 192.168.1.10\n",
    "2023-01-01 08:01:00 Request from 10.0.0.1: GET /index.html\n",
    "2023-01-01 08:00:00 Denied access from 172.16.0.5\n",
    "2023-01-01 08:00:00 Connection from 300.168.1.500\n",
    "2023-01-01 08:00:00 Request from 10.0.0.2: POST /submit_data\n",
    "2023-01-01 08:00:00 Connection from 192.168.1.30\n",
    "'''\n",
    "\n",
    "pattern = re.compile(r'\\b(?:\\d{1,3}\\.){3}\\d{1,3}\\b')\n",
    "\n",
    "# Find all matches of the pattern in the network log\n",
    "ip_addresses = pattern.findall(network_log)\n",
    "\n",
    "# Print all the extracted IP addresses\n",
    "for ip in ip_addresses:\n",
    "    print(ip)"
   ]
  },
  {
   "cell_type": "code",
   "execution_count": 24,
   "id": "4c56a831",
   "metadata": {},
   "outputs": [],
   "source": [
    "text_1 = \"Cats are lovely pets. In computer vision Cats vs Dogs classsification is very common.\"\n"
   ]
  },
  {
   "cell_type": "code",
   "execution_count": 25,
   "id": "c8015255",
   "metadata": {},
   "outputs": [
    {
     "name": "stdout",
     "output_type": "stream",
     "text": [
      "<re.Match object; span=(0, 4), match='Cats'>\n"
     ]
    }
   ],
   "source": [
    "pattern = re.compile(r'\\ACats')\n",
    "matches = pattern.finditer(text_1)\n",
    "for each_match in matches:\n",
    "    print(each_match)"
   ]
  },
  {
   "cell_type": "code",
   "execution_count": 26,
   "id": "313a8730",
   "metadata": {},
   "outputs": [
    {
     "name": "stdout",
     "output_type": "stream",
     "text": [
      "<re.Match object; span=(0, 4), match='Cats'>\n",
      "<re.Match object; span=(41, 45), match='Cats'>\n"
     ]
    }
   ],
   "source": [
    "pattern = re.compile(r'Cats')\n",
    "matches = pattern.finditer(text_1)\n",
    "for each_match in matches:\n",
    "    print(each_match)"
   ]
  },
  {
   "cell_type": "code",
   "execution_count": 28,
   "id": "93528a83",
   "metadata": {},
   "outputs": [
    {
     "name": "stdout",
     "output_type": "stream",
     "text": [
      "<re.Match object; span=(49, 53), match='Dogs'>\n"
     ]
    }
   ],
   "source": [
    "pattern = re.compile(r'(D|d)ogs?')\n",
    "matches = pattern.finditer(text_1)\n",
    "for each_match in matches:\n",
    "    print(each_match)"
   ]
  },
  {
   "cell_type": "code",
   "execution_count": 29,
   "id": "29e6e7dc",
   "metadata": {},
   "outputs": [],
   "source": [
    "text_2 = \"Catch the concatenated categories from the scatterd catalyst.\""
   ]
  },
  {
   "cell_type": "code",
   "execution_count": 34,
   "id": "4d103fc2",
   "metadata": {},
   "outputs": [],
   "source": [
    "pattern = re.compile(r'\\bcat\\b')\n",
    "matches = pattern.finditer(text_2)\n",
    "for each_match in matches:\n",
    "    print(each_match)"
   ]
  },
  {
   "cell_type": "code",
   "execution_count": 33,
   "id": "f9e45e93",
   "metadata": {},
   "outputs": [
    {
     "name": "stdout",
     "output_type": "stream",
     "text": [
      "<re.Match object; span=(23, 26), match='cat'>\n",
      "<re.Match object; span=(52, 55), match='cat'>\n"
     ]
    }
   ],
   "source": [
    "pattern = re.compile(r'\\bcat')\n",
    "matches = pattern.finditer(text_2)\n",
    "for each_match in matches:\n",
    "    print(each_match)"
   ]
  },
  {
   "cell_type": "code",
   "execution_count": 36,
   "id": "929f4fbb",
   "metadata": {},
   "outputs": [
    {
     "name": "stdout",
     "output_type": "stream",
     "text": [
      "categories from the scatterd catalyst.\n",
      "scatterd catalyst.\n"
     ]
    }
   ],
   "source": [
    "print(text_2[23:])\n",
    "print(text_2[43:])"
   ]
  },
  {
   "cell_type": "code",
   "execution_count": 38,
   "id": "7b2ea702",
   "metadata": {},
   "outputs": [
    {
     "name": "stdout",
     "output_type": "stream",
     "text": [
      "<re.Match object; span=(0, 3), match='Cat'>\n",
      "<re.Match object; span=(23, 26), match='cat'>\n",
      "<re.Match object; span=(52, 55), match='cat'>\n"
     ]
    }
   ],
   "source": [
    "pattern = re.compile(r'\\b(C|c)at')\n",
    "matches = pattern.finditer(text_2)\n",
    "for each_match in matches:\n",
    "    print(each_match)"
   ]
  },
  {
   "cell_type": "code",
   "execution_count": 39,
   "id": "9470ef6b",
   "metadata": {},
   "outputs": [
    {
     "name": "stdout",
     "output_type": "stream",
     "text": [
      "<re.Match object; span=(0, 3), match='Cat'>\n"
     ]
    }
   ],
   "source": [
    "pattern = re.compile(r'\\A(C|c)at')\n",
    "matches = pattern.finditer(text_2)\n",
    "for each_match in matches:\n",
    "    print(each_match)"
   ]
  },
  {
   "cell_type": "code",
   "execution_count": 40,
   "id": "97be6691",
   "metadata": {},
   "outputs": [
    {
     "name": "stdout",
     "output_type": "stream",
     "text": [
      "<re.Match object; span=(0, 3), match='Cat'>\n",
      "<re.Match object; span=(13, 16), match='cat'>\n",
      "<re.Match object; span=(23, 26), match='cat'>\n",
      "<re.Match object; span=(44, 47), match='cat'>\n",
      "<re.Match object; span=(52, 55), match='cat'>\n"
     ]
    }
   ],
   "source": [
    "pattern = re.compile(r'(C|c)at')\n",
    "matches = pattern.finditer(text_2)\n",
    "for each_match in matches:\n",
    "    print(each_match)"
   ]
  },
  {
   "cell_type": "code",
   "execution_count": 41,
   "id": "7b6ec983",
   "metadata": {},
   "outputs": [
    {
     "name": "stdout",
     "output_type": "stream",
     "text": [
      "<re.Match object; span=(10, 22), match='concatenated'>\n",
      "<re.Match object; span=(23, 33), match='categories'>\n",
      "<re.Match object; span=(43, 51), match='scatterd'>\n",
      "<re.Match object; span=(52, 60), match='catalyst'>\n"
     ]
    }
   ],
   "source": [
    "pattern = re.compile(r'[a-z]*cat[a-z]*')\n",
    "matches = pattern.finditer(text_2)\n",
    "for each_match in matches:\n",
    "    print(each_match)"
   ]
  },
  {
   "cell_type": "code",
   "execution_count": 43,
   "id": "ad8c6c02",
   "metadata": {},
   "outputs": [
    {
     "name": "stdout",
     "output_type": "stream",
     "text": [
      "<re.Match object; span=(13, 16), match='cat'>\n",
      "<re.Match object; span=(44, 47), match='cat'>\n"
     ]
    }
   ],
   "source": [
    "pattern = re.compile(r'\\Bcat\\B')\n",
    "matches = pattern.finditer(text_2)\n",
    "for each_match in matches:\n",
    "    print(each_match)"
   ]
  },
  {
   "cell_type": "code",
   "execution_count": 44,
   "id": "6e2c172d",
   "metadata": {},
   "outputs": [],
   "source": [
    "text_3 = \"200 out of 450 employess of XYZ inc. signed-up for a 60 min exercise routine which involves walking 10,000 steps a day\""
   ]
  },
  {
   "cell_type": "code",
   "execution_count": 47,
   "id": "4cf0d72f",
   "metadata": {},
   "outputs": [
    {
     "name": "stdout",
     "output_type": "stream",
     "text": [
      "<re.Match object; span=(0, 1), match='2'>\n",
      "<re.Match object; span=(1, 2), match='0'>\n",
      "<re.Match object; span=(2, 3), match='0'>\n",
      "<re.Match object; span=(11, 12), match='4'>\n",
      "<re.Match object; span=(12, 13), match='5'>\n",
      "<re.Match object; span=(13, 14), match='0'>\n",
      "<re.Match object; span=(53, 54), match='6'>\n",
      "<re.Match object; span=(54, 55), match='0'>\n",
      "<re.Match object; span=(100, 101), match='1'>\n",
      "<re.Match object; span=(101, 102), match='0'>\n",
      "<re.Match object; span=(103, 104), match='0'>\n",
      "<re.Match object; span=(104, 105), match='0'>\n",
      "<re.Match object; span=(105, 106), match='0'>\n"
     ]
    }
   ],
   "source": [
    "pattern = re.compile(r'\\d')\n",
    "matches = pattern.finditer(text_3)\n",
    "for each_match in matches:\n",
    "    print(each_match)"
   ]
  },
  {
   "cell_type": "code",
   "execution_count": 48,
   "id": "5921bc21",
   "metadata": {},
   "outputs": [
    {
     "name": "stdout",
     "output_type": "stream",
     "text": [
      "<re.Match object; span=(0, 3), match='200'>\n",
      "<re.Match object; span=(11, 14), match='450'>\n",
      "<re.Match object; span=(53, 55), match='60'>\n",
      "<re.Match object; span=(100, 102), match='10'>\n",
      "<re.Match object; span=(103, 106), match='000'>\n"
     ]
    }
   ],
   "source": [
    "pattern = re.compile(r'\\b\\d+\\b')\n",
    "matches = pattern.finditer(text_3)\n",
    "for each_match in matches:\n",
    "    print(each_match)"
   ]
  },
  {
   "cell_type": "code",
   "execution_count": 50,
   "id": "1c375260",
   "metadata": {},
   "outputs": [
    {
     "name": "stdout",
     "output_type": "stream",
     "text": [
      "<re.Match object; span=(0, 3), match='200'>\n",
      "<re.Match object; span=(11, 14), match='450'>\n",
      "<re.Match object; span=(53, 55), match='60'>\n",
      "<re.Match object; span=(100, 106), match='10,000'>\n"
     ]
    }
   ],
   "source": [
    "pattern = re.compile(r'\\d+\\,?\\d+\\b')\n",
    "matches = pattern.finditer(text_3)\n",
    "for each_match in matches:\n",
    "    print(each_match)"
   ]
  },
  {
   "cell_type": "code",
   "execution_count": 52,
   "id": "8a556c7e",
   "metadata": {},
   "outputs": [
    {
     "name": "stdout",
     "output_type": "stream",
     "text": [
      "<re.Match object; span=(0, 3), match='200'>\n",
      "<re.Match object; span=(4, 7), match='out'>\n",
      "<re.Match object; span=(8, 10), match='of'>\n",
      "<re.Match object; span=(11, 14), match='450'>\n",
      "<re.Match object; span=(15, 24), match='employess'>\n",
      "<re.Match object; span=(25, 27), match='of'>\n",
      "<re.Match object; span=(28, 31), match='XYZ'>\n",
      "<re.Match object; span=(32, 35), match='inc'>\n",
      "<re.Match object; span=(37, 46), match='signed-up'>\n",
      "<re.Match object; span=(47, 50), match='for'>\n",
      "<re.Match object; span=(51, 52), match='a'>\n",
      "<re.Match object; span=(53, 55), match='60'>\n",
      "<re.Match object; span=(56, 59), match='min'>\n",
      "<re.Match object; span=(60, 68), match='exercise'>\n",
      "<re.Match object; span=(69, 76), match='routine'>\n",
      "<re.Match object; span=(77, 82), match='which'>\n",
      "<re.Match object; span=(83, 91), match='involves'>\n",
      "<re.Match object; span=(92, 99), match='walking'>\n",
      "<re.Match object; span=(100, 106), match='10,000'>\n",
      "<re.Match object; span=(107, 112), match='steps'>\n",
      "<re.Match object; span=(113, 114), match='a'>\n",
      "<re.Match object; span=(115, 118), match='day'>\n"
     ]
    }
   ],
   "source": [
    "pattern = re.compile(r'\\S+\\b')\n",
    "matches = pattern.finditer(text_3)\n",
    "for each_match in matches:\n",
    "    print(each_match)"
   ]
  },
  {
   "cell_type": "code",
   "execution_count": 51,
   "id": "afbc4eef",
   "metadata": {},
   "outputs": [
    {
     "name": "stdout",
     "output_type": "stream",
     "text": [
      "<re.Match object; span=(3, 7), match=' out'>\n",
      "<re.Match object; span=(7, 10), match=' of'>\n",
      "<re.Match object; span=(10, 14), match=' 450'>\n",
      "<re.Match object; span=(14, 24), match=' employess'>\n",
      "<re.Match object; span=(24, 27), match=' of'>\n",
      "<re.Match object; span=(27, 31), match=' XYZ'>\n",
      "<re.Match object; span=(31, 35), match=' inc'>\n",
      "<re.Match object; span=(36, 43), match=' signed'>\n",
      "<re.Match object; span=(46, 50), match=' for'>\n",
      "<re.Match object; span=(50, 52), match=' a'>\n",
      "<re.Match object; span=(52, 55), match=' 60'>\n",
      "<re.Match object; span=(55, 59), match=' min'>\n",
      "<re.Match object; span=(59, 68), match=' exercise'>\n",
      "<re.Match object; span=(68, 76), match=' routine'>\n",
      "<re.Match object; span=(76, 82), match=' which'>\n",
      "<re.Match object; span=(82, 91), match=' involves'>\n",
      "<re.Match object; span=(91, 99), match=' walking'>\n",
      "<re.Match object; span=(99, 102), match=' 10'>\n",
      "<re.Match object; span=(106, 112), match=' steps'>\n",
      "<re.Match object; span=(112, 114), match=' a'>\n",
      "<re.Match object; span=(114, 118), match=' day'>\n"
     ]
    }
   ],
   "source": [
    "pattern = re.compile(r'\\s\\w+')\n",
    "matches = pattern.finditer(text_3)\n",
    "for each_match in matches:\n",
    "    print(each_match)"
   ]
  },
  {
   "cell_type": "code",
   "execution_count": 53,
   "id": "2f1510b8",
   "metadata": {},
   "outputs": [
    {
     "name": "stdout",
     "output_type": "stream",
     "text": [
      "<re.Match object; span=(0, 7), match='200 out'>\n",
      "<re.Match object; span=(8, 14), match='of 450'>\n",
      "<re.Match object; span=(15, 27), match='employess of'>\n",
      "<re.Match object; span=(28, 36), match='XYZ inc.'>\n",
      "<re.Match object; span=(37, 50), match='signed-up for'>\n",
      "<re.Match object; span=(51, 55), match='a 60'>\n",
      "<re.Match object; span=(56, 68), match='min exercise'>\n",
      "<re.Match object; span=(69, 82), match='routine which'>\n",
      "<re.Match object; span=(83, 99), match='involves walking'>\n",
      "<re.Match object; span=(100, 112), match='10,000 steps'>\n",
      "<re.Match object; span=(113, 118), match='a day'>\n"
     ]
    }
   ],
   "source": [
    "pattern = re.compile(r'\\S+\\s\\S+')\n",
    "matches = pattern.finditer(text_3)\n",
    "for each_match in matches:\n",
    "    print(each_match)"
   ]
  },
  {
   "cell_type": "code",
   "execution_count": 54,
   "id": "65960a81",
   "metadata": {},
   "outputs": [],
   "source": [
    "text_4 = '''\n",
    "albert.shwartz@gmail.com\n",
    "lisa25@outlook.co.uk\n",
    "jack.quintana12@yahoo.com\n",
    "norman@gmail\n",
    "no_email.com\n",
    "micheal+perrio@insight.ai\n",
    "'''"
   ]
  },
  {
   "cell_type": "code",
   "execution_count": 55,
   "id": "f0cde260",
   "metadata": {},
   "outputs": [
    {
     "name": "stdout",
     "output_type": "stream",
     "text": [
      "<re.Match object; span=(1, 25), match='albert.shwartz@gmail.com'>\n",
      "<re.Match object; span=(26, 46), match='lisa25@outlook.co.uk'>\n",
      "<re.Match object; span=(47, 72), match='jack.quintana12@yahoo.com'>\n",
      "<re.Match object; span=(99, 124), match='micheal+perrio@insight.ai'>\n"
     ]
    }
   ],
   "source": [
    "pattern = re.compile(r'\\b[\\w._+-]+@[\\w.-]+\\.[A-Za-z]{2,}(\\.[A-Za-z]{2,})?\\b')\n",
    "matches = pattern.finditer(text_4)\n",
    "for each_match in matches:\n",
    "    print(each_match)"
   ]
  },
  {
   "cell_type": "code",
   "execution_count": null,
   "id": "352b5665",
   "metadata": {},
   "outputs": [],
   "source": []
  }
 ],
 "metadata": {
  "kernelspec": {
   "display_name": "venv",
   "language": "python",
   "name": "python3"
  },
  "language_info": {
   "codemirror_mode": {
    "name": "ipython",
    "version": 3
   },
   "file_extension": ".py",
   "mimetype": "text/x-python",
   "name": "python",
   "nbconvert_exporter": "python",
   "pygments_lexer": "ipython3",
   "version": "3.12.3"
  }
 },
 "nbformat": 4,
 "nbformat_minor": 5
}
