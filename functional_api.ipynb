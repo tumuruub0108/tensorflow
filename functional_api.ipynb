{
 "cells": [
  {
   "cell_type": "code",
   "execution_count": 1,
   "id": "1c4d148e",
   "metadata": {},
   "outputs": [
    {
     "name": "stderr",
     "output_type": "stream",
     "text": [
      "2025-10-29 15:30:34.269953: I tensorflow/core/platform/cpu_feature_guard.cc:210] This TensorFlow binary is optimized to use available CPU instructions in performance-critical operations.\n",
      "To enable the following instructions: AVX2 FMA, in other operations, rebuild TensorFlow with the appropriate compiler flags.\n"
     ]
    }
   ],
   "source": [
    "import matplotlib.pyplot as plt\n",
    "import pandas as pd\n",
    "import numpy as np\n",
    "import tensorflow as tf\n",
    "from sklearn.datasets import fetch_california_housing\n",
    "from sklearn.model_selection import train_test_split"
   ]
  },
  {
   "cell_type": "markdown",
   "id": "4da9a5c2",
   "metadata": {},
   "source": [
    "# Building Complex Models Using the Functional API\n",
    "One example of a nonsequential neural network is a Wide & Deep neural network\n",
    "\n",
    "<img src=\"https://raw.githubusercontent.com/sambitmukherjee/handson-ml3-pytorch/main/chapter10/Figure_10-13.png\" width=\"480\">"
   ]
  },
  {
   "cell_type": "code",
   "execution_count": 2,
   "id": "8fb9f3ef",
   "metadata": {},
   "outputs": [],
   "source": [
    "housing = fetch_california_housing()\n",
    " \n",
    "X_train_full, X_test, y_train_full, y_test = train_test_split(housing.data, housing.target, random_state=42)\n",
    "X_train, X_valid, y_train, y_valid = train_test_split(X_train_full, y_train_full, random_state=42)"
   ]
  },
  {
   "cell_type": "code",
   "execution_count": 3,
   "id": "c3c3a6f5",
   "metadata": {},
   "outputs": [],
   "source": [
    "normalization_layer = tf.keras.layers.Normalization()\n",
    "hidden_layer1 = tf.keras.layers.Dense(30, activation=\"relu\")\n",
    "hidden_layer2 = tf.keras.layers.Dense(30, activation=\"relu\")\n",
    "concat_layer = tf.keras.layers.Concatenate()\n",
    "output_layer = tf.keras.layers.Dense(1)"
   ]
  },
  {
   "cell_type": "code",
   "execution_count": 4,
   "id": "b661fb59",
   "metadata": {},
   "outputs": [
    {
     "name": "stderr",
     "output_type": "stream",
     "text": [
      "WARNING: All log messages before absl::InitializeLog() is called are written to STDERR\n",
      "W0000 00:00:1761719438.767677   18333 gpu_device.cc:2342] Cannot dlopen some GPU libraries. Please make sure the missing libraries mentioned above are installed properly if you would like to use GPU. Follow the guide at https://www.tensorflow.org/install/gpu for how to download and setup the required libraries for your platform.\n",
      "Skipping registering GPU devices...\n"
     ]
    }
   ],
   "source": [
    "input_ = tf.keras.layers.Input(shape=X_train.shape[1:])\n",
    "normalized = normalization_layer(input_)\n",
    "hidden1 = hidden_layer1(normalized)\n",
    "hidden2 = hidden_layer2(hidden1)\n",
    "concat = concat_layer([normalized, hidden2])\n",
    "output = output_layer(concat)"
   ]
  },
  {
   "cell_type": "code",
   "execution_count": 5,
   "id": "b1f14eaf",
   "metadata": {},
   "outputs": [],
   "source": [
    "model = tf.keras.Model(inputs=[input_], outputs=[output])"
   ]
  },
  {
   "cell_type": "markdown",
   "id": "25a2995a",
   "metadata": {},
   "source": [
    "But what if you want to send a subset of the features through the wide path and a different subset (possibly overlapping) through the deep path, In this case, one solution is to use multiple inputs. For example, suppose we want to send five features through the wide path (features 0 to 4), and six features through the deep path (features 2 to 7). We can do this as follows:\n",
    "\n",
    "\n",
    "<img src=\"https://raw.githubusercontent.com/sambitmukherjee/handson-ml3-pytorch/main/chapter10/Figure_10-14.png\" width=\"480\">"
   ]
  },
  {
   "cell_type": "code",
   "execution_count": 6,
   "id": "9a94eba0",
   "metadata": {},
   "outputs": [],
   "source": [
    "input_wide = tf.keras.layers.Input(shape=[5]) # features 0 to 4\n",
    "input_deep = tf.keras.layers.Input(shape=[6]) # features 2 to 7\n",
    "\n",
    "norm_layer_wide = tf.keras.layers.Normalization()\n",
    "norm_layer_deep = tf.keras.layers.Normalization()\n",
    "\n",
    "norm_wide = norm_layer_wide(input_wide)\n",
    "norm_deep = norm_layer_deep(input_deep)\n",
    "\n",
    "hidden1 = tf.keras.layers.Dense(30, activation=\"relu\")(norm_deep)\n",
    "hidden2 = tf.keras.layers.Dense(30, activation=\"relu\")(hidden1)\n",
    "\n",
    "concat = tf.keras.layers.concatenate([norm_wide, hidden2])\n",
    "output = tf.keras.layers.Dense(1)(concat)\n",
    "\n",
    "model = tf.keras.Model(inputs=[input_wide, input_deep], outputs=[output])"
   ]
  },
  {
   "cell_type": "markdown",
   "id": "37608abd",
   "metadata": {},
   "source": [
    "There are a few things to note in this example, compared to the previous one:\n",
    "\n",
    "Each Dense layer is created and called on the same line. This is a common practice, as it makes the code more concise without losing clarity. However, we can’t do this with the Normalization layer since we need a reference to the layer to be able to call its adapt() method before fitting the model.\n",
    "\n",
    "\n",
    "\n",
    "We used tf.keras.layers.concatenate(), which creates a Concatenate layer and calls it with the given inputs.\n",
    "\n",
    "\n",
    "We specified inputs=[input_wide, input_deep] when creating the model, since there are two inputs"
   ]
  },
  {
   "cell_type": "code",
   "execution_count": 7,
   "id": "185d1f2c",
   "metadata": {},
   "outputs": [],
   "source": [
    "optimizer = tf.keras.optimizers.Adam(learning_rate=1e-3)\n",
    "model.compile(loss=\"mse\", optimizer=optimizer, metrics=[\"RootMeanSquaredError\"])"
   ]
  },
  {
   "cell_type": "code",
   "execution_count": 8,
   "id": "a58ec9bf",
   "metadata": {},
   "outputs": [],
   "source": [
    "X_train_wide, X_train_deep = X_train[:, :5], X_train[:, 2:]\n",
    "X_valid_wide, X_valid_deep = X_valid[:, :5], X_valid[:, 2:]\n",
    "\n",
    "X_test_wide, X_test_deep = X_test[:, :5], X_test[:, 2:]\n",
    "X_new_wide, X_new_deep = X_test_wide[:3], X_test_deep[:3]"
   ]
  },
  {
   "cell_type": "code",
   "execution_count": 9,
   "id": "4c64fdab",
   "metadata": {},
   "outputs": [
    {
     "name": "stdout",
     "output_type": "stream",
     "text": [
      "Epoch 1/20\n",
      "\u001b[1m363/363\u001b[0m \u001b[32m━━━━━━━━━━━━━━━━━━━━\u001b[0m\u001b[37m\u001b[0m \u001b[1m2s\u001b[0m 3ms/step - RootMeanSquaredError: 1.3687 - loss: 1.8734 - val_RootMeanSquaredError: 1.4593 - val_loss: 2.1296\n",
      "Epoch 2/20\n",
      "\u001b[1m363/363\u001b[0m \u001b[32m━━━━━━━━━━━━━━━━━━━━\u001b[0m\u001b[37m\u001b[0m \u001b[1m1s\u001b[0m 2ms/step - RootMeanSquaredError: 0.7220 - loss: 0.5213 - val_RootMeanSquaredError: 1.1528 - val_loss: 1.3288\n",
      "Epoch 3/20\n",
      "\u001b[1m363/363\u001b[0m \u001b[32m━━━━━━━━━━━━━━━━━━━━\u001b[0m\u001b[37m\u001b[0m \u001b[1m1s\u001b[0m 2ms/step - RootMeanSquaredError: 0.6756 - loss: 0.4564 - val_RootMeanSquaredError: 0.7284 - val_loss: 0.5305\n",
      "Epoch 4/20\n",
      "\u001b[1m363/363\u001b[0m \u001b[32m━━━━━━━━━━━━━━━━━━━━\u001b[0m\u001b[37m\u001b[0m \u001b[1m1s\u001b[0m 2ms/step - RootMeanSquaredError: 0.6488 - loss: 0.4209 - val_RootMeanSquaredError: 0.6283 - val_loss: 0.3948\n",
      "Epoch 5/20\n",
      "\u001b[1m363/363\u001b[0m \u001b[32m━━━━━━━━━━━━━━━━━━━━\u001b[0m\u001b[37m\u001b[0m \u001b[1m1s\u001b[0m 2ms/step - RootMeanSquaredError: 0.6330 - loss: 0.4007 - val_RootMeanSquaredError: 1.0336 - val_loss: 1.0683\n",
      "Epoch 6/20\n",
      "\u001b[1m363/363\u001b[0m \u001b[32m━━━━━━━━━━━━━━━━━━━━\u001b[0m\u001b[37m\u001b[0m \u001b[1m1s\u001b[0m 2ms/step - RootMeanSquaredError: 0.6256 - loss: 0.3913 - val_RootMeanSquaredError: 1.2152 - val_loss: 1.4768\n",
      "Epoch 7/20\n",
      "\u001b[1m363/363\u001b[0m \u001b[32m━━━━━━━━━━━━━━━━━━━━\u001b[0m\u001b[37m\u001b[0m \u001b[1m1s\u001b[0m 2ms/step - RootMeanSquaredError: 0.6289 - loss: 0.3955 - val_RootMeanSquaredError: 1.1351 - val_loss: 1.2884\n",
      "Epoch 8/20\n",
      "\u001b[1m363/363\u001b[0m \u001b[32m━━━━━━━━━━━━━━━━━━━━\u001b[0m\u001b[37m\u001b[0m \u001b[1m1s\u001b[0m 2ms/step - RootMeanSquaredError: 0.6163 - loss: 0.3798 - val_RootMeanSquaredError: 1.1128 - val_loss: 1.2383\n",
      "Epoch 9/20\n",
      "\u001b[1m363/363\u001b[0m \u001b[32m━━━━━━━━━━━━━━━━━━━━\u001b[0m\u001b[37m\u001b[0m \u001b[1m1s\u001b[0m 2ms/step - RootMeanSquaredError: 0.6109 - loss: 0.3732 - val_RootMeanSquaredError: 1.5863 - val_loss: 2.5162\n",
      "Epoch 10/20\n",
      "\u001b[1m363/363\u001b[0m \u001b[32m━━━━━━━━━━━━━━━━━━━━\u001b[0m\u001b[37m\u001b[0m \u001b[1m1s\u001b[0m 2ms/step - RootMeanSquaredError: 0.6107 - loss: 0.3729 - val_RootMeanSquaredError: 1.4340 - val_loss: 2.0564\n",
      "Epoch 11/20\n",
      "\u001b[1m363/363\u001b[0m \u001b[32m━━━━━━━━━━━━━━━━━━━━\u001b[0m\u001b[37m\u001b[0m \u001b[1m1s\u001b[0m 2ms/step - RootMeanSquaredError: 0.6093 - loss: 0.3712 - val_RootMeanSquaredError: 1.2752 - val_loss: 1.6262\n",
      "Epoch 12/20\n",
      "\u001b[1m363/363\u001b[0m \u001b[32m━━━━━━━━━━━━━━━━━━━━\u001b[0m\u001b[37m\u001b[0m \u001b[1m1s\u001b[0m 2ms/step - RootMeanSquaredError: 0.5993 - loss: 0.3592 - val_RootMeanSquaredError: 0.8119 - val_loss: 0.6591\n",
      "Epoch 13/20\n",
      "\u001b[1m363/363\u001b[0m \u001b[32m━━━━━━━━━━━━━━━━━━━━\u001b[0m\u001b[37m\u001b[0m \u001b[1m1s\u001b[0m 2ms/step - RootMeanSquaredError: 0.5981 - loss: 0.3577 - val_RootMeanSquaredError: 1.0129 - val_loss: 1.0261\n",
      "Epoch 14/20\n",
      "\u001b[1m363/363\u001b[0m \u001b[32m━━━━━━━━━━━━━━━━━━━━\u001b[0m\u001b[37m\u001b[0m \u001b[1m1s\u001b[0m 2ms/step - RootMeanSquaredError: 0.5889 - loss: 0.3468 - val_RootMeanSquaredError: 0.8344 - val_loss: 0.6961\n",
      "Epoch 15/20\n",
      "\u001b[1m363/363\u001b[0m \u001b[32m━━━━━━━━━━━━━━━━━━━━\u001b[0m\u001b[37m\u001b[0m \u001b[1m1s\u001b[0m 2ms/step - RootMeanSquaredError: 0.5881 - loss: 0.3458 - val_RootMeanSquaredError: 0.7233 - val_loss: 0.5232\n",
      "Epoch 16/20\n",
      "\u001b[1m363/363\u001b[0m \u001b[32m━━━━━━━━━━━━━━━━━━━━\u001b[0m\u001b[37m\u001b[0m \u001b[1m1s\u001b[0m 2ms/step - RootMeanSquaredError: 0.5823 - loss: 0.3391 - val_RootMeanSquaredError: 0.8507 - val_loss: 0.7237\n",
      "Epoch 17/20\n",
      "\u001b[1m363/363\u001b[0m \u001b[32m━━━━━━━━━━━━━━━━━━━━\u001b[0m\u001b[37m\u001b[0m \u001b[1m1s\u001b[0m 2ms/step - RootMeanSquaredError: 0.5799 - loss: 0.3363 - val_RootMeanSquaredError: 1.1401 - val_loss: 1.2999\n",
      "Epoch 18/20\n",
      "\u001b[1m363/363\u001b[0m \u001b[32m━━━━━━━━━━━━━━━━━━━━\u001b[0m\u001b[37m\u001b[0m \u001b[1m1s\u001b[0m 2ms/step - RootMeanSquaredError: 0.5826 - loss: 0.3394 - val_RootMeanSquaredError: 1.1940 - val_loss: 1.4257\n",
      "Epoch 19/20\n",
      "\u001b[1m363/363\u001b[0m \u001b[32m━━━━━━━━━━━━━━━━━━━━\u001b[0m\u001b[37m\u001b[0m \u001b[1m1s\u001b[0m 3ms/step - RootMeanSquaredError: 0.5815 - loss: 0.3381 - val_RootMeanSquaredError: 1.0393 - val_loss: 1.0802\n",
      "Epoch 20/20\n",
      "\u001b[1m363/363\u001b[0m \u001b[32m━━━━━━━━━━━━━━━━━━━━\u001b[0m\u001b[37m\u001b[0m \u001b[1m1s\u001b[0m 2ms/step - RootMeanSquaredError: 0.5866 - loss: 0.3441 - val_RootMeanSquaredError: 0.6024 - val_loss: 0.3629\n",
      "\u001b[1m162/162\u001b[0m \u001b[32m━━━━━━━━━━━━━━━━━━━━\u001b[0m\u001b[37m\u001b[0m \u001b[1m0s\u001b[0m 2ms/step - RootMeanSquaredError: 0.5801 - loss: 0.3365\n",
      "\u001b[1m1/1\u001b[0m \u001b[32m━━━━━━━━━━━━━━━━━━━━\u001b[0m\u001b[37m\u001b[0m \u001b[1m0s\u001b[0m 92ms/step\n"
     ]
    }
   ],
   "source": [
    "norm_layer_wide.adapt(X_train_wide)\n",
    "norm_layer_deep.adapt(X_train_deep)\n",
    "\n",
    "history = model.fit((X_train_wide, X_train_deep), y_train, epochs=20, validation_data=((X_valid_wide, X_valid_deep), y_valid))\n",
    "\n",
    "mse_test = model.evaluate((X_test_wide, X_test_deep), y_test)\n",
    "y_pred = model.predict((X_new_wide, X_new_deep))"
   ]
  },
  {
   "cell_type": "markdown",
   "id": "6f1e2ae3",
   "metadata": {},
   "source": [
    "There are also many use cases in which you may want to have multiple outputs:\n",
    "\n",
    "The task may demand it. For instance, you may want to locate and classify the main object in a picture. This is both a regression tasks and a classification task.\n",
    "\n",
    "Similarly, you may have multiple independent tasks based on the same data. Sure, you could train one neural network per task, but in many cases you will get better results on all tasks by training a single neural network with one output per task. This is because the neural network can learn features in the data that are useful across tasks. For example, you could perform multitask classification on pictures of faces, using one output to classify the person’s facial expression (smiling, surprised, etc.) and another output to identify whether they are wearing glasses or not.\n",
    "\n",
    "\n",
    "Another use case is as a regularization technique (i.e., a trainingconstraint whose objective is to reduce overfitting and thus improve the model’s ability to generalize). For example, you may want to add an auxiliary output in a neural network architecture (see Figure 10-15) to ensure that the underlying part of the network learns something useful on its own, without relying on the rest of the network.\n",
    "\n",
    "<img src=\"https://raw.githubusercontent.com/sambitmukherjee/handson-ml3-pytorch/main/chapter10/Figure_10-15.png\" width=\"480\">\n",
    "\n",
    "Adding an extra output is quite easy: we just connect it to the appropriate layer and add it to the model’s list of outputs. For example, the following code builds the network represented in Figure 10-15:"
   ]
  },
  {
   "cell_type": "code",
   "execution_count": 10,
   "id": "92d66bf0",
   "metadata": {},
   "outputs": [],
   "source": [
    "output = tf.keras.layers.Dense(1)(concat)\n",
    "aux_output = tf.keras.layers.Dense(1)(hidden2)\n",
    "\n",
    "model = tf.keras.Model(inputs=[input_wide, input_deep],outputs=[output, aux_output])"
   ]
  },
  {
   "cell_type": "code",
   "execution_count": 11,
   "id": "149e523e",
   "metadata": {},
   "outputs": [],
   "source": [
    "optimizer = tf.keras.optimizers.Adam(learning_rate=1e-3)\n",
    "\n",
    "model.compile(loss=(\"mse\", \"mse\"), loss_weights=(0.9, 0.1), optimizer=optimizer, metrics=[['RootMeanSquaredError'], ['RootMeanSquaredError']])"
   ]
  },
  {
   "cell_type": "code",
   "execution_count": 12,
   "id": "331634fe",
   "metadata": {},
   "outputs": [
    {
     "name": "stdout",
     "output_type": "stream",
     "text": [
      "Epoch 1/20\n",
      "\u001b[1m363/363\u001b[0m \u001b[32m━━━━━━━━━━━━━━━━━━━━\u001b[0m\u001b[37m\u001b[0m \u001b[1m3s\u001b[0m 4ms/step - dense_6_RootMeanSquaredError: 1.5668 - dense_6_loss: 2.4541 - dense_7_RootMeanSquaredError: 1.3223 - dense_7_loss: 1.7483 - loss: 2.3841 - val_dense_6_RootMeanSquaredError: 0.9386 - val_dense_6_loss: 0.8807 - val_dense_7_RootMeanSquaredError: 0.9498 - val_dense_7_loss: 0.9019 - val_loss: 0.8831\n",
      "Epoch 2/20\n",
      "\u001b[1m363/363\u001b[0m \u001b[32m━━━━━━━━━━━━━━━━━━━━\u001b[0m\u001b[37m\u001b[0m \u001b[1m1s\u001b[0m 3ms/step - dense_6_RootMeanSquaredError: 0.6749 - dense_6_loss: 0.4554 - dense_7_RootMeanSquaredError: 0.7843 - dense_7_loss: 0.6150 - loss: 0.4714 - val_dense_6_RootMeanSquaredError: 0.9759 - val_dense_6_loss: 0.9519 - val_dense_7_RootMeanSquaredError: 1.2858 - val_dense_7_loss: 1.6527 - val_loss: 1.0224\n",
      "Epoch 3/20\n",
      "\u001b[1m363/363\u001b[0m \u001b[32m━━━━━━━━━━━━━━━━━━━━\u001b[0m\u001b[37m\u001b[0m \u001b[1m1s\u001b[0m 3ms/step - dense_6_RootMeanSquaredError: 0.6362 - dense_6_loss: 0.4047 - dense_7_RootMeanSquaredError: 0.7180 - dense_7_loss: 0.5154 - loss: 0.4158 - val_dense_6_RootMeanSquaredError: 0.6128 - val_dense_6_loss: 0.3755 - val_dense_7_RootMeanSquaredError: 0.7996 - val_dense_7_loss: 0.6392 - val_loss: 0.4019\n",
      "Epoch 4/20\n",
      "\u001b[1m363/363\u001b[0m \u001b[32m━━━━━━━━━━━━━━━━━━━━\u001b[0m\u001b[37m\u001b[0m \u001b[1m1s\u001b[0m 3ms/step - dense_6_RootMeanSquaredError: 0.6165 - dense_6_loss: 0.3801 - dense_7_RootMeanSquaredError: 0.6872 - dense_7_loss: 0.4722 - loss: 0.3893 - val_dense_6_RootMeanSquaredError: 0.6600 - val_dense_6_loss: 0.4355 - val_dense_7_RootMeanSquaredError: 0.7679 - val_dense_7_loss: 0.5896 - val_loss: 0.4510\n",
      "Epoch 5/20\n",
      "\u001b[1m363/363\u001b[0m \u001b[32m━━━━━━━━━━━━━━━━━━━━\u001b[0m\u001b[37m\u001b[0m \u001b[1m1s\u001b[0m 3ms/step - dense_6_RootMeanSquaredError: 0.6052 - dense_6_loss: 0.3662 - dense_7_RootMeanSquaredError: 0.6769 - dense_7_loss: 0.4580 - loss: 0.3755 - val_dense_6_RootMeanSquaredError: 0.6004 - val_dense_6_loss: 0.3604 - val_dense_7_RootMeanSquaredError: 0.6631 - val_dense_7_loss: 0.4396 - val_loss: 0.3684\n",
      "Epoch 6/20\n",
      "\u001b[1m363/363\u001b[0m \u001b[32m━━━━━━━━━━━━━━━━━━━━\u001b[0m\u001b[37m\u001b[0m \u001b[1m1s\u001b[0m 3ms/step - dense_6_RootMeanSquaredError: 0.6014 - dense_6_loss: 0.3617 - dense_7_RootMeanSquaredError: 0.6651 - dense_7_loss: 0.4424 - loss: 0.3698 - val_dense_6_RootMeanSquaredError: 0.8753 - val_dense_6_loss: 0.7659 - val_dense_7_RootMeanSquaredError: 0.9199 - val_dense_7_loss: 0.8460 - val_loss: 0.7742\n",
      "Epoch 7/20\n",
      "\u001b[1m363/363\u001b[0m \u001b[32m━━━━━━━━━━━━━━━━━━━━\u001b[0m\u001b[37m\u001b[0m \u001b[1m1s\u001b[0m 3ms/step - dense_6_RootMeanSquaredError: 0.5972 - dense_6_loss: 0.3566 - dense_7_RootMeanSquaredError: 0.6602 - dense_7_loss: 0.4359 - loss: 0.3646 - val_dense_6_RootMeanSquaredError: 0.5745 - val_dense_6_loss: 0.3299 - val_dense_7_RootMeanSquaredError: 0.6431 - val_dense_7_loss: 0.4135 - val_loss: 0.3384\n",
      "Epoch 8/20\n",
      "\u001b[1m363/363\u001b[0m \u001b[32m━━━━━━━━━━━━━━━━━━━━\u001b[0m\u001b[37m\u001b[0m \u001b[1m1s\u001b[0m 3ms/step - dense_6_RootMeanSquaredError: 0.5892 - dense_6_loss: 0.3472 - dense_7_RootMeanSquaredError: 0.6524 - dense_7_loss: 0.4257 - loss: 0.3551 - val_dense_6_RootMeanSquaredError: 0.5686 - val_dense_6_loss: 0.3232 - val_dense_7_RootMeanSquaredError: 0.6369 - val_dense_7_loss: 0.4055 - val_loss: 0.3315\n",
      "Epoch 9/20\n",
      "\u001b[1m363/363\u001b[0m \u001b[32m━━━━━━━━━━━━━━━━━━━━\u001b[0m\u001b[37m\u001b[0m \u001b[1m1s\u001b[0m 3ms/step - dense_6_RootMeanSquaredError: 0.5898 - dense_6_loss: 0.3478 - dense_7_RootMeanSquaredError: 0.6515 - dense_7_loss: 0.4244 - loss: 0.3555 - val_dense_6_RootMeanSquaredError: 0.6254 - val_dense_6_loss: 0.3910 - val_dense_7_RootMeanSquaredError: 0.7164 - val_dense_7_loss: 0.5131 - val_loss: 0.4033\n",
      "Epoch 10/20\n",
      "\u001b[1m363/363\u001b[0m \u001b[32m━━━━━━━━━━━━━━━━━━━━\u001b[0m\u001b[37m\u001b[0m \u001b[1m1s\u001b[0m 3ms/step - dense_6_RootMeanSquaredError: 0.5868 - dense_6_loss: 0.3445 - dense_7_RootMeanSquaredError: 0.6412 - dense_7_loss: 0.4112 - loss: 0.3510 - val_dense_6_RootMeanSquaredError: 0.8828 - val_dense_6_loss: 0.7790 - val_dense_7_RootMeanSquaredError: 1.0286 - val_dense_7_loss: 1.0576 - val_loss: 0.8072\n",
      "Epoch 11/20\n",
      "\u001b[1m363/363\u001b[0m \u001b[32m━━━━━━━━━━━━━━━━━━━━\u001b[0m\u001b[37m\u001b[0m \u001b[1m1s\u001b[0m 3ms/step - dense_6_RootMeanSquaredError: 0.5860 - dense_6_loss: 0.3435 - dense_7_RootMeanSquaredError: 0.6472 - dense_7_loss: 0.4189 - loss: 0.3510 - val_dense_6_RootMeanSquaredError: 0.5571 - val_dense_6_loss: 0.3103 - val_dense_7_RootMeanSquaredError: 0.6198 - val_dense_7_loss: 0.3841 - val_loss: 0.3178\n",
      "Epoch 12/20\n",
      "\u001b[1m363/363\u001b[0m \u001b[32m━━━━━━━━━━━━━━━━━━━━\u001b[0m\u001b[37m\u001b[0m \u001b[1m1s\u001b[0m 3ms/step - dense_6_RootMeanSquaredError: 0.5802 - dense_6_loss: 0.3367 - dense_7_RootMeanSquaredError: 0.6358 - dense_7_loss: 0.4043 - loss: 0.3434 - val_dense_6_RootMeanSquaredError: 0.6138 - val_dense_6_loss: 0.3767 - val_dense_7_RootMeanSquaredError: 0.6641 - val_dense_7_loss: 0.4409 - val_loss: 0.3832\n",
      "Epoch 13/20\n",
      "\u001b[1m363/363\u001b[0m \u001b[32m━━━━━━━━━━━━━━━━━━━━\u001b[0m\u001b[37m\u001b[0m \u001b[1m1s\u001b[0m 3ms/step - dense_6_RootMeanSquaredError: 0.5828 - dense_6_loss: 0.3397 - dense_7_RootMeanSquaredError: 0.6415 - dense_7_loss: 0.4116 - loss: 0.3469 - val_dense_6_RootMeanSquaredError: 0.5564 - val_dense_6_loss: 0.3095 - val_dense_7_RootMeanSquaredError: 0.6149 - val_dense_7_loss: 0.3780 - val_loss: 0.3164\n",
      "Epoch 14/20\n",
      "\u001b[1m363/363\u001b[0m \u001b[32m━━━━━━━━━━━━━━━━━━━━\u001b[0m\u001b[37m\u001b[0m \u001b[1m1s\u001b[0m 3ms/step - dense_6_RootMeanSquaredError: 0.5781 - dense_6_loss: 0.3342 - dense_7_RootMeanSquaredError: 0.6301 - dense_7_loss: 0.3970 - loss: 0.3405 - val_dense_6_RootMeanSquaredError: 0.6697 - val_dense_6_loss: 0.4484 - val_dense_7_RootMeanSquaredError: 0.7630 - val_dense_7_loss: 0.5821 - val_loss: 0.4619\n",
      "Epoch 15/20\n",
      "\u001b[1m363/363\u001b[0m \u001b[32m━━━━━━━━━━━━━━━━━━━━\u001b[0m\u001b[37m\u001b[0m \u001b[1m1s\u001b[0m 3ms/step - dense_6_RootMeanSquaredError: 0.5760 - dense_6_loss: 0.3318 - dense_7_RootMeanSquaredError: 0.6288 - dense_7_loss: 0.3955 - loss: 0.3381 - val_dense_6_RootMeanSquaredError: 0.5619 - val_dense_6_loss: 0.3157 - val_dense_7_RootMeanSquaredError: 0.6145 - val_dense_7_loss: 0.3776 - val_loss: 0.3220\n",
      "Epoch 16/20\n",
      "\u001b[1m363/363\u001b[0m \u001b[32m━━━━━━━━━━━━━━━━━━━━\u001b[0m\u001b[37m\u001b[0m \u001b[1m1s\u001b[0m 3ms/step - dense_6_RootMeanSquaredError: 0.5750 - dense_6_loss: 0.3306 - dense_7_RootMeanSquaredError: 0.6287 - dense_7_loss: 0.3953 - loss: 0.3371 - val_dense_6_RootMeanSquaredError: 0.6038 - val_dense_6_loss: 0.3645 - val_dense_7_RootMeanSquaredError: 0.6808 - val_dense_7_loss: 0.4634 - val_loss: 0.3745\n",
      "Epoch 17/20\n",
      "\u001b[1m363/363\u001b[0m \u001b[32m━━━━━━━━━━━━━━━━━━━━\u001b[0m\u001b[37m\u001b[0m \u001b[1m1s\u001b[0m 3ms/step - dense_6_RootMeanSquaredError: 0.5730 - dense_6_loss: 0.3283 - dense_7_RootMeanSquaredError: 0.6256 - dense_7_loss: 0.3914 - loss: 0.3346 - val_dense_6_RootMeanSquaredError: 0.6211 - val_dense_6_loss: 0.3857 - val_dense_7_RootMeanSquaredError: 0.6918 - val_dense_7_loss: 0.4785 - val_loss: 0.3951\n",
      "Epoch 18/20\n",
      "\u001b[1m363/363\u001b[0m \u001b[32m━━━━━━━━━━━━━━━━━━━━\u001b[0m\u001b[37m\u001b[0m \u001b[1m1s\u001b[0m 3ms/step - dense_6_RootMeanSquaredError: 0.5726 - dense_6_loss: 0.3280 - dense_7_RootMeanSquaredError: 0.6231 - dense_7_loss: 0.3884 - loss: 0.3339 - val_dense_6_RootMeanSquaredError: 0.5650 - val_dense_6_loss: 0.3192 - val_dense_7_RootMeanSquaredError: 0.6212 - val_dense_7_loss: 0.3859 - val_loss: 0.3259\n",
      "Epoch 19/20\n",
      "\u001b[1m363/363\u001b[0m \u001b[32m━━━━━━━━━━━━━━━━━━━━\u001b[0m\u001b[37m\u001b[0m \u001b[1m1s\u001b[0m 3ms/step - dense_6_RootMeanSquaredError: 0.5703 - dense_6_loss: 0.3252 - dense_7_RootMeanSquaredError: 0.6237 - dense_7_loss: 0.3890 - loss: 0.3316 - val_dense_6_RootMeanSquaredError: 0.9361 - val_dense_6_loss: 0.8759 - val_dense_7_RootMeanSquaredError: 1.2568 - val_dense_7_loss: 1.5790 - val_loss: 0.9466\n",
      "Epoch 20/20\n",
      "\u001b[1m363/363\u001b[0m \u001b[32m━━━━━━━━━━━━━━━━━━━━\u001b[0m\u001b[37m\u001b[0m \u001b[1m1s\u001b[0m 3ms/step - dense_6_RootMeanSquaredError: 0.5709 - dense_6_loss: 0.3259 - dense_7_RootMeanSquaredError: 0.6239 - dense_7_loss: 0.3893 - loss: 0.3322 - val_dense_6_RootMeanSquaredError: 0.5675 - val_dense_6_loss: 0.3219 - val_dense_7_RootMeanSquaredError: 0.6641 - val_dense_7_loss: 0.4410 - val_loss: 0.3339\n"
     ]
    }
   ],
   "source": [
    "norm_layer_wide.adapt(X_train_wide)\n",
    "norm_layer_deep.adapt(X_train_deep)\n",
    "\n",
    "history = model.fit(\n",
    "    (X_train_wide, X_train_deep), (y_train, y_train), epochs=20, \n",
    "    validation_data=((X_valid_wide, X_valid_deep), (y_valid, y_valid))\n",
    ")"
   ]
  },
  {
   "cell_type": "code",
   "execution_count": 13,
   "id": "3b48e5ec",
   "metadata": {},
   "outputs": [
    {
     "name": "stdout",
     "output_type": "stream",
     "text": [
      "\u001b[1m162/162\u001b[0m \u001b[32m━━━━━━━━━━━━━━━━━━━━\u001b[0m\u001b[37m\u001b[0m \u001b[1m0s\u001b[0m 2ms/step - dense_6_RootMeanSquaredError: 0.5696 - dense_6_loss: 0.3237 - dense_7_RootMeanSquaredError: 0.6203 - dense_7_loss: 0.3844 - loss: 0.3305\n"
     ]
    }
   ],
   "source": [
    "eval_results = model.evaluate((X_test_wide, X_test_deep), (y_test, y_test))\n",
    "weighted_sum_of_losses, main_loss, aux_loss, main_rmse, aux_rmse = eval_results"
   ]
  },
  {
   "cell_type": "markdown",
   "id": "d04a9680",
   "metadata": {},
   "source": [
    "If you set return_dict=True, then evaluate() will return a dictionary instead of a big tuple."
   ]
  },
  {
   "cell_type": "code",
   "execution_count": 14,
   "id": "b2928e7e",
   "metadata": {},
   "outputs": [
    {
     "name": "stdout",
     "output_type": "stream",
     "text": [
      "\u001b[1m1/1\u001b[0m \u001b[32m━━━━━━━━━━━━━━━━━━━━\u001b[0m\u001b[37m\u001b[0m \u001b[1m0s\u001b[0m 100ms/step\n"
     ]
    }
   ],
   "source": [
    "y_pred_main, y_pred_aux = model.predict((X_new_wide, X_new_deep))"
   ]
  },
  {
   "cell_type": "code",
   "execution_count": 15,
   "id": "df64c8eb",
   "metadata": {},
   "outputs": [
    {
     "name": "stdout",
     "output_type": "stream",
     "text": [
      "\u001b[1m1/1\u001b[0m \u001b[32m━━━━━━━━━━━━━━━━━━━━\u001b[0m\u001b[37m\u001b[0m \u001b[1m0s\u001b[0m 45ms/step\n"
     ]
    }
   ],
   "source": [
    "y_pred_tuple = model.predict((X_new_wide, X_new_deep))\n",
    "y_pred = dict(zip(model.output_names, y_pred_tuple))"
   ]
  },
  {
   "cell_type": "markdown",
   "id": "4e8fd2be",
   "metadata": {},
   "source": [
    "# Using the Subclassing API to Build Dynamic Models"
   ]
  },
  {
   "cell_type": "code",
   "execution_count": 16,
   "id": "3ef45a89",
   "metadata": {},
   "outputs": [],
   "source": [
    "class WideAndDeepModel(tf.keras.Model):\n",
    "    def __init__(self, units=30, activation=\"relu\", **kwargs):\n",
    "        super().__init__(**kwargs) # needed to support naming the model\n",
    "        self.norm_layer_wide = tf.keras.layers.Normalization()\n",
    "        self.norm_layer_deep = tf.keras.layers.Normalization()\n",
    "        self.hidden1 = tf.keras.layers.Dense(units, activation=activation)\n",
    "        self.hidden2 = tf.keras.layers.Dense(units, activation=activation)\n",
    "        self.main_output = tf.keras.layers.Dense(1)\n",
    "        self.aux_output = tf.keras.layers.Dense(1)\n",
    "    def call(self, inputs):\n",
    "        input_wide, input_deep = inputs\n",
    "        norm_wide = self.norm_layer_wide(input_wide)\n",
    "        norm_deep = self.norm_layer_deep(input_deep)\n",
    "        hidden1 = self.hidden1(norm_deep)\n",
    "        hidden2 = self.hidden2(hidden1)\n",
    "        concat = tf.keras.layers.concatenate([norm_wide, hidden2])\n",
    "        output = self.main_output(concat)\n",
    "        aux_output = self.aux_output(hidden2)\n",
    "        return output, aux_output"
   ]
  },
  {
   "cell_type": "code",
   "execution_count": 17,
   "id": "545f47f2",
   "metadata": {},
   "outputs": [],
   "source": [
    "model = WideAndDeepModel(30, activation=\"relu\", name=\"my_cool_model\")"
   ]
  },
  {
   "cell_type": "code",
   "execution_count": null,
   "id": "fa3bfc3e",
   "metadata": {},
   "outputs": [],
   "source": []
  }
 ],
 "metadata": {
  "kernelspec": {
   "display_name": "venv",
   "language": "python",
   "name": "python3"
  },
  "language_info": {
   "codemirror_mode": {
    "name": "ipython",
    "version": 3
   },
   "file_extension": ".py",
   "mimetype": "text/x-python",
   "name": "python",
   "nbconvert_exporter": "python",
   "pygments_lexer": "ipython3",
   "version": "3.12.3"
  }
 },
 "nbformat": 4,
 "nbformat_minor": 5
}
