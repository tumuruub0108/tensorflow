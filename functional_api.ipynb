{
 "cells": [
  {
   "cell_type": "code",
   "execution_count": 1,
   "id": "1c4d148e",
   "metadata": {},
   "outputs": [
    {
     "name": "stderr",
     "output_type": "stream",
     "text": [
      "2025-10-27 10:21:19.328878: I tensorflow/core/platform/cpu_feature_guard.cc:210] This TensorFlow binary is optimized to use available CPU instructions in performance-critical operations.\n",
      "To enable the following instructions: AVX2 FMA, in other operations, rebuild TensorFlow with the appropriate compiler flags.\n"
     ]
    }
   ],
   "source": [
    "import matplotlib.pyplot as plt\n",
    "import pandas as pd\n",
    "import numpy as np\n",
    "import tensorflow as tf\n",
    "from sklearn.datasets import fetch_california_housing\n",
    "from sklearn.model_selection import train_test_split"
   ]
  },
  {
   "cell_type": "markdown",
   "id": "4da9a5c2",
   "metadata": {},
   "source": [
    "# Building Complex Models Using the Functional API\n",
    "One example of a nonsequential neural network is a Wide & Deep neural network\n",
    "\n",
    "<img src=\"https://raw.githubusercontent.com/sambitmukherjee/handson-ml3-pytorch/main/chapter10/Figure_10-13.png\" width=\"480\">"
   ]
  },
  {
   "cell_type": "code",
   "execution_count": 2,
   "id": "8fb9f3ef",
   "metadata": {},
   "outputs": [],
   "source": [
    "housing = fetch_california_housing()\n",
    " \n",
    "X_train_full, X_test, y_train_full, y_test = train_test_split(housing.data, housing.target, random_state=42)\n",
    "X_train, X_valid, y_train, y_valid = train_test_split(X_train_full, y_train_full, random_state=42)"
   ]
  },
  {
   "cell_type": "code",
   "execution_count": 3,
   "id": "c3c3a6f5",
   "metadata": {},
   "outputs": [],
   "source": [
    "normalization_layer = tf.keras.layers.Normalization()\n",
    "hidden_layer1 = tf.keras.layers.Dense(30, activation=\"relu\")\n",
    "hidden_layer2 = tf.keras.layers.Dense(30, activation=\"relu\")\n",
    "concat_layer = tf.keras.layers.Concatenate()\n",
    "output_layer = tf.keras.layers.Dense(1)"
   ]
  },
  {
   "cell_type": "code",
   "execution_count": 4,
   "id": "b661fb59",
   "metadata": {},
   "outputs": [
    {
     "name": "stderr",
     "output_type": "stream",
     "text": [
      "2025-10-27 10:21:22.639204: E external/local_xla/xla/stream_executor/cuda/cuda_platform.cc:51] failed call to cuInit: INTERNAL: CUDA error: Failed call to cuInit: CUDA_ERROR_COMPAT_NOT_SUPPORTED_ON_DEVICE: forward compatibility was attempted on non supported HW\n",
      "2025-10-27 10:21:22.639283: I external/local_xla/xla/stream_executor/cuda/cuda_diagnostics.cc:171] verbose logging is disabled. Rerun with verbose logging (usually --v=1 or --vmodule=cuda_diagnostics=1) to get more diagnostic output from this module\n",
      "2025-10-27 10:21:22.639299: I external/local_xla/xla/stream_executor/cuda/cuda_diagnostics.cc:176] retrieving CUDA diagnostic information for host: tumuruu-B85M-D3H\n",
      "2025-10-27 10:21:22.639306: I external/local_xla/xla/stream_executor/cuda/cuda_diagnostics.cc:183] hostname: tumuruu-B85M-D3H\n",
      "2025-10-27 10:21:22.639526: I external/local_xla/xla/stream_executor/cuda/cuda_diagnostics.cc:190] libcuda reported version is: 580.95.5\n",
      "2025-10-27 10:21:22.639579: I external/local_xla/xla/stream_executor/cuda/cuda_diagnostics.cc:194] kernel reported version is: 550.163.1\n",
      "2025-10-27 10:21:22.639590: E external/local_xla/xla/stream_executor/cuda/cuda_diagnostics.cc:287] kernel version 550.163.1 does not match DSO version 580.95.5 -- cannot find working devices in this configuration\n"
     ]
    }
   ],
   "source": [
    "input_ = tf.keras.layers.Input(shape=X_train.shape[1:])\n",
    "normalized = normalization_layer(input_)\n",
    "hidden1 = hidden_layer1(normalized)\n",
    "hidden2 = hidden_layer2(hidden1)\n",
    "concat = concat_layer([normalized, hidden2])\n",
    "output = output_layer(concat)"
   ]
  },
  {
   "cell_type": "code",
   "execution_count": 5,
   "id": "b1f14eaf",
   "metadata": {},
   "outputs": [],
   "source": [
    "model = tf.keras.Model(inputs=[input_], outputs=[output])"
   ]
  },
  {
   "cell_type": "markdown",
   "id": "25a2995a",
   "metadata": {},
   "source": [
    "But what if you want to send a subset of the features through the wide path and a different subset (possibly overlapping) through the deep path, In this case, one solution is to use multiple inputs. For example, suppose we want to send five features through the wide path (features 0 to 4), and six features through the deep path (features 2 to 7). We can do this as follows:\n",
    "\n",
    "\n",
    "<img src=\"https://raw.githubusercontent.com/sambitmukherjee/handson-ml3-pytorch/main/chapter10/Figure_10-14.png\" width=\"480\">"
   ]
  },
  {
   "cell_type": "code",
   "execution_count": 6,
   "id": "9a94eba0",
   "metadata": {},
   "outputs": [],
   "source": [
    "input_wide = tf.keras.layers.Input(shape=[5]) # features 0 to 4\n",
    "input_deep = tf.keras.layers.Input(shape=[6]) # features 2 to 7\n",
    "\n",
    "norm_layer_wide = tf.keras.layers.Normalization()\n",
    "norm_layer_deep = tf.keras.layers.Normalization()\n",
    "\n",
    "norm_wide = norm_layer_wide(input_wide)\n",
    "norm_deep = norm_layer_deep(input_deep)\n",
    "\n",
    "hidden1 = tf.keras.layers.Dense(30, activation=\"relu\")(norm_deep)\n",
    "hidden2 = tf.keras.layers.Dense(30, activation=\"relu\")(hidden1)\n",
    "\n",
    "concat = tf.keras.layers.concatenate([norm_wide, hidden2])\n",
    "output = tf.keras.layers.Dense(1)(concat)\n",
    "\n",
    "model = tf.keras.Model(inputs=[input_wide, input_deep], outputs=[output])"
   ]
  },
  {
   "cell_type": "markdown",
   "id": "37608abd",
   "metadata": {},
   "source": [
    "There are a few things to note in this example, compared to the previous one:\n",
    "\n",
    "Each Dense layer is created and called on the same line. This is a common practice, as it makes the code more concise without losing clarity. However, we can’t do this with the Normalization layer since we need a reference to the layer to be able to call its adapt() method before fitting the model.\n",
    "\n",
    "\n",
    "\n",
    "We used tf.keras.layers.concatenate(), which creates a Concatenate layer and calls it with the given inputs.\n",
    "\n",
    "\n",
    "We specified inputs=[input_wide, input_deep] when creating the model, since there are two inputs"
   ]
  },
  {
   "cell_type": "code",
   "execution_count": 7,
   "id": "185d1f2c",
   "metadata": {},
   "outputs": [],
   "source": [
    "optimizer = tf.keras.optimizers.Adam(learning_rate=1e-3)\n",
    "model.compile(loss=\"mse\", optimizer=optimizer, metrics=[\"RootMeanSquaredError\"])"
   ]
  },
  {
   "cell_type": "code",
   "execution_count": 8,
   "id": "a58ec9bf",
   "metadata": {},
   "outputs": [],
   "source": [
    "X_train_wide, X_train_deep = X_train[:, :5], X_train[:, 2:]\n",
    "X_valid_wide, X_valid_deep = X_valid[:, :5], X_valid[:, 2:]\n",
    "\n",
    "X_test_wide, X_test_deep = X_test[:, :5], X_test[:, 2:]\n",
    "X_new_wide, X_new_deep = X_test_wide[:3], X_test_deep[:3]"
   ]
  },
  {
   "cell_type": "code",
   "execution_count": 9,
   "id": "4c64fdab",
   "metadata": {},
   "outputs": [
    {
     "name": "stdout",
     "output_type": "stream",
     "text": [
      "Epoch 1/20\n",
      "\u001b[1m363/363\u001b[0m \u001b[32m━━━━━━━━━━━━━━━━━━━━\u001b[0m\u001b[37m\u001b[0m \u001b[1m2s\u001b[0m 3ms/step - RootMeanSquaredError: 1.2531 - loss: 1.5702 - val_RootMeanSquaredError: 1.2186 - val_loss: 1.4849\n",
      "Epoch 2/20\n",
      "\u001b[1m363/363\u001b[0m \u001b[32m━━━━━━━━━━━━━━━━━━━━\u001b[0m\u001b[37m\u001b[0m \u001b[1m1s\u001b[0m 3ms/step - RootMeanSquaredError: 0.7333 - loss: 0.5377 - val_RootMeanSquaredError: 0.6833 - val_loss: 0.4669\n",
      "Epoch 3/20\n",
      "\u001b[1m363/363\u001b[0m \u001b[32m━━━━━━━━━━━━━━━━━━━━\u001b[0m\u001b[37m\u001b[0m \u001b[1m1s\u001b[0m 3ms/step - RootMeanSquaredError: 0.6719 - loss: 0.4515 - val_RootMeanSquaredError: 0.6390 - val_loss: 0.4083\n",
      "Epoch 4/20\n",
      "\u001b[1m363/363\u001b[0m \u001b[32m━━━━━━━━━━━━━━━━━━━━\u001b[0m\u001b[37m\u001b[0m \u001b[1m1s\u001b[0m 3ms/step - RootMeanSquaredError: 0.6429 - loss: 0.4133 - val_RootMeanSquaredError: 0.6685 - val_loss: 0.4470\n",
      "Epoch 5/20\n",
      "\u001b[1m363/363\u001b[0m \u001b[32m━━━━━━━━━━━━━━━━━━━━\u001b[0m\u001b[37m\u001b[0m \u001b[1m1s\u001b[0m 2ms/step - RootMeanSquaredError: 0.6272 - loss: 0.3933 - val_RootMeanSquaredError: 0.7591 - val_loss: 0.5762\n",
      "Epoch 6/20\n",
      "\u001b[1m363/363\u001b[0m \u001b[32m━━━━━━━━━━━━━━━━━━━━\u001b[0m\u001b[37m\u001b[0m \u001b[1m1s\u001b[0m 3ms/step - RootMeanSquaredError: 0.6189 - loss: 0.3830 - val_RootMeanSquaredError: 1.0333 - val_loss: 1.0678\n",
      "Epoch 7/20\n",
      "\u001b[1m363/363\u001b[0m \u001b[32m━━━━━━━━━━━━━━━━━━━━\u001b[0m\u001b[37m\u001b[0m \u001b[1m1s\u001b[0m 2ms/step - RootMeanSquaredError: 0.6123 - loss: 0.3749 - val_RootMeanSquaredError: 1.6148 - val_loss: 2.6076\n",
      "Epoch 8/20\n",
      "\u001b[1m363/363\u001b[0m \u001b[32m━━━━━━━━━━━━━━━━━━━━\u001b[0m\u001b[37m\u001b[0m \u001b[1m1s\u001b[0m 2ms/step - RootMeanSquaredError: 0.6185 - loss: 0.3825 - val_RootMeanSquaredError: 1.9172 - val_loss: 3.6757\n",
      "Epoch 9/20\n",
      "\u001b[1m363/363\u001b[0m \u001b[32m━━━━━━━━━━━━━━━━━━━━\u001b[0m\u001b[37m\u001b[0m \u001b[1m1s\u001b[0m 2ms/step - RootMeanSquaredError: 0.6243 - loss: 0.3897 - val_RootMeanSquaredError: 1.6518 - val_loss: 2.7286\n",
      "Epoch 10/20\n",
      "\u001b[1m363/363\u001b[0m \u001b[32m━━━━━━━━━━━━━━━━━━━━\u001b[0m\u001b[37m\u001b[0m \u001b[1m1s\u001b[0m 2ms/step - RootMeanSquaredError: 0.6143 - loss: 0.3774 - val_RootMeanSquaredError: 1.2792 - val_loss: 1.6363\n",
      "Epoch 11/20\n",
      "\u001b[1m363/363\u001b[0m \u001b[32m━━━━━━━━━━━━━━━━━━━━\u001b[0m\u001b[37m\u001b[0m \u001b[1m1s\u001b[0m 2ms/step - RootMeanSquaredError: 0.6008 - loss: 0.3609 - val_RootMeanSquaredError: 1.3562 - val_loss: 1.8394\n",
      "Epoch 12/20\n",
      "\u001b[1m363/363\u001b[0m \u001b[32m━━━━━━━━━━━━━━━━━━━━\u001b[0m\u001b[37m\u001b[0m \u001b[1m1s\u001b[0m 2ms/step - RootMeanSquaredError: 0.6035 - loss: 0.3642 - val_RootMeanSquaredError: 1.2269 - val_loss: 1.5054\n",
      "Epoch 13/20\n",
      "\u001b[1m363/363\u001b[0m \u001b[32m━━━━━━━━━━━━━━━━━━━━\u001b[0m\u001b[37m\u001b[0m \u001b[1m1s\u001b[0m 2ms/step - RootMeanSquaredError: 0.5947 - loss: 0.3537 - val_RootMeanSquaredError: 1.7340 - val_loss: 3.0068\n",
      "Epoch 14/20\n",
      "\u001b[1m363/363\u001b[0m \u001b[32m━━━━━━━━━━━━━━━━━━━━\u001b[0m\u001b[37m\u001b[0m \u001b[1m1s\u001b[0m 2ms/step - RootMeanSquaredError: 0.6008 - loss: 0.3610 - val_RootMeanSquaredError: 1.9148 - val_loss: 3.6664\n",
      "Epoch 15/20\n",
      "\u001b[1m363/363\u001b[0m \u001b[32m━━━━━━━━━━━━━━━━━━━━\u001b[0m\u001b[37m\u001b[0m \u001b[1m1s\u001b[0m 2ms/step - RootMeanSquaredError: 0.6089 - loss: 0.3708 - val_RootMeanSquaredError: 1.5742 - val_loss: 2.4783\n",
      "Epoch 16/20\n",
      "\u001b[1m363/363\u001b[0m \u001b[32m━━━━━━━━━━━━━━━━━━━━\u001b[0m\u001b[37m\u001b[0m \u001b[1m1s\u001b[0m 3ms/step - RootMeanSquaredError: 0.5935 - loss: 0.3522 - val_RootMeanSquaredError: 1.2825 - val_loss: 1.6449\n",
      "Epoch 17/20\n",
      "\u001b[1m363/363\u001b[0m \u001b[32m━━━━━━━━━━━━━━━━━━━━\u001b[0m\u001b[37m\u001b[0m \u001b[1m1s\u001b[0m 3ms/step - RootMeanSquaredError: 0.5900 - loss: 0.3481 - val_RootMeanSquaredError: 0.8920 - val_loss: 0.7956\n",
      "Epoch 18/20\n",
      "\u001b[1m363/363\u001b[0m \u001b[32m━━━━━━━━━━━━━━━━━━━━\u001b[0m\u001b[37m\u001b[0m \u001b[1m1s\u001b[0m 2ms/step - RootMeanSquaredError: 0.5838 - loss: 0.3408 - val_RootMeanSquaredError: 0.7004 - val_loss: 0.4905\n",
      "Epoch 19/20\n",
      "\u001b[1m363/363\u001b[0m \u001b[32m━━━━━━━━━━━━━━━━━━━━\u001b[0m\u001b[37m\u001b[0m \u001b[1m1s\u001b[0m 2ms/step - RootMeanSquaredError: 0.5785 - loss: 0.3347 - val_RootMeanSquaredError: 0.6737 - val_loss: 0.4538\n",
      "Epoch 20/20\n",
      "\u001b[1m363/363\u001b[0m \u001b[32m━━━━━━━━━━━━━━━━━━━━\u001b[0m\u001b[37m\u001b[0m \u001b[1m1s\u001b[0m 2ms/step - RootMeanSquaredError: 0.5783 - loss: 0.3344 - val_RootMeanSquaredError: 0.6502 - val_loss: 0.4227\n",
      "\u001b[1m162/162\u001b[0m \u001b[32m━━━━━━━━━━━━━━━━━━━━\u001b[0m\u001b[37m\u001b[0m \u001b[1m0s\u001b[0m 2ms/step - RootMeanSquaredError: 0.5784 - loss: 0.3346\n",
      "\u001b[1m1/1\u001b[0m \u001b[32m━━━━━━━━━━━━━━━━━━━━\u001b[0m\u001b[37m\u001b[0m \u001b[1m0s\u001b[0m 88ms/step\n"
     ]
    }
   ],
   "source": [
    "norm_layer_wide.adapt(X_train_wide)\n",
    "norm_layer_deep.adapt(X_train_deep)\n",
    "\n",
    "history = model.fit((X_train_wide, X_train_deep), y_train, epochs=20, validation_data=((X_valid_wide, X_valid_deep), y_valid))\n",
    "\n",
    "mse_test = model.evaluate((X_test_wide, X_test_deep), y_test)\n",
    "y_pred = model.predict((X_new_wide, X_new_deep))"
   ]
  },
  {
   "cell_type": "markdown",
   "id": "6f1e2ae3",
   "metadata": {},
   "source": [
    "There are also many use cases in which you may want to have multiple outputs:\n",
    "\n",
    "The task may demand it. For instance, you may want to locate and classify the main object in a picture. This is both a regression tasks and a classification task.\n",
    "\n",
    "Similarly, you may have multiple independent tasks based on the same data. Sure, you could train one neural network per task, but in many cases you will get better results on all tasks by training a single neural network with one output per task. This is because the neural network can learn features in the data that are useful across tasks. For example, you could perform multitask classification on pictures of faces, using one output to classify the person’s facial expression (smiling, surprised, etc.) and another output to identify whether they are wearing glasses or not.\n",
    "\n",
    "\n",
    "Another use case is as a regularization technique (i.e., a trainingconstraint whose objective is to reduce overfitting and thus improve the model’s ability to generalize). For example, you may want to add an auxiliary output in a neural network architecture (see Figure 10-15) to ensure that the underlying part of the network learns something useful on its own, without relying on the rest of the network.\n",
    "\n",
    "<img src=\"https://raw.githubusercontent.com/sambitmukherjee/handson-ml3-pytorch/main/chapter10/Figure_10-15.png\" width=\"480\">\n",
    "\n",
    "Adding an extra output is quite easy: we just connect it to the appropriate layer and add it to the model’s list of outputs. For example, the following code builds the network represented in Figure 10-15:"
   ]
  },
  {
   "cell_type": "code",
   "execution_count": 10,
   "id": "92d66bf0",
   "metadata": {},
   "outputs": [],
   "source": [
    "output = tf.keras.layers.Dense(1)(concat)\n",
    "aux_output = tf.keras.layers.Dense(1)(hidden2)\n",
    "\n",
    "model = tf.keras.Model(inputs=[input_wide, input_deep],outputs=[output, aux_output])"
   ]
  },
  {
   "cell_type": "code",
   "execution_count": 11,
   "id": "149e523e",
   "metadata": {},
   "outputs": [],
   "source": [
    "optimizer = tf.keras.optimizers.Adam(learning_rate=1e-3)\n",
    "\n",
    "model.compile(loss=(\"mse\", \"mse\"), loss_weights=(0.9, 0.1), optimizer=optimizer, metrics=[['RootMeanSquaredError'], ['RootMeanSquaredError']])"
   ]
  },
  {
   "cell_type": "code",
   "execution_count": 12,
   "id": "331634fe",
   "metadata": {},
   "outputs": [
    {
     "name": "stdout",
     "output_type": "stream",
     "text": [
      "Epoch 1/20\n",
      "\u001b[1m363/363\u001b[0m \u001b[32m━━━━━━━━━━━━━━━━━━━━\u001b[0m\u001b[37m\u001b[0m \u001b[1m3s\u001b[0m 4ms/step - dense_6_RootMeanSquaredError: 0.9886 - dense_6_loss: 0.9772 - dense_7_RootMeanSquaredError: 1.0119 - dense_7_loss: 1.0237 - loss: 0.9821 - val_dense_6_RootMeanSquaredError: 0.7693 - val_dense_6_loss: 0.5917 - val_dense_7_RootMeanSquaredError: 0.9485 - val_dense_7_loss: 0.8993 - val_loss: 0.6226\n",
      "Epoch 2/20\n",
      "\u001b[1m363/363\u001b[0m \u001b[32m━━━━━━━━━━━━━━━━━━━━\u001b[0m\u001b[37m\u001b[0m \u001b[1m1s\u001b[0m 3ms/step - dense_6_RootMeanSquaredError: 0.6677 - dense_6_loss: 0.4457 - dense_7_RootMeanSquaredError: 0.7201 - dense_7_loss: 0.5183 - loss: 0.4531 - val_dense_6_RootMeanSquaredError: 0.6269 - val_dense_6_loss: 0.3929 - val_dense_7_RootMeanSquaredError: 0.6968 - val_dense_7_loss: 0.4855 - val_loss: 0.4023\n",
      "Epoch 3/20\n",
      "\u001b[1m363/363\u001b[0m \u001b[32m━━━━━━━━━━━━━━━━━━━━\u001b[0m\u001b[37m\u001b[0m \u001b[1m1s\u001b[0m 3ms/step - dense_6_RootMeanSquaredError: 0.6292 - dense_6_loss: 0.3959 - dense_7_RootMeanSquaredError: 0.6936 - dense_7_loss: 0.4810 - loss: 0.4044 - val_dense_6_RootMeanSquaredError: 0.5974 - val_dense_6_loss: 0.3568 - val_dense_7_RootMeanSquaredError: 0.6707 - val_dense_7_loss: 0.4497 - val_loss: 0.3662\n",
      "Epoch 4/20\n",
      "\u001b[1m363/363\u001b[0m \u001b[32m━━━━━━━━━━━━━━━━━━━━\u001b[0m\u001b[37m\u001b[0m \u001b[1m1s\u001b[0m 3ms/step - dense_6_RootMeanSquaredError: 0.6074 - dense_6_loss: 0.3690 - dense_7_RootMeanSquaredError: 0.6812 - dense_7_loss: 0.4641 - loss: 0.3784 - val_dense_6_RootMeanSquaredError: 0.6006 - val_dense_6_loss: 0.3607 - val_dense_7_RootMeanSquaredError: 0.6614 - val_dense_7_loss: 0.4374 - val_loss: 0.3684\n",
      "Epoch 5/20\n",
      "\u001b[1m363/363\u001b[0m \u001b[32m━━━━━━━━━━━━━━━━━━━━\u001b[0m\u001b[37m\u001b[0m \u001b[1m1s\u001b[0m 3ms/step - dense_6_RootMeanSquaredError: 0.5948 - dense_6_loss: 0.3539 - dense_7_RootMeanSquaredError: 0.6693 - dense_7_loss: 0.4481 - loss: 0.3632 - val_dense_6_RootMeanSquaredError: 0.7752 - val_dense_6_loss: 0.6007 - val_dense_7_RootMeanSquaredError: 0.8699 - val_dense_7_loss: 0.7566 - val_loss: 0.6165\n",
      "Epoch 6/20\n",
      "\u001b[1m363/363\u001b[0m \u001b[32m━━━━━━━━━━━━━━━━━━━━\u001b[0m\u001b[37m\u001b[0m \u001b[1m1s\u001b[0m 3ms/step - dense_6_RootMeanSquaredError: 0.5914 - dense_6_loss: 0.3496 - dense_7_RootMeanSquaredError: 0.6626 - dense_7_loss: 0.4389 - loss: 0.3586 - val_dense_6_RootMeanSquaredError: 0.7436 - val_dense_6_loss: 0.5528 - val_dense_7_RootMeanSquaredError: 0.7394 - val_dense_7_loss: 0.5465 - val_loss: 0.5523\n",
      "Epoch 7/20\n",
      "\u001b[1m363/363\u001b[0m \u001b[32m━━━━━━━━━━━━━━━━━━━━\u001b[0m\u001b[37m\u001b[0m \u001b[1m1s\u001b[0m 3ms/step - dense_6_RootMeanSquaredError: 0.5864 - dense_6_loss: 0.3439 - dense_7_RootMeanSquaredError: 0.6535 - dense_7_loss: 0.4271 - loss: 0.3521 - val_dense_6_RootMeanSquaredError: 1.7596 - val_dense_6_loss: 3.0947 - val_dense_7_RootMeanSquaredError: 1.6227 - val_dense_7_loss: 2.6319 - val_loss: 3.0499\n",
      "Epoch 8/20\n",
      "\u001b[1m363/363\u001b[0m \u001b[32m━━━━━━━━━━━━━━━━━━━━\u001b[0m\u001b[37m\u001b[0m \u001b[1m1s\u001b[0m 3ms/step - dense_6_RootMeanSquaredError: 0.6067 - dense_6_loss: 0.3681 - dense_7_RootMeanSquaredError: 0.6645 - dense_7_loss: 0.4415 - loss: 0.3754 - val_dense_6_RootMeanSquaredError: 0.9499 - val_dense_6_loss: 0.9019 - val_dense_7_RootMeanSquaredError: 0.8052 - val_dense_7_loss: 0.6481 - val_loss: 0.8768\n",
      "Epoch 9/20\n",
      "\u001b[1m363/363\u001b[0m \u001b[32m━━━━━━━━━━━━━━━━━━━━\u001b[0m\u001b[37m\u001b[0m \u001b[1m1s\u001b[0m 3ms/step - dense_6_RootMeanSquaredError: 0.5842 - dense_6_loss: 0.3413 - dense_7_RootMeanSquaredError: 0.6445 - dense_7_loss: 0.4153 - loss: 0.3487 - val_dense_6_RootMeanSquaredError: 1.1238 - val_dense_6_loss: 1.2624 - val_dense_7_RootMeanSquaredError: 1.2388 - val_dense_7_loss: 1.5340 - val_loss: 1.2901\n",
      "Epoch 10/20\n",
      "\u001b[1m363/363\u001b[0m \u001b[32m━━━━━━━━━━━━━━━━━━━━\u001b[0m\u001b[37m\u001b[0m \u001b[1m1s\u001b[0m 3ms/step - dense_6_RootMeanSquaredError: 0.5834 - dense_6_loss: 0.3403 - dense_7_RootMeanSquaredError: 0.6454 - dense_7_loss: 0.4164 - loss: 0.3480 - val_dense_6_RootMeanSquaredError: 1.0594 - val_dense_6_loss: 1.1218 - val_dense_7_RootMeanSquaredError: 0.9606 - val_dense_7_loss: 0.9224 - val_loss: 1.1024\n",
      "Epoch 11/20\n",
      "\u001b[1m363/363\u001b[0m \u001b[32m━━━━━━━━━━━━━━━━━━━━\u001b[0m\u001b[37m\u001b[0m \u001b[1m1s\u001b[0m 3ms/step - dense_6_RootMeanSquaredError: 0.5851 - dense_6_loss: 0.3423 - dense_7_RootMeanSquaredError: 0.6453 - dense_7_loss: 0.4164 - loss: 0.3497 - val_dense_6_RootMeanSquaredError: 0.9949 - val_dense_6_loss: 0.9895 - val_dense_7_RootMeanSquaredError: 1.1563 - val_dense_7_loss: 1.3366 - val_loss: 1.0246\n",
      "Epoch 12/20\n",
      "\u001b[1m363/363\u001b[0m \u001b[32m━━━━━━━━━━━━━━━━━━━━\u001b[0m\u001b[37m\u001b[0m \u001b[1m1s\u001b[0m 3ms/step - dense_6_RootMeanSquaredError: 0.5796 - dense_6_loss: 0.3358 - dense_7_RootMeanSquaredError: 0.6379 - dense_7_loss: 0.4069 - loss: 0.3430 - val_dense_6_RootMeanSquaredError: 0.8601 - val_dense_6_loss: 0.7395 - val_dense_7_RootMeanSquaredError: 0.8375 - val_dense_7_loss: 0.7012 - val_loss: 0.7359\n",
      "Epoch 13/20\n",
      "\u001b[1m363/363\u001b[0m \u001b[32m━━━━━━━━━━━━━━━━━━━━\u001b[0m\u001b[37m\u001b[0m \u001b[1m1s\u001b[0m 3ms/step - dense_6_RootMeanSquaredError: 0.5771 - dense_6_loss: 0.3331 - dense_7_RootMeanSquaredError: 0.6330 - dense_7_loss: 0.4007 - loss: 0.3398 - val_dense_6_RootMeanSquaredError: 0.8491 - val_dense_6_loss: 0.7208 - val_dense_7_RootMeanSquaredError: 1.0149 - val_dense_7_loss: 1.0297 - val_loss: 0.7519\n",
      "Epoch 14/20\n",
      "\u001b[1m363/363\u001b[0m \u001b[32m━━━━━━━━━━━━━━━━━━━━\u001b[0m\u001b[37m\u001b[0m \u001b[1m1s\u001b[0m 3ms/step - dense_6_RootMeanSquaredError: 0.5777 - dense_6_loss: 0.3338 - dense_7_RootMeanSquaredError: 0.6364 - dense_7_loss: 0.4050 - loss: 0.3408 - val_dense_6_RootMeanSquaredError: 0.7701 - val_dense_6_loss: 0.5929 - val_dense_7_RootMeanSquaredError: 0.7332 - val_dense_7_loss: 0.5374 - val_loss: 0.5876\n",
      "Epoch 15/20\n",
      "\u001b[1m363/363\u001b[0m \u001b[32m━━━━━━━━━━━━━━━━━━━━\u001b[0m\u001b[37m\u001b[0m \u001b[1m1s\u001b[0m 3ms/step - dense_6_RootMeanSquaredError: 0.5708 - dense_6_loss: 0.3258 - dense_7_RootMeanSquaredError: 0.6270 - dense_7_loss: 0.3931 - loss: 0.3326 - val_dense_6_RootMeanSquaredError: 0.7708 - val_dense_6_loss: 0.5939 - val_dense_7_RootMeanSquaredError: 0.9142 - val_dense_7_loss: 0.8355 - val_loss: 0.6182\n",
      "Epoch 16/20\n",
      "\u001b[1m363/363\u001b[0m \u001b[32m━━━━━━━━━━━━━━━━━━━━\u001b[0m\u001b[37m\u001b[0m \u001b[1m1s\u001b[0m 3ms/step - dense_6_RootMeanSquaredError: 0.5753 - dense_6_loss: 0.3311 - dense_7_RootMeanSquaredError: 0.6288 - dense_7_loss: 0.3954 - loss: 0.3374 - val_dense_6_RootMeanSquaredError: 0.8646 - val_dense_6_loss: 0.7472 - val_dense_7_RootMeanSquaredError: 0.8811 - val_dense_7_loss: 0.7761 - val_loss: 0.7504\n",
      "Epoch 17/20\n",
      "\u001b[1m363/363\u001b[0m \u001b[32m━━━━━━━━━━━━━━━━━━━━\u001b[0m\u001b[37m\u001b[0m \u001b[1m1s\u001b[0m 3ms/step - dense_6_RootMeanSquaredError: 0.5714 - dense_6_loss: 0.3265 - dense_7_RootMeanSquaredError: 0.6258 - dense_7_loss: 0.3916 - loss: 0.3330 - val_dense_6_RootMeanSquaredError: 0.7457 - val_dense_6_loss: 0.5560 - val_dense_7_RootMeanSquaredError: 0.8917 - val_dense_7_loss: 0.7948 - val_loss: 0.5800\n",
      "Epoch 18/20\n",
      "\u001b[1m363/363\u001b[0m \u001b[32m━━━━━━━━━━━━━━━━━━━━\u001b[0m\u001b[37m\u001b[0m \u001b[1m1s\u001b[0m 3ms/step - dense_6_RootMeanSquaredError: 0.5714 - dense_6_loss: 0.3265 - dense_7_RootMeanSquaredError: 0.6276 - dense_7_loss: 0.3938 - loss: 0.3333 - val_dense_6_RootMeanSquaredError: 1.0203 - val_dense_6_loss: 1.0406 - val_dense_7_RootMeanSquaredError: 1.0499 - val_dense_7_loss: 1.1019 - val_loss: 1.0471\n",
      "Epoch 19/20\n",
      "\u001b[1m363/363\u001b[0m \u001b[32m━━━━━━━━━━━━━━━━━━━━\u001b[0m\u001b[37m\u001b[0m \u001b[1m1s\u001b[0m 3ms/step - dense_6_RootMeanSquaredError: 0.5745 - dense_6_loss: 0.3301 - dense_7_RootMeanSquaredError: 0.6271 - dense_7_loss: 0.3934 - loss: 0.3364 - val_dense_6_RootMeanSquaredError: 1.0156 - val_dense_6_loss: 1.0310 - val_dense_7_RootMeanSquaredError: 1.2907 - val_dense_7_loss: 1.6653 - val_loss: 1.0949\n",
      "Epoch 20/20\n",
      "\u001b[1m363/363\u001b[0m \u001b[32m━━━━━━━━━━━━━━━━━━━━\u001b[0m\u001b[37m\u001b[0m \u001b[1m1s\u001b[0m 3ms/step - dense_6_RootMeanSquaredError: 0.5740 - dense_6_loss: 0.3294 - dense_7_RootMeanSquaredError: 0.6287 - dense_7_loss: 0.3951 - loss: 0.3361 - val_dense_6_RootMeanSquaredError: 0.7125 - val_dense_6_loss: 0.5074 - val_dense_7_RootMeanSquaredError: 0.7227 - val_dense_7_loss: 0.5221 - val_loss: 0.5091\n"
     ]
    }
   ],
   "source": [
    "norm_layer_wide.adapt(X_train_wide)\n",
    "norm_layer_deep.adapt(X_train_deep)\n",
    "\n",
    "history = model.fit(\n",
    "    (X_train_wide, X_train_deep), (y_train, y_train), epochs=20, \n",
    "    validation_data=((X_valid_wide, X_valid_deep), (y_valid, y_valid))\n",
    ")"
   ]
  },
  {
   "cell_type": "code",
   "execution_count": 13,
   "id": "3b48e5ec",
   "metadata": {},
   "outputs": [
    {
     "name": "stdout",
     "output_type": "stream",
     "text": [
      "\u001b[1m162/162\u001b[0m \u001b[32m━━━━━━━━━━━━━━━━━━━━\u001b[0m\u001b[37m\u001b[0m \u001b[1m0s\u001b[0m 2ms/step - dense_6_RootMeanSquaredError: 0.5697 - dense_6_loss: 0.3244 - dense_7_RootMeanSquaredError: 0.6217 - dense_7_loss: 0.3866 - loss: 0.3308\n"
     ]
    }
   ],
   "source": [
    "eval_results = model.evaluate((X_test_wide, X_test_deep), (y_test, y_test))\n",
    "weighted_sum_of_losses, main_loss, aux_loss, main_rmse, aux_rmse = eval_results"
   ]
  },
  {
   "cell_type": "markdown",
   "id": "d04a9680",
   "metadata": {},
   "source": [
    "If you set return_dict=True, then evaluate() will return a dictionary instead of a big tuple."
   ]
  },
  {
   "cell_type": "code",
   "execution_count": 14,
   "id": "b2928e7e",
   "metadata": {},
   "outputs": [
    {
     "name": "stdout",
     "output_type": "stream",
     "text": [
      "\u001b[1m1/1\u001b[0m \u001b[32m━━━━━━━━━━━━━━━━━━━━\u001b[0m\u001b[37m\u001b[0m \u001b[1m0s\u001b[0m 99ms/step\n"
     ]
    }
   ],
   "source": [
    "y_pred_main, y_pred_aux = model.predict((X_new_wide, X_new_deep))"
   ]
  },
  {
   "cell_type": "code",
   "execution_count": 15,
   "id": "df64c8eb",
   "metadata": {},
   "outputs": [
    {
     "name": "stdout",
     "output_type": "stream",
     "text": [
      "\u001b[1m1/1\u001b[0m \u001b[32m━━━━━━━━━━━━━━━━━━━━\u001b[0m\u001b[37m\u001b[0m \u001b[1m0s\u001b[0m 42ms/step\n"
     ]
    }
   ],
   "source": [
    "y_pred_tuple = model.predict((X_new_wide, X_new_deep))\n",
    "y_pred = dict(zip(model.output_names, y_pred_tuple))"
   ]
  },
  {
   "cell_type": "markdown",
   "id": "4e8fd2be",
   "metadata": {},
   "source": [
    "# Using the Subclassing API to Build Dynamic Models"
   ]
  },
  {
   "cell_type": "code",
   "execution_count": null,
   "id": "3ef45a89",
   "metadata": {},
   "outputs": [],
   "source": []
  }
 ],
 "metadata": {
  "kernelspec": {
   "display_name": "venv",
   "language": "python",
   "name": "python3"
  },
  "language_info": {
   "codemirror_mode": {
    "name": "ipython",
    "version": 3
   },
   "file_extension": ".py",
   "mimetype": "text/x-python",
   "name": "python",
   "nbconvert_exporter": "python",
   "pygments_lexer": "ipython3",
   "version": "3.12.3"
  }
 },
 "nbformat": 4,
 "nbformat_minor": 5
}
