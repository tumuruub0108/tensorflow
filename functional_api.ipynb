{
 "cells": [
  {
   "cell_type": "code",
   "execution_count": 1,
   "id": "1c4d148e",
   "metadata": {},
   "outputs": [
    {
     "name": "stderr",
     "output_type": "stream",
     "text": [
      "2025-10-27 09:25:11.186028: I tensorflow/core/platform/cpu_feature_guard.cc:210] This TensorFlow binary is optimized to use available CPU instructions in performance-critical operations.\n",
      "To enable the following instructions: AVX2 FMA, in other operations, rebuild TensorFlow with the appropriate compiler flags.\n"
     ]
    }
   ],
   "source": [
    "import matplotlib.pyplot as plt\n",
    "import pandas as pd\n",
    "import numpy as np\n",
    "import tensorflow as tf\n",
    "from sklearn.datasets import fetch_california_housing\n",
    "from sklearn.model_selection import train_test_split"
   ]
  },
  {
   "cell_type": "markdown",
   "id": "4da9a5c2",
   "metadata": {},
   "source": [
    "# Building Complex Models Using the Functional API\n",
    "One example of a nonsequential neural network is a Wide & Deep neural network\n",
    "\n",
    "<img src=\"https://raw.githubusercontent.com/sambitmukherjee/handson-ml3-pytorch/main/chapter10/Figure_10-13.png\" width=\"480\">"
   ]
  },
  {
   "cell_type": "code",
   "execution_count": 2,
   "id": "8fb9f3ef",
   "metadata": {},
   "outputs": [],
   "source": [
    "housing = fetch_california_housing()\n",
    " \n",
    "X_train_full, X_test, y_train_full, y_test = train_test_split(housing.data, housing.target, random_state=42)\n",
    "X_train, X_valid, y_train, y_valid = train_test_split(X_train_full, y_train_full, random_state=42)"
   ]
  },
  {
   "cell_type": "code",
   "execution_count": 3,
   "id": "c3c3a6f5",
   "metadata": {},
   "outputs": [],
   "source": [
    "normalization_layer = tf.keras.layers.Normalization()\n",
    "hidden_layer1 = tf.keras.layers.Dense(30, activation=\"relu\")\n",
    "hidden_layer2 = tf.keras.layers.Dense(30, activation=\"relu\")\n",
    "concat_layer = tf.keras.layers.Concatenate()\n",
    "output_layer = tf.keras.layers.Dense(1)"
   ]
  },
  {
   "cell_type": "code",
   "execution_count": 4,
   "id": "b661fb59",
   "metadata": {},
   "outputs": [
    {
     "name": "stderr",
     "output_type": "stream",
     "text": [
      "WARNING: All log messages before absl::InitializeLog() is called are written to STDERR\n",
      "W0000 00:00:1761524715.977861   11377 gpu_device.cc:2342] Cannot dlopen some GPU libraries. Please make sure the missing libraries mentioned above are installed properly if you would like to use GPU. Follow the guide at https://www.tensorflow.org/install/gpu for how to download and setup the required libraries for your platform.\n",
      "Skipping registering GPU devices...\n"
     ]
    }
   ],
   "source": [
    "input_ = tf.keras.layers.Input(shape=X_train.shape[1:])\n",
    "normalized = normalization_layer(input_)\n",
    "hidden1 = hidden_layer1(normalized)\n",
    "hidden2 = hidden_layer2(hidden1)\n",
    "concat = concat_layer([normalized, hidden2])\n",
    "output = output_layer(concat)"
   ]
  },
  {
   "cell_type": "code",
   "execution_count": 5,
   "id": "b1f14eaf",
   "metadata": {},
   "outputs": [],
   "source": [
    "model = tf.keras.Model(inputs=[input_], outputs=[output])"
   ]
  },
  {
   "cell_type": "markdown",
   "id": "25a2995a",
   "metadata": {},
   "source": [
    "But what if you want to send a subset of the features through the wide path and a different subset (possibly overlapping) through the deep path, In this case, one solution is to use multiple inputs. For example, suppose we want to send five features through the wide path (features 0 to 4), and six features through the deep path (features 2 to 7). We can do this as follows:\n",
    "\n",
    "\n",
    "<img src=\"https://raw.githubusercontent.com/sambitmukherjee/handson-ml3-pytorch/main/chapter10/Figure_10-14.png\" width=\"480\">"
   ]
  },
  {
   "cell_type": "code",
   "execution_count": 6,
   "id": "9a94eba0",
   "metadata": {},
   "outputs": [],
   "source": [
    "input_wide = tf.keras.layers.Input(shape=[5]) # features 0 to 4\n",
    "input_deep = tf.keras.layers.Input(shape=[6]) # features 2 to 7\n",
    "\n",
    "norm_layer_wide = tf.keras.layers.Normalization()\n",
    "norm_layer_deep = tf.keras.layers.Normalization()\n",
    "\n",
    "norm_wide = norm_layer_wide(input_wide)\n",
    "norm_deep = norm_layer_deep(input_deep)\n",
    "\n",
    "hidden1 = tf.keras.layers.Dense(30, activation=\"relu\")(norm_deep)\n",
    "hidden2 = tf.keras.layers.Dense(30, activation=\"relu\")(hidden1)\n",
    "\n",
    "concat = tf.keras.layers.concatenate([norm_wide, hidden2])\n",
    "output = tf.keras.layers.Dense(1)(concat)\n",
    "\n",
    "model = tf.keras.Model(inputs=[input_wide, input_deep], outputs=[output])"
   ]
  },
  {
   "cell_type": "markdown",
   "id": "37608abd",
   "metadata": {},
   "source": [
    "There are a few things to note in this example, compared to the previous one:\n",
    "\n",
    "Each Dense layer is created and called on the same line. This is a common practice, as it makes the code more concise without losing clarity. However, we can’t do this with the Normalization layer since we need a reference to the layer to be able to call its adapt() method before fitting the model.\n",
    "\n",
    "\n",
    "\n",
    "We used tf.keras.layers.concatenate(), which creates a Concatenate layer and calls it with the given inputs.\n",
    "\n",
    "\n",
    "We specified inputs=[input_wide, input_deep] when creating the model, since there are two inputs"
   ]
  },
  {
   "cell_type": "code",
   "execution_count": 7,
   "id": "185d1f2c",
   "metadata": {},
   "outputs": [],
   "source": [
    "optimizer = tf.keras.optimizers.Adam(learning_rate=1e-3)\n",
    "model.compile(loss=\"mse\", optimizer=optimizer, metrics=[\"RootMeanSquaredError\"])"
   ]
  },
  {
   "cell_type": "code",
   "execution_count": 8,
   "id": "a58ec9bf",
   "metadata": {},
   "outputs": [],
   "source": [
    "X_train_wide, X_train_deep = X_train[:, :5], X_train[:, 2:]\n",
    "X_valid_wide, X_valid_deep = X_valid[:, :5], X_valid[:, 2:]\n",
    "\n",
    "X_test_wide, X_test_deep = X_test[:, :5], X_test[:, 2:]\n",
    "X_new_wide, X_new_deep = X_test_wide[:3], X_test_deep[:3]"
   ]
  },
  {
   "cell_type": "code",
   "execution_count": 9,
   "id": "4c64fdab",
   "metadata": {},
   "outputs": [
    {
     "name": "stdout",
     "output_type": "stream",
     "text": [
      "Epoch 1/20\n",
      "\u001b[1m363/363\u001b[0m \u001b[32m━━━━━━━━━━━━━━━━━━━━\u001b[0m\u001b[37m\u001b[0m \u001b[1m3s\u001b[0m 3ms/step - RootMeanSquaredError: 1.2642 - loss: 1.5981 - val_RootMeanSquaredError: 0.7483 - val_loss: 0.5600\n",
      "Epoch 2/20\n",
      "\u001b[1m363/363\u001b[0m \u001b[32m━━━━━━━━━━━━━━━━━━━━\u001b[0m\u001b[37m\u001b[0m \u001b[1m1s\u001b[0m 3ms/step - RootMeanSquaredError: 0.6894 - loss: 0.4752 - val_RootMeanSquaredError: 1.0833 - val_loss: 1.1735\n",
      "Epoch 3/20\n",
      "\u001b[1m363/363\u001b[0m \u001b[32m━━━━━━━━━━━━━━━━━━━━\u001b[0m\u001b[37m\u001b[0m \u001b[1m1s\u001b[0m 3ms/step - RootMeanSquaredError: 0.6537 - loss: 0.4273 - val_RootMeanSquaredError: 0.8843 - val_loss: 0.7820\n",
      "Epoch 4/20\n",
      "\u001b[1m363/363\u001b[0m \u001b[32m━━━━━━━━━━━━━━━━━━━━\u001b[0m\u001b[37m\u001b[0m \u001b[1m1s\u001b[0m 3ms/step - RootMeanSquaredError: 0.6314 - loss: 0.3987 - val_RootMeanSquaredError: 1.2549 - val_loss: 1.5748\n",
      "Epoch 5/20\n",
      "\u001b[1m363/363\u001b[0m \u001b[32m━━━━━━━━━━━━━━━━━━━━\u001b[0m\u001b[37m\u001b[0m \u001b[1m1s\u001b[0m 2ms/step - RootMeanSquaredError: 0.6371 - loss: 0.4059 - val_RootMeanSquaredError: 1.1980 - val_loss: 1.4352\n",
      "Epoch 6/20\n",
      "\u001b[1m363/363\u001b[0m \u001b[32m━━━━━━━━━━━━━━━━━━━━\u001b[0m\u001b[37m\u001b[0m \u001b[1m1s\u001b[0m 3ms/step - RootMeanSquaredError: 0.6190 - loss: 0.3832 - val_RootMeanSquaredError: 1.3808 - val_loss: 1.9065\n",
      "Epoch 7/20\n",
      "\u001b[1m363/363\u001b[0m \u001b[32m━━━━━━━━━━━━━━━━━━━━\u001b[0m\u001b[37m\u001b[0m \u001b[1m1s\u001b[0m 2ms/step - RootMeanSquaredError: 0.6177 - loss: 0.3815 - val_RootMeanSquaredError: 0.6549 - val_loss: 0.4289\n",
      "Epoch 8/20\n",
      "\u001b[1m363/363\u001b[0m \u001b[32m━━━━━━━━━━━━━━━━━━━━\u001b[0m\u001b[37m\u001b[0m \u001b[1m1s\u001b[0m 2ms/step - RootMeanSquaredError: 0.6036 - loss: 0.3643 - val_RootMeanSquaredError: 0.9269 - val_loss: 0.8591\n",
      "Epoch 9/20\n",
      "\u001b[1m363/363\u001b[0m \u001b[32m━━━━━━━━━━━━━━━━━━━━\u001b[0m\u001b[37m\u001b[0m \u001b[1m1s\u001b[0m 2ms/step - RootMeanSquaredError: 0.5982 - loss: 0.3579 - val_RootMeanSquaredError: 0.7338 - val_loss: 0.5384\n",
      "Epoch 10/20\n",
      "\u001b[1m363/363\u001b[0m \u001b[32m━━━━━━━━━━━━━━━━━━━━\u001b[0m\u001b[37m\u001b[0m \u001b[1m1s\u001b[0m 2ms/step - RootMeanSquaredError: 0.6017 - loss: 0.3621 - val_RootMeanSquaredError: 1.0747 - val_loss: 1.1549\n",
      "Epoch 11/20\n",
      "\u001b[1m363/363\u001b[0m \u001b[32m━━━━━━━━━━━━━━━━━━━━\u001b[0m\u001b[37m\u001b[0m \u001b[1m1s\u001b[0m 2ms/step - RootMeanSquaredError: 0.5949 - loss: 0.3539 - val_RootMeanSquaredError: 0.6059 - val_loss: 0.3672\n",
      "Epoch 12/20\n",
      "\u001b[1m363/363\u001b[0m \u001b[32m━━━━━━━━━━━━━━━━━━━━\u001b[0m\u001b[37m\u001b[0m \u001b[1m1s\u001b[0m 3ms/step - RootMeanSquaredError: 0.5861 - loss: 0.3435 - val_RootMeanSquaredError: 0.7502 - val_loss: 0.5628\n",
      "Epoch 13/20\n",
      "\u001b[1m363/363\u001b[0m \u001b[32m━━━━━━━━━━━━━━━━━━━━\u001b[0m\u001b[37m\u001b[0m \u001b[1m1s\u001b[0m 3ms/step - RootMeanSquaredError: 0.5834 - loss: 0.3404 - val_RootMeanSquaredError: 0.7885 - val_loss: 0.6217\n",
      "Epoch 14/20\n",
      "\u001b[1m363/363\u001b[0m \u001b[32m━━━━━━━━━━━━━━━━━━━━\u001b[0m\u001b[37m\u001b[0m \u001b[1m1s\u001b[0m 2ms/step - RootMeanSquaredError: 0.5815 - loss: 0.3381 - val_RootMeanSquaredError: 1.2930 - val_loss: 1.6719\n",
      "Epoch 15/20\n",
      "\u001b[1m363/363\u001b[0m \u001b[32m━━━━━━━━━━━━━━━━━━━━\u001b[0m\u001b[37m\u001b[0m \u001b[1m1s\u001b[0m 3ms/step - RootMeanSquaredError: 0.5851 - loss: 0.3424 - val_RootMeanSquaredError: 1.3622 - val_loss: 1.8555\n",
      "Epoch 16/20\n",
      "\u001b[1m363/363\u001b[0m \u001b[32m━━━━━━━━━━━━━━━━━━━━\u001b[0m\u001b[37m\u001b[0m \u001b[1m1s\u001b[0m 3ms/step - RootMeanSquaredError: 0.5943 - loss: 0.3532 - val_RootMeanSquaredError: 0.8866 - val_loss: 0.7860\n",
      "Epoch 17/20\n",
      "\u001b[1m363/363\u001b[0m \u001b[32m━━━━━━━━━━━━━━━━━━━━\u001b[0m\u001b[37m\u001b[0m \u001b[1m1s\u001b[0m 3ms/step - RootMeanSquaredError: 0.5767 - loss: 0.3325 - val_RootMeanSquaredError: 0.5691 - val_loss: 0.3239\n",
      "Epoch 18/20\n",
      "\u001b[1m363/363\u001b[0m \u001b[32m━━━━━━━━━━━━━━━━━━━━\u001b[0m\u001b[37m\u001b[0m \u001b[1m1s\u001b[0m 3ms/step - RootMeanSquaredError: 0.5742 - loss: 0.3297 - val_RootMeanSquaredError: 0.6530 - val_loss: 0.4264\n",
      "Epoch 19/20\n",
      "\u001b[1m363/363\u001b[0m \u001b[32m━━━━━━━━━━━━━━━━━━━━\u001b[0m\u001b[37m\u001b[0m \u001b[1m1s\u001b[0m 3ms/step - RootMeanSquaredError: 0.5720 - loss: 0.3272 - val_RootMeanSquaredError: 0.5521 - val_loss: 0.3048\n",
      "Epoch 20/20\n",
      "\u001b[1m363/363\u001b[0m \u001b[32m━━━━━━━━━━━━━━━━━━━━\u001b[0m\u001b[37m\u001b[0m \u001b[1m1s\u001b[0m 3ms/step - RootMeanSquaredError: 0.5758 - loss: 0.3315 - val_RootMeanSquaredError: 0.9616 - val_loss: 0.9247\n",
      "\u001b[1m162/162\u001b[0m \u001b[32m━━━━━━━━━━━━━━━━━━━━\u001b[0m\u001b[37m\u001b[0m \u001b[1m0s\u001b[0m 2ms/step - RootMeanSquaredError: 0.5703 - loss: 0.3252\n",
      "\u001b[1m1/1\u001b[0m \u001b[32m━━━━━━━━━━━━━━━━━━━━\u001b[0m\u001b[37m\u001b[0m \u001b[1m0s\u001b[0m 100ms/step\n"
     ]
    }
   ],
   "source": [
    "norm_layer_wide.adapt(X_train_wide)\n",
    "norm_layer_deep.adapt(X_train_deep)\n",
    "\n",
    "history = model.fit((X_train_wide, X_train_deep), y_train, epochs=20, validation_data=((X_valid_wide, X_valid_deep), y_valid))\n",
    "\n",
    "mse_test = model.evaluate((X_test_wide, X_test_deep), y_test)\n",
    "y_pred = model.predict((X_new_wide, X_new_deep))"
   ]
  },
  {
   "cell_type": "markdown",
   "id": "6f1e2ae3",
   "metadata": {},
   "source": [
    "There are also many use cases in which you may want to have multiple outputs:\n",
    "\n",
    "The task may demand it. For instance, you may want to locate and classify the main object in a picture. This is both a regression tasks and a classification task.\n",
    "\n",
    "Similarly, you may have multiple independent tasks based on the same data. Sure, you could train one neural network per task, but in many cases you will get better results on all tasks by training a single neural network with one output per task. This is because the neural network can learn features in the data that are useful across tasks. For example, you could perform multitask classification on pictures of faces, using one output to classify the person’s facial expression (smiling, surprised, etc.) and another output to identify whether they are wearing glasses or not.\n",
    "\n",
    "\n",
    "Another use case is as a regularization technique (i.e., a trainingconstraint whose objective is to reduce overfitting and thus improve the model’s ability to generalize). For example, you may want to add an auxiliary output in a neural network architecture (see Figure 10-15) to ensure that the underlying part of the network learns something useful on its own, without relying on the rest of the network.\n",
    "\n",
    "<img src=\"https://raw.githubusercontent.com/sambitmukherjee/handson-ml3-pytorch/main/chapter10/Figure_10-15.png\" width=\"480\">\n",
    "\n",
    "Adding an extra output is quite easy: we just connect it to the appropriate layer and add it to the model’s list of outputs. For example, the following code builds the network represented in Figure 10-15:"
   ]
  },
  {
   "cell_type": "code",
   "execution_count": 10,
   "id": "92d66bf0",
   "metadata": {},
   "outputs": [],
   "source": [
    "output = tf.keras.layers.Dense(1)(concat)\n",
    "aux_output = tf.keras.layers.Dense(1)(hidden2)\n",
    "\n",
    "model = tf.keras.Model(inputs=[input_wide, input_deep],outputs=[output, aux_output])"
   ]
  },
  {
   "cell_type": "code",
   "execution_count": 11,
   "id": "149e523e",
   "metadata": {},
   "outputs": [],
   "source": [
    "optimizer = tf.keras.optimizers.Adam(learning_rate=1e-3)\n",
    "\n",
    "model.compile(loss=(\"mse\", \"mse\"), loss_weights=(0.9, 0.1), optimizer=optimizer, metrics=[['RootMeanSquaredError'], ['RootMeanSquaredError']])"
   ]
  },
  {
   "cell_type": "code",
   "execution_count": 12,
   "id": "331634fe",
   "metadata": {},
   "outputs": [
    {
     "name": "stdout",
     "output_type": "stream",
     "text": [
      "Epoch 1/20\n",
      "\u001b[1m363/363\u001b[0m \u001b[32m━━━━━━━━━━━━━━━━━━━━\u001b[0m\u001b[37m\u001b[0m \u001b[1m4s\u001b[0m 4ms/step - dense_6_RootMeanSquaredError: 1.1449 - dense_6_loss: 1.3105 - dense_7_RootMeanSquaredError: 1.3853 - dense_7_loss: 1.9187 - loss: 1.3717 - val_dense_6_RootMeanSquaredError: 1.1665 - val_dense_6_loss: 1.3601 - val_dense_7_RootMeanSquaredError: 2.3876 - val_dense_7_loss: 5.6980 - val_loss: 1.7946\n",
      "Epoch 2/20\n",
      "\u001b[1m363/363\u001b[0m \u001b[32m━━━━━━━━━━━━━━━━━━━━\u001b[0m\u001b[37m\u001b[0m \u001b[1m1s\u001b[0m 3ms/step - dense_6_RootMeanSquaredError: 0.6336 - dense_6_loss: 0.4015 - dense_7_RootMeanSquaredError: 0.8690 - dense_7_loss: 0.7551 - loss: 0.4369 - val_dense_6_RootMeanSquaredError: 0.6647 - val_dense_6_loss: 0.4418 - val_dense_7_RootMeanSquaredError: 2.0186 - val_dense_7_loss: 4.0730 - val_loss: 0.8052\n",
      "Epoch 3/20\n",
      "\u001b[1m363/363\u001b[0m \u001b[32m━━━━━━━━━━━━━━━━━━━━\u001b[0m\u001b[37m\u001b[0m \u001b[1m1s\u001b[0m 3ms/step - dense_6_RootMeanSquaredError: 0.6076 - dense_6_loss: 0.3691 - dense_7_RootMeanSquaredError: 0.7535 - dense_7_loss: 0.5677 - loss: 0.3890 - val_dense_6_RootMeanSquaredError: 0.6244 - val_dense_6_loss: 0.3899 - val_dense_7_RootMeanSquaredError: 1.6693 - val_dense_7_loss: 2.7855 - val_loss: 0.6296\n",
      "Epoch 4/20\n",
      "\u001b[1m363/363\u001b[0m \u001b[32m━━━━━━━━━━━━━━━━━━━━\u001b[0m\u001b[37m\u001b[0m \u001b[1m1s\u001b[0m 3ms/step - dense_6_RootMeanSquaredError: 0.5947 - dense_6_loss: 0.3537 - dense_7_RootMeanSquaredError: 0.7064 - dense_7_loss: 0.4991 - loss: 0.3682 - val_dense_6_RootMeanSquaredError: 0.5765 - val_dense_6_loss: 0.3322 - val_dense_7_RootMeanSquaredError: 1.4141 - val_dense_7_loss: 1.9989 - val_loss: 0.4990\n",
      "Epoch 5/20\n",
      "\u001b[1m363/363\u001b[0m \u001b[32m━━━━━━━━━━━━━━━━━━━━\u001b[0m\u001b[37m\u001b[0m \u001b[1m1s\u001b[0m 4ms/step - dense_6_RootMeanSquaredError: 0.5878 - dense_6_loss: 0.3454 - dense_7_RootMeanSquaredError: 0.6805 - dense_7_loss: 0.4630 - loss: 0.3572 - val_dense_6_RootMeanSquaredError: 0.5912 - val_dense_6_loss: 0.3495 - val_dense_7_RootMeanSquaredError: 1.1046 - val_dense_7_loss: 1.2197 - val_loss: 0.4366\n",
      "Epoch 6/20\n",
      "\u001b[1m363/363\u001b[0m \u001b[32m━━━━━━━━━━━━━━━━━━━━\u001b[0m\u001b[37m\u001b[0m \u001b[1m1s\u001b[0m 3ms/step - dense_6_RootMeanSquaredError: 0.5846 - dense_6_loss: 0.3418 - dense_7_RootMeanSquaredError: 0.6616 - dense_7_loss: 0.4379 - loss: 0.3513 - val_dense_6_RootMeanSquaredError: 0.6087 - val_dense_6_loss: 0.3704 - val_dense_7_RootMeanSquaredError: 1.0214 - val_dense_7_loss: 1.0429 - val_loss: 0.4378\n",
      "Epoch 7/20\n",
      "\u001b[1m363/363\u001b[0m \u001b[32m━━━━━━━━━━━━━━━━━━━━\u001b[0m\u001b[37m\u001b[0m \u001b[1m1s\u001b[0m 4ms/step - dense_6_RootMeanSquaredError: 0.5825 - dense_6_loss: 0.3392 - dense_7_RootMeanSquaredError: 0.6516 - dense_7_loss: 0.4246 - loss: 0.3478 - val_dense_6_RootMeanSquaredError: 0.6292 - val_dense_6_loss: 0.3958 - val_dense_7_RootMeanSquaredError: 0.9214 - val_dense_7_loss: 0.8487 - val_loss: 0.4412\n",
      "Epoch 8/20\n",
      "\u001b[1m363/363\u001b[0m \u001b[32m━━━━━━━━━━━━━━━━━━━━\u001b[0m\u001b[37m\u001b[0m \u001b[1m1s\u001b[0m 3ms/step - dense_6_RootMeanSquaredError: 0.5849 - dense_6_loss: 0.3421 - dense_7_RootMeanSquaredError: 0.6442 - dense_7_loss: 0.4150 - loss: 0.3494 - val_dense_6_RootMeanSquaredError: 1.0858 - val_dense_6_loss: 1.1785 - val_dense_7_RootMeanSquaredError: 0.8171 - val_dense_7_loss: 0.6675 - val_loss: 1.1279\n",
      "Epoch 9/20\n",
      "\u001b[1m363/363\u001b[0m \u001b[32m━━━━━━━━━━━━━━━━━━━━\u001b[0m\u001b[37m\u001b[0m \u001b[1m1s\u001b[0m 3ms/step - dense_6_RootMeanSquaredError: 0.5809 - dense_6_loss: 0.3374 - dense_7_RootMeanSquaredError: 0.6397 - dense_7_loss: 0.4092 - loss: 0.3447 - val_dense_6_RootMeanSquaredError: 0.7561 - val_dense_6_loss: 0.5715 - val_dense_7_RootMeanSquaredError: 0.7480 - val_dense_7_loss: 0.5594 - val_loss: 0.5705\n",
      "Epoch 10/20\n",
      "\u001b[1m363/363\u001b[0m \u001b[32m━━━━━━━━━━━━━━━━━━━━\u001b[0m\u001b[37m\u001b[0m \u001b[1m1s\u001b[0m 3ms/step - dense_6_RootMeanSquaredError: 0.5792 - dense_6_loss: 0.3353 - dense_7_RootMeanSquaredError: 0.6352 - dense_7_loss: 0.4033 - loss: 0.3422 - val_dense_6_RootMeanSquaredError: 0.8315 - val_dense_6_loss: 0.6911 - val_dense_7_RootMeanSquaredError: 0.7688 - val_dense_7_loss: 0.5908 - val_loss: 0.6813\n",
      "Epoch 11/20\n",
      "\u001b[1m363/363\u001b[0m \u001b[32m━━━━━━━━━━━━━━━━━━━━\u001b[0m\u001b[37m\u001b[0m \u001b[1m1s\u001b[0m 3ms/step - dense_6_RootMeanSquaredError: 0.5749 - dense_6_loss: 0.3304 - dense_7_RootMeanSquaredError: 0.6303 - dense_7_loss: 0.3972 - loss: 0.3371 - val_dense_6_RootMeanSquaredError: 0.5652 - val_dense_6_loss: 0.3193 - val_dense_7_RootMeanSquaredError: 0.7106 - val_dense_7_loss: 0.5048 - val_loss: 0.3380\n",
      "Epoch 12/20\n",
      "\u001b[1m363/363\u001b[0m \u001b[32m━━━━━━━━━━━━━━━━━━━━\u001b[0m\u001b[37m\u001b[0m \u001b[1m1s\u001b[0m 3ms/step - dense_6_RootMeanSquaredError: 0.5720 - dense_6_loss: 0.3272 - dense_7_RootMeanSquaredError: 0.6272 - dense_7_loss: 0.3935 - loss: 0.3338 - val_dense_6_RootMeanSquaredError: 0.7404 - val_dense_6_loss: 0.5480 - val_dense_7_RootMeanSquaredError: 0.8168 - val_dense_7_loss: 0.6670 - val_loss: 0.5601\n",
      "Epoch 13/20\n",
      "\u001b[1m363/363\u001b[0m \u001b[32m━━━━━━━━━━━━━━━━━━━━\u001b[0m\u001b[37m\u001b[0m \u001b[1m1s\u001b[0m 3ms/step - dense_6_RootMeanSquaredError: 0.5699 - dense_6_loss: 0.3247 - dense_7_RootMeanSquaredError: 0.6251 - dense_7_loss: 0.3907 - loss: 0.3314 - val_dense_6_RootMeanSquaredError: 0.5683 - val_dense_6_loss: 0.3229 - val_dense_7_RootMeanSquaredError: 0.6462 - val_dense_7_loss: 0.4176 - val_loss: 0.3324\n",
      "Epoch 14/20\n",
      "\u001b[1m363/363\u001b[0m \u001b[32m━━━━━━━━━━━━━━━━━━━━\u001b[0m\u001b[37m\u001b[0m \u001b[1m1s\u001b[0m 3ms/step - dense_6_RootMeanSquaredError: 0.5760 - dense_6_loss: 0.3317 - dense_7_RootMeanSquaredError: 0.6229 - dense_7_loss: 0.3880 - loss: 0.3374 - val_dense_6_RootMeanSquaredError: 0.6851 - val_dense_6_loss: 0.4692 - val_dense_7_RootMeanSquaredError: 0.7742 - val_dense_7_loss: 0.5992 - val_loss: 0.4823\n",
      "Epoch 15/20\n",
      "\u001b[1m363/363\u001b[0m \u001b[32m━━━━━━━━━━━━━━━━━━━━\u001b[0m\u001b[37m\u001b[0m \u001b[1m1s\u001b[0m 3ms/step - dense_6_RootMeanSquaredError: 0.5697 - dense_6_loss: 0.3245 - dense_7_RootMeanSquaredError: 0.6207 - dense_7_loss: 0.3852 - loss: 0.3306 - val_dense_6_RootMeanSquaredError: 0.6184 - val_dense_6_loss: 0.3823 - val_dense_7_RootMeanSquaredError: 0.6187 - val_dense_7_loss: 0.3828 - val_loss: 0.3824\n",
      "Epoch 16/20\n",
      "\u001b[1m363/363\u001b[0m \u001b[32m━━━━━━━━━━━━━━━━━━━━\u001b[0m\u001b[37m\u001b[0m \u001b[1m1s\u001b[0m 3ms/step - dense_6_RootMeanSquaredError: 0.5648 - dense_6_loss: 0.3190 - dense_7_RootMeanSquaredError: 0.6173 - dense_7_loss: 0.3811 - loss: 0.3252 - val_dense_6_RootMeanSquaredError: 0.9050 - val_dense_6_loss: 0.8188 - val_dense_7_RootMeanSquaredError: 0.8312 - val_dense_7_loss: 0.6907 - val_loss: 0.8063\n",
      "Epoch 17/20\n",
      "\u001b[1m363/363\u001b[0m \u001b[32m━━━━━━━━━━━━━━━━━━━━\u001b[0m\u001b[37m\u001b[0m \u001b[1m1s\u001b[0m 3ms/step - dense_6_RootMeanSquaredError: 0.5649 - dense_6_loss: 0.3191 - dense_7_RootMeanSquaredError: 0.6154 - dense_7_loss: 0.3787 - loss: 0.3251 - val_dense_6_RootMeanSquaredError: 0.7743 - val_dense_6_loss: 0.5993 - val_dense_7_RootMeanSquaredError: 0.6227 - val_dense_7_loss: 0.3877 - val_loss: 0.5783\n",
      "Epoch 18/20\n",
      "\u001b[1m363/363\u001b[0m \u001b[32m━━━━━━━━━━━━━━━━━━━━\u001b[0m\u001b[37m\u001b[0m \u001b[1m1s\u001b[0m 3ms/step - dense_6_RootMeanSquaredError: 0.5672 - dense_6_loss: 0.3217 - dense_7_RootMeanSquaredError: 0.6154 - dense_7_loss: 0.3787 - loss: 0.3274 - val_dense_6_RootMeanSquaredError: 0.9948 - val_dense_6_loss: 0.9891 - val_dense_7_RootMeanSquaredError: 1.0011 - val_dense_7_loss: 1.0018 - val_loss: 0.9908\n",
      "Epoch 19/20\n",
      "\u001b[1m363/363\u001b[0m \u001b[32m━━━━━━━━━━━━━━━━━━━━\u001b[0m\u001b[37m\u001b[0m \u001b[1m1s\u001b[0m 3ms/step - dense_6_RootMeanSquaredError: 0.5645 - dense_6_loss: 0.3187 - dense_7_RootMeanSquaredError: 0.6147 - dense_7_loss: 0.3779 - loss: 0.3246 - val_dense_6_RootMeanSquaredError: 0.6552 - val_dense_6_loss: 0.4291 - val_dense_7_RootMeanSquaredError: 0.7590 - val_dense_7_loss: 0.5759 - val_loss: 0.4439\n",
      "Epoch 20/20\n",
      "\u001b[1m363/363\u001b[0m \u001b[32m━━━━━━━━━━━━━━━━━━━━\u001b[0m\u001b[37m\u001b[0m \u001b[1m1s\u001b[0m 4ms/step - dense_6_RootMeanSquaredError: 0.5621 - dense_6_loss: 0.3161 - dense_7_RootMeanSquaredError: 0.6108 - dense_7_loss: 0.3731 - loss: 0.3217 - val_dense_6_RootMeanSquaredError: 0.9178 - val_dense_6_loss: 0.8420 - val_dense_7_RootMeanSquaredError: 0.7987 - val_dense_7_loss: 0.6378 - val_loss: 0.8219\n"
     ]
    }
   ],
   "source": [
    "norm_layer_wide.adapt(X_train_wide)\n",
    "norm_layer_deep.adapt(X_train_deep)\n",
    "\n",
    "history = model.fit(\n",
    "    (X_train_wide, X_train_deep), (y_train, y_train), epochs=20, \n",
    "    validation_data=((X_valid_wide, X_valid_deep), (y_valid, y_valid))\n",
    ")"
   ]
  },
  {
   "cell_type": "code",
   "execution_count": 13,
   "id": "3b48e5ec",
   "metadata": {},
   "outputs": [
    {
     "name": "stdout",
     "output_type": "stream",
     "text": [
      "\u001b[1m162/162\u001b[0m \u001b[32m━━━━━━━━━━━━━━━━━━━━\u001b[0m\u001b[37m\u001b[0m \u001b[1m1s\u001b[0m 3ms/step - dense_6_RootMeanSquaredError: 0.5702 - dense_6_loss: 0.3246 - dense_7_RootMeanSquaredError: 0.6166 - dense_7_loss: 0.3799 - loss: 0.3307\n"
     ]
    }
   ],
   "source": [
    "eval_results = model.evaluate((X_test_wide, X_test_deep), (y_test, y_test))\n",
    "weighted_sum_of_losses, main_loss, aux_loss, main_rmse, aux_rmse = eval_results"
   ]
  },
  {
   "cell_type": "markdown",
   "id": "d04a9680",
   "metadata": {},
   "source": [
    "If you set return_dict=True, then evaluate() will return a dictionary instead of a big tuple."
   ]
  },
  {
   "cell_type": "code",
   "execution_count": 14,
   "id": "b2928e7e",
   "metadata": {},
   "outputs": [
    {
     "name": "stdout",
     "output_type": "stream",
     "text": [
      "\u001b[1m1/1\u001b[0m \u001b[32m━━━━━━━━━━━━━━━━━━━━\u001b[0m\u001b[37m\u001b[0m \u001b[1m0s\u001b[0m 106ms/step\n"
     ]
    }
   ],
   "source": [
    "y_pred_main, y_pred_aux = model.predict((X_new_wide, X_new_deep))"
   ]
  },
  {
   "cell_type": "code",
   "execution_count": 15,
   "id": "df64c8eb",
   "metadata": {},
   "outputs": [
    {
     "name": "stdout",
     "output_type": "stream",
     "text": [
      "\u001b[1m1/1\u001b[0m \u001b[32m━━━━━━━━━━━━━━━━━━━━\u001b[0m\u001b[37m\u001b[0m \u001b[1m0s\u001b[0m 47ms/step\n"
     ]
    }
   ],
   "source": [
    "y_pred_tuple = model.predict((X_new_wide, X_new_deep))\n",
    "y_pred = dict(zip(model.output_names, y_pred_tuple))"
   ]
  },
  {
   "cell_type": "markdown",
   "id": "4e8fd2be",
   "metadata": {},
   "source": [
    "# Using the Subclassing API to Build Dynamic Models"
   ]
  },
  {
   "cell_type": "code",
   "execution_count": null,
   "id": "3ef45a89",
   "metadata": {},
   "outputs": [],
   "source": []
  }
 ],
 "metadata": {
  "kernelspec": {
   "display_name": "venv",
   "language": "python",
   "name": "python3"
  },
  "language_info": {
   "codemirror_mode": {
    "name": "ipython",
    "version": 3
   },
   "file_extension": ".py",
   "mimetype": "text/x-python",
   "name": "python",
   "nbconvert_exporter": "python",
   "pygments_lexer": "ipython3",
   "version": "3.12.3"
  }
 },
 "nbformat": 4,
 "nbformat_minor": 5
}
